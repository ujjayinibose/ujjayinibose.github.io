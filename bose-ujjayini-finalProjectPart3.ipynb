{
 "cells": [
  {
   "cell_type": "markdown",
   "id": "327a825b",
   "metadata": {},
   "source": [
    "# Final Project  IS 445: Netflix Show Popularity \n",
    "\n",
    "#### Part 3\n",
    "Team members: Ankita Singh (arsingh3) & Ujjayini Bose(ubose3)"
   ]
  },
  {
   "cell_type": "markdown",
   "id": "d8029755",
   "metadata": {},
   "source": [
    "#### We wanted to perform analysis on popularity of shows on Netflix based on user rating, category and year of release. Tha dataset has several factors like rating of the show and its relation with the user rating, also the user rating size which indicates the size of the users. There can be a show with less user rating size but good ratings and a show with more user rating size but average rating. Let's see the results below"
   ]
  },
  {
   "cell_type": "markdown",
   "id": "91dea3ac",
   "metadata": {},
   "source": [
    "#### Importing the required libraries"
   ]
  },
  {
   "cell_type": "code",
   "execution_count": 19,
   "id": "9ef1ae71",
   "metadata": {},
   "outputs": [
    {
     "name": "stdout",
     "output_type": "stream",
     "text": [
      "Requirement already satisfied: plotly in c:\\users\\ujjay\\anaconda3\\envs\\dataviz\\lib\\site-packages (5.7.0)\n",
      "Requirement already satisfied: six in c:\\users\\ujjay\\anaconda3\\envs\\dataviz\\lib\\site-packages (from plotly) (1.16.0)\n",
      "Requirement already satisfied: tenacity>=6.2.0 in c:\\users\\ujjay\\anaconda3\\envs\\dataviz\\lib\\site-packages (from plotly) (8.0.1)\n",
      "Note: you may need to restart the kernel to use updated packages.\n"
     ]
    }
   ],
   "source": [
    "pip install plotly"
   ]
  },
  {
   "cell_type": "code",
   "execution_count": 20,
   "id": "033e98bb",
   "metadata": {},
   "outputs": [
    {
     "name": "stdout",
     "output_type": "stream",
     "text": [
      "Requirement already satisfied: wordcloud in c:\\users\\ujjay\\anaconda3\\envs\\dataviz\\lib\\site-packages (1.8.1)\n",
      "Requirement already satisfied: matplotlib in c:\\users\\ujjay\\anaconda3\\envs\\dataviz\\lib\\site-packages (from wordcloud) (3.2.2)\n",
      "Requirement already satisfied: pillow in c:\\users\\ujjay\\anaconda3\\envs\\dataviz\\lib\\site-packages (from wordcloud) (8.4.0)\n",
      "Requirement already satisfied: numpy>=1.6.1 in c:\\users\\ujjay\\anaconda3\\envs\\dataviz\\lib\\site-packages (from wordcloud) (1.21.5)\n",
      "Requirement already satisfied: kiwisolver>=1.0.1 in c:\\users\\ujjay\\anaconda3\\envs\\dataviz\\lib\\site-packages (from matplotlib->wordcloud) (1.3.2)\n",
      "Requirement already satisfied: pyparsing!=2.0.4,!=2.1.2,!=2.1.6,>=2.0.1 in c:\\users\\ujjay\\anaconda3\\envs\\dataviz\\lib\\site-packages (from matplotlib->wordcloud) (3.0.7)\n",
      "Requirement already satisfied: python-dateutil>=2.1 in c:\\users\\ujjay\\anaconda3\\envs\\dataviz\\lib\\site-packages (from matplotlib->wordcloud) (2.8.2)\n",
      "Requirement already satisfied: cycler>=0.10 in c:\\users\\ujjay\\anaconda3\\envs\\dataviz\\lib\\site-packages (from matplotlib->wordcloud) (0.11.0)\n",
      "Requirement already satisfied: six>=1.5 in c:\\users\\ujjay\\anaconda3\\envs\\dataviz\\lib\\site-packages (from python-dateutil>=2.1->matplotlib->wordcloud) (1.16.0)\n"
     ]
    }
   ],
   "source": [
    "!pip install wordcloud"
   ]
  },
  {
   "cell_type": "code",
   "execution_count": 21,
   "id": "a0597168",
   "metadata": {},
   "outputs": [
    {
     "name": "stdout",
     "output_type": "stream",
     "text": [
      "Requirement already satisfied: openpyxl in c:\\users\\ujjay\\anaconda3\\envs\\dataviz\\lib\\site-packages (3.0.9)\n",
      "Requirement already satisfied: et-xmlfile in c:\\users\\ujjay\\anaconda3\\envs\\dataviz\\lib\\site-packages (from openpyxl) (1.0.1)\n",
      "Note: you may need to restart the kernel to use updated packages.\n"
     ]
    }
   ],
   "source": [
    "pip install openpyxl"
   ]
  },
  {
   "cell_type": "code",
   "execution_count": 22,
   "id": "d2fe127b",
   "metadata": {},
   "outputs": [],
   "source": [
    "%matplotlib inline\n",
    "import pandas as pd\n",
    "import matplotlib.pyplot as plt\n",
    "import ipywidgets\n",
    "import numpy as np\n",
    "import plotly.express as px\n",
    "import seaborn as sns\n",
    "from ipywidgets import interactive"
   ]
  },
  {
   "cell_type": "markdown",
   "id": "f47c874a",
   "metadata": {},
   "source": [
    "#### Reading in the Netflix dataset"
   ]
  },
  {
   "cell_type": "code",
   "execution_count": 23,
   "id": "41504fc4",
   "metadata": {},
   "outputs": [
    {
     "data": {
      "text/html": [
       "<div>\n",
       "<style scoped>\n",
       "    .dataframe tbody tr th:only-of-type {\n",
       "        vertical-align: middle;\n",
       "    }\n",
       "\n",
       "    .dataframe tbody tr th {\n",
       "        vertical-align: top;\n",
       "    }\n",
       "\n",
       "    .dataframe thead th {\n",
       "        text-align: right;\n",
       "    }\n",
       "</style>\n",
       "<table border=\"1\" class=\"dataframe\">\n",
       "  <thead>\n",
       "    <tr style=\"text-align: right;\">\n",
       "      <th></th>\n",
       "      <th>title</th>\n",
       "      <th>rating</th>\n",
       "      <th>ratingLevel</th>\n",
       "      <th>ratingDescription</th>\n",
       "      <th>release year</th>\n",
       "      <th>user rating score</th>\n",
       "      <th>user rating size</th>\n",
       "    </tr>\n",
       "  </thead>\n",
       "  <tbody>\n",
       "    <tr>\n",
       "      <th>0</th>\n",
       "      <td>White Chicks</td>\n",
       "      <td>PG-13</td>\n",
       "      <td>crude and sexual humor, language and some drug...</td>\n",
       "      <td>80</td>\n",
       "      <td>2004</td>\n",
       "      <td>82.0</td>\n",
       "      <td>80</td>\n",
       "    </tr>\n",
       "    <tr>\n",
       "      <th>1</th>\n",
       "      <td>Lucky Number Slevin</td>\n",
       "      <td>R</td>\n",
       "      <td>strong violence, sexual content and adult lang...</td>\n",
       "      <td>100</td>\n",
       "      <td>2006</td>\n",
       "      <td>NaN</td>\n",
       "      <td>82</td>\n",
       "    </tr>\n",
       "    <tr>\n",
       "      <th>2</th>\n",
       "      <td>Grey's Anatomy</td>\n",
       "      <td>TV-14</td>\n",
       "      <td>Parents strongly cautioned. May be unsuitable ...</td>\n",
       "      <td>90</td>\n",
       "      <td>2016</td>\n",
       "      <td>98.0</td>\n",
       "      <td>80</td>\n",
       "    </tr>\n",
       "    <tr>\n",
       "      <th>3</th>\n",
       "      <td>Prison Break</td>\n",
       "      <td>TV-14</td>\n",
       "      <td>Parents strongly cautioned. May be unsuitable ...</td>\n",
       "      <td>90</td>\n",
       "      <td>2008</td>\n",
       "      <td>98.0</td>\n",
       "      <td>80</td>\n",
       "    </tr>\n",
       "    <tr>\n",
       "      <th>4</th>\n",
       "      <td>How I Met Your Mother</td>\n",
       "      <td>TV-PG</td>\n",
       "      <td>Parental guidance suggested. May not be suitab...</td>\n",
       "      <td>70</td>\n",
       "      <td>2014</td>\n",
       "      <td>94.0</td>\n",
       "      <td>80</td>\n",
       "    </tr>\n",
       "    <tr>\n",
       "      <th>...</th>\n",
       "      <td>...</td>\n",
       "      <td>...</td>\n",
       "      <td>...</td>\n",
       "      <td>...</td>\n",
       "      <td>...</td>\n",
       "      <td>...</td>\n",
       "      <td>...</td>\n",
       "    </tr>\n",
       "    <tr>\n",
       "      <th>995</th>\n",
       "      <td>The BFG</td>\n",
       "      <td>PG</td>\n",
       "      <td>for action/peril, some scary moments and brief...</td>\n",
       "      <td>60</td>\n",
       "      <td>2016</td>\n",
       "      <td>97.0</td>\n",
       "      <td>80</td>\n",
       "    </tr>\n",
       "    <tr>\n",
       "      <th>996</th>\n",
       "      <td>The Secret Life of Pets</td>\n",
       "      <td>PG</td>\n",
       "      <td>for action and some rude humor</td>\n",
       "      <td>60</td>\n",
       "      <td>2016</td>\n",
       "      <td>NaN</td>\n",
       "      <td>81</td>\n",
       "    </tr>\n",
       "    <tr>\n",
       "      <th>997</th>\n",
       "      <td>Precious Puppies</td>\n",
       "      <td>TV-G</td>\n",
       "      <td>Suitable for all ages.</td>\n",
       "      <td>35</td>\n",
       "      <td>2003</td>\n",
       "      <td>NaN</td>\n",
       "      <td>82</td>\n",
       "    </tr>\n",
       "    <tr>\n",
       "      <th>998</th>\n",
       "      <td>Beary Tales</td>\n",
       "      <td>TV-G</td>\n",
       "      <td>Suitable for all ages.</td>\n",
       "      <td>35</td>\n",
       "      <td>2013</td>\n",
       "      <td>NaN</td>\n",
       "      <td>82</td>\n",
       "    </tr>\n",
       "    <tr>\n",
       "      <th>999</th>\n",
       "      <td>Growing Up Wild</td>\n",
       "      <td>G</td>\n",
       "      <td>NaN</td>\n",
       "      <td>35</td>\n",
       "      <td>2016</td>\n",
       "      <td>80.0</td>\n",
       "      <td>80</td>\n",
       "    </tr>\n",
       "  </tbody>\n",
       "</table>\n",
       "<p>1000 rows × 7 columns</p>\n",
       "</div>"
      ],
      "text/plain": [
       "                       title rating  \\\n",
       "0               White Chicks  PG-13   \n",
       "1        Lucky Number Slevin      R   \n",
       "2             Grey's Anatomy  TV-14   \n",
       "3               Prison Break  TV-14   \n",
       "4      How I Met Your Mother  TV-PG   \n",
       "..                       ...    ...   \n",
       "995                  The BFG     PG   \n",
       "996  The Secret Life of Pets     PG   \n",
       "997         Precious Puppies   TV-G   \n",
       "998              Beary Tales   TV-G   \n",
       "999          Growing Up Wild      G   \n",
       "\n",
       "                                           ratingLevel  ratingDescription  \\\n",
       "0    crude and sexual humor, language and some drug...                 80   \n",
       "1    strong violence, sexual content and adult lang...                100   \n",
       "2    Parents strongly cautioned. May be unsuitable ...                 90   \n",
       "3    Parents strongly cautioned. May be unsuitable ...                 90   \n",
       "4    Parental guidance suggested. May not be suitab...                 70   \n",
       "..                                                 ...                ...   \n",
       "995  for action/peril, some scary moments and brief...                 60   \n",
       "996                     for action and some rude humor                 60   \n",
       "997                             Suitable for all ages.                 35   \n",
       "998                             Suitable for all ages.                 35   \n",
       "999                                                NaN                 35   \n",
       "\n",
       "     release year  user rating score  user rating size  \n",
       "0            2004               82.0                80  \n",
       "1            2006                NaN                82  \n",
       "2            2016               98.0                80  \n",
       "3            2008               98.0                80  \n",
       "4            2014               94.0                80  \n",
       "..            ...                ...               ...  \n",
       "995          2016               97.0                80  \n",
       "996          2016                NaN                81  \n",
       "997          2003                NaN                82  \n",
       "998          2013                NaN                82  \n",
       "999          2016               80.0                80  \n",
       "\n",
       "[1000 rows x 7 columns]"
      ]
     },
     "execution_count": 23,
     "metadata": {},
     "output_type": "execute_result"
    }
   ],
   "source": [
    "df = pd.read_excel('https://query.data.world/s/7x6n4kcl6ylroxel34djxmyovxfxyt')\n",
    "df"
   ]
  },
  {
   "cell_type": "markdown",
   "id": "a51454e9",
   "metadata": {},
   "source": [
    "#### Renaming column names for clarity"
   ]
  },
  {
   "cell_type": "code",
   "execution_count": 24,
   "id": "bdc56d09",
   "metadata": {
    "scrolled": true
   },
   "outputs": [
    {
     "data": {
      "text/html": [
       "<div>\n",
       "<style scoped>\n",
       "    .dataframe tbody tr th:only-of-type {\n",
       "        vertical-align: middle;\n",
       "    }\n",
       "\n",
       "    .dataframe tbody tr th {\n",
       "        vertical-align: top;\n",
       "    }\n",
       "\n",
       "    .dataframe thead th {\n",
       "        text-align: right;\n",
       "    }\n",
       "</style>\n",
       "<table border=\"1\" class=\"dataframe\">\n",
       "  <thead>\n",
       "    <tr style=\"text-align: right;\">\n",
       "      <th></th>\n",
       "      <th>Show Title</th>\n",
       "      <th>Category</th>\n",
       "      <th>Rating_level</th>\n",
       "      <th>Rating Description</th>\n",
       "      <th>Release Year</th>\n",
       "      <th>User Rating Score</th>\n",
       "      <th>User Rating Size</th>\n",
       "    </tr>\n",
       "  </thead>\n",
       "  <tbody>\n",
       "    <tr>\n",
       "      <th>0</th>\n",
       "      <td>White Chicks</td>\n",
       "      <td>PG-13</td>\n",
       "      <td>crude and sexual humor, language and some drug...</td>\n",
       "      <td>80</td>\n",
       "      <td>2004</td>\n",
       "      <td>82.0</td>\n",
       "      <td>80</td>\n",
       "    </tr>\n",
       "    <tr>\n",
       "      <th>1</th>\n",
       "      <td>Lucky Number Slevin</td>\n",
       "      <td>R</td>\n",
       "      <td>strong violence, sexual content and adult lang...</td>\n",
       "      <td>100</td>\n",
       "      <td>2006</td>\n",
       "      <td>NaN</td>\n",
       "      <td>82</td>\n",
       "    </tr>\n",
       "    <tr>\n",
       "      <th>2</th>\n",
       "      <td>Grey's Anatomy</td>\n",
       "      <td>TV-14</td>\n",
       "      <td>Parents strongly cautioned. May be unsuitable ...</td>\n",
       "      <td>90</td>\n",
       "      <td>2016</td>\n",
       "      <td>98.0</td>\n",
       "      <td>80</td>\n",
       "    </tr>\n",
       "    <tr>\n",
       "      <th>3</th>\n",
       "      <td>Prison Break</td>\n",
       "      <td>TV-14</td>\n",
       "      <td>Parents strongly cautioned. May be unsuitable ...</td>\n",
       "      <td>90</td>\n",
       "      <td>2008</td>\n",
       "      <td>98.0</td>\n",
       "      <td>80</td>\n",
       "    </tr>\n",
       "    <tr>\n",
       "      <th>4</th>\n",
       "      <td>How I Met Your Mother</td>\n",
       "      <td>TV-PG</td>\n",
       "      <td>Parental guidance suggested. May not be suitab...</td>\n",
       "      <td>70</td>\n",
       "      <td>2014</td>\n",
       "      <td>94.0</td>\n",
       "      <td>80</td>\n",
       "    </tr>\n",
       "  </tbody>\n",
       "</table>\n",
       "</div>"
      ],
      "text/plain": [
       "              Show Title Category  \\\n",
       "0           White Chicks    PG-13   \n",
       "1    Lucky Number Slevin        R   \n",
       "2         Grey's Anatomy    TV-14   \n",
       "3           Prison Break    TV-14   \n",
       "4  How I Met Your Mother    TV-PG   \n",
       "\n",
       "                                        Rating_level  Rating Description  \\\n",
       "0  crude and sexual humor, language and some drug...                  80   \n",
       "1  strong violence, sexual content and adult lang...                 100   \n",
       "2  Parents strongly cautioned. May be unsuitable ...                  90   \n",
       "3  Parents strongly cautioned. May be unsuitable ...                  90   \n",
       "4  Parental guidance suggested. May not be suitab...                  70   \n",
       "\n",
       "   Release Year  User Rating Score  User Rating Size  \n",
       "0          2004               82.0                80  \n",
       "1          2006                NaN                82  \n",
       "2          2016               98.0                80  \n",
       "3          2008               98.0                80  \n",
       "4          2014               94.0                80  "
      ]
     },
     "execution_count": 24,
     "metadata": {},
     "output_type": "execute_result"
    }
   ],
   "source": [
    "df.columns = ['Show Title', 'Category', 'Rating_level', 'Rating Description', 'Release Year', 'User Rating Score', 'User Rating Size']\n",
    "df.head()"
   ]
  },
  {
   "cell_type": "markdown",
   "id": "abd5cd30",
   "metadata": {},
   "source": [
    "#### Filling in null values to avoid discrepancy and to check the data type of each columns"
   ]
  },
  {
   "cell_type": "code",
   "execution_count": 25,
   "id": "e592f8bf",
   "metadata": {
    "scrolled": true
   },
   "outputs": [
    {
     "name": "stdout",
     "output_type": "stream",
     "text": [
      "<class 'pandas.core.frame.DataFrame'>\n",
      "RangeIndex: 1000 entries, 0 to 999\n",
      "Data columns (total 7 columns):\n",
      " #   Column              Non-Null Count  Dtype  \n",
      "---  ------              --------------  -----  \n",
      " 0   Show Title          1000 non-null   object \n",
      " 1   Category            1000 non-null   object \n",
      " 2   Rating_level        1000 non-null   object \n",
      " 3   Rating Description  1000 non-null   int64  \n",
      " 4   Release Year        1000 non-null   int64  \n",
      " 5   User Rating Score   1000 non-null   float64\n",
      " 6   User Rating Size    1000 non-null   int64  \n",
      "dtypes: float64(1), int64(3), object(3)\n",
      "memory usage: 54.8+ KB\n"
     ]
    }
   ],
   "source": [
    "df = df.fillna(0)\n",
    "df.info()"
   ]
  },
  {
   "cell_type": "markdown",
   "id": "eba0d3a1",
   "metadata": {},
   "source": [
    "From the above output, we have 3 columns as object which means the value is stored in string format. We have remaining 3 as integers and float as seen in the output year. The total number of columns are initially 1000 but after dropping null values, it is 574. \n",
    "\n",
    "Netflix is the top OTT platform with many of its original series being massive hits. The dataset provides a list of shows along with attributes like release year, user rating, rating level, etc. The column names are self explanatory. Let's analyse the count and uniqueness of few columns"
   ]
  },
  {
   "cell_type": "markdown",
   "id": "a1698de6",
   "metadata": {},
   "source": [
    "#### Converting the data type of the Show Title, Category, Rating level into String since Object type gives error when passed into values of interactive charts."
   ]
  },
  {
   "cell_type": "code",
   "execution_count": 26,
   "id": "ecaafd15",
   "metadata": {
    "scrolled": true
   },
   "outputs": [
    {
     "data": {
      "text/html": [
       "<div>\n",
       "<style scoped>\n",
       "    .dataframe tbody tr th:only-of-type {\n",
       "        vertical-align: middle;\n",
       "    }\n",
       "\n",
       "    .dataframe tbody tr th {\n",
       "        vertical-align: top;\n",
       "    }\n",
       "\n",
       "    .dataframe thead th {\n",
       "        text-align: right;\n",
       "    }\n",
       "</style>\n",
       "<table border=\"1\" class=\"dataframe\">\n",
       "  <thead>\n",
       "    <tr style=\"text-align: right;\">\n",
       "      <th></th>\n",
       "      <th>Show Title</th>\n",
       "      <th>Category</th>\n",
       "      <th>Rating_level</th>\n",
       "      <th>Rating Description</th>\n",
       "      <th>Release Year</th>\n",
       "      <th>User Rating Score</th>\n",
       "      <th>User Rating Size</th>\n",
       "      <th>Rating level</th>\n",
       "    </tr>\n",
       "  </thead>\n",
       "  <tbody>\n",
       "    <tr>\n",
       "      <th>0</th>\n",
       "      <td>White Chicks</td>\n",
       "      <td>PG-13</td>\n",
       "      <td>crude and sexual humor, language and some drug...</td>\n",
       "      <td>80</td>\n",
       "      <td>2004</td>\n",
       "      <td>82.0</td>\n",
       "      <td>80</td>\n",
       "      <td>crude and sexual humor, language and some drug...</td>\n",
       "    </tr>\n",
       "    <tr>\n",
       "      <th>1</th>\n",
       "      <td>Lucky Number Slevin</td>\n",
       "      <td>R</td>\n",
       "      <td>strong violence, sexual content and adult lang...</td>\n",
       "      <td>100</td>\n",
       "      <td>2006</td>\n",
       "      <td>0.0</td>\n",
       "      <td>82</td>\n",
       "      <td>strong violence, sexual content and adult lang...</td>\n",
       "    </tr>\n",
       "    <tr>\n",
       "      <th>2</th>\n",
       "      <td>Grey's Anatomy</td>\n",
       "      <td>TV-14</td>\n",
       "      <td>Parents strongly cautioned. May be unsuitable ...</td>\n",
       "      <td>90</td>\n",
       "      <td>2016</td>\n",
       "      <td>98.0</td>\n",
       "      <td>80</td>\n",
       "      <td>Parents strongly cautioned. May be unsuitable ...</td>\n",
       "    </tr>\n",
       "    <tr>\n",
       "      <th>3</th>\n",
       "      <td>Prison Break</td>\n",
       "      <td>TV-14</td>\n",
       "      <td>Parents strongly cautioned. May be unsuitable ...</td>\n",
       "      <td>90</td>\n",
       "      <td>2008</td>\n",
       "      <td>98.0</td>\n",
       "      <td>80</td>\n",
       "      <td>Parents strongly cautioned. May be unsuitable ...</td>\n",
       "    </tr>\n",
       "    <tr>\n",
       "      <th>4</th>\n",
       "      <td>How I Met Your Mother</td>\n",
       "      <td>TV-PG</td>\n",
       "      <td>Parental guidance suggested. May not be suitab...</td>\n",
       "      <td>70</td>\n",
       "      <td>2014</td>\n",
       "      <td>94.0</td>\n",
       "      <td>80</td>\n",
       "      <td>Parental guidance suggested. May not be suitab...</td>\n",
       "    </tr>\n",
       "  </tbody>\n",
       "</table>\n",
       "</div>"
      ],
      "text/plain": [
       "              Show Title Category  \\\n",
       "0           White Chicks    PG-13   \n",
       "1    Lucky Number Slevin        R   \n",
       "2         Grey's Anatomy    TV-14   \n",
       "3           Prison Break    TV-14   \n",
       "4  How I Met Your Mother    TV-PG   \n",
       "\n",
       "                                        Rating_level  Rating Description  \\\n",
       "0  crude and sexual humor, language and some drug...                  80   \n",
       "1  strong violence, sexual content and adult lang...                 100   \n",
       "2  Parents strongly cautioned. May be unsuitable ...                  90   \n",
       "3  Parents strongly cautioned. May be unsuitable ...                  90   \n",
       "4  Parental guidance suggested. May not be suitab...                  70   \n",
       "\n",
       "   Release Year  User Rating Score  User Rating Size  \\\n",
       "0          2004               82.0                80   \n",
       "1          2006                0.0                82   \n",
       "2          2016               98.0                80   \n",
       "3          2008               98.0                80   \n",
       "4          2014               94.0                80   \n",
       "\n",
       "                                        Rating level  \n",
       "0  crude and sexual humor, language and some drug...  \n",
       "1  strong violence, sexual content and adult lang...  \n",
       "2  Parents strongly cautioned. May be unsuitable ...  \n",
       "3  Parents strongly cautioned. May be unsuitable ...  \n",
       "4  Parental guidance suggested. May not be suitab...  "
      ]
     },
     "execution_count": 26,
     "metadata": {},
     "output_type": "execute_result"
    }
   ],
   "source": [
    "df['Show Title'] = df['Show Title'].astype('str')\n",
    "df['Category'] = df['Category'].astype('str')\n",
    "df['Rating level'] = df['Rating_level'].astype('str')\n",
    "df.head()"
   ]
  },
  {
   "cell_type": "markdown",
   "id": "e0199f52",
   "metadata": {},
   "source": [
    "### Word Cloud of the Rating Level of the Content Released"
   ]
  },
  {
   "cell_type": "code",
   "execution_count": 27,
   "id": "84bfc43f",
   "metadata": {},
   "outputs": [
    {
     "name": "stdout",
     "output_type": "stream",
     "text": [
      "51281\n"
     ]
    },
    {
     "data": {
      "image/png": "[encoded data removed]",
      "text/plain": [
       "<Figure size 1440x432 with 1 Axes>"
      ]
     },
     "metadata": {
      "needs_background": "light"
     },
     "output_type": "display_data"
    }
   ],
   "source": [
    "from wordcloud import WordCloud, STOPWORDS,ImageColorGenerator\n",
    "text=\" \".join(str(v) for v in df.Rating_level)\n",
    "print(len(text))\n",
    "wordcloud=WordCloud(background_color=\"black\").generate(text)\n",
    "plt.figure(figsize= (20,6))\n",
    "plt.imshow(wordcloud,interpolation='bilinear')\n",
    "plt.axis(\"off\")\n",
    "plt.show()"
   ]
  },
  {
   "cell_type": "markdown",
   "id": "0c38057e",
   "metadata": {},
   "source": [
    "This word cloud helps us analyze the popular reviews on which the rating level of the shows are based on. Basically, the bigger and bolder the word is, the more frequently it is used and the more relevant it is in a given textual document (rating_level of shows, in our case). Therefore, from the word cloud generated from our dataset, we can understand that shows in our dataset are unsuitable for children and need parental descretion and a cautious audience."
   ]
  },
  {
   "cell_type": "markdown",
   "id": "b0f64f30",
   "metadata": {},
   "source": [
    "### Interactive bar plot summarizing count of appropriations:"
   ]
  },
  {
   "cell_type": "code",
   "execution_count": 28,
   "id": "4b43b42e",
   "metadata": {},
   "outputs": [
    {
     "data": {
      "application/vnd.jupyter.widget-view+json": {
       "model_id": "ad8304ed7327407e8e3e626a785628b9",
       "version_major": 2,
       "version_minor": 0
      },
      "text/plain": [
       "interactive(children=(Dropdown(description='x', options=('Category', 'Rating level'), value='Category'), Dropd…"
      ]
     },
     "metadata": {},
     "output_type": "display_data"
    }
   ],
   "source": [
    "# Interactive bar plot\n",
    "# It has 3 parameters: xaxis and c\n",
    "def fun1(xaxis, c):\n",
    "    x = df[xaxis].value_counts().index\n",
    "    y = df[xaxis].value_counts().values\n",
    "    if xaxis == 'Category':         # There are a lot of show names, hence will require a bigger plot\n",
    "        plt.figure(figsize=(30,10))\n",
    "    else:\n",
    "        plt.figure(figsize=(20,12))\n",
    "    plt.bar(x, y, color = c)\n",
    "    plt.xticks(rotation=70)\n",
    "    plt.xlabel(xaxis)\n",
    "    plt.ylabel('Count')\n",
    "    plt.title('User Ratings Frequency distribution for')\n",
    "    plt.show()\n",
    "\n",
    "\n",
    "# Creating an interactive plot using 'interactive' function with all the necessary dropdowns\n",
    "plot1 = interactive(fun1, \n",
    "                  xaxis = ipywidgets.Dropdown(\n",
    "                      value='Category',\n",
    "                      options=['Category', 'Rating level'],\n",
    "                      description='x'\n",
    "                  ),\n",
    "                   c = ipywidgets.Dropdown(\n",
    "                      value='red',\n",
    "                      options=['red', 'blue', 'yellow', 'cyan', 'orange', 'green'],\n",
    "                      description='Bar Color'\n",
    "                   )\n",
    "                  )\n",
    "plot1"
   ]
  },
  {
   "cell_type": "markdown",
   "id": "4f0d93fa",
   "metadata": {},
   "source": [
    "The ratings of the series is an indicative of the target audience. The values here mean:\n",
    "1. PG-13: Parents strongly cautioned – Some material may be inappropriate for children under 13\n",
    "2. R: Restricted, Children Under 17 Require Accompanying Parent or Adult Guardian\n",
    "3. TV-14: Parents strongly cautioned – Some material may be inappropriate for children under 14\n",
    "4. TV-PG: Parental guidance suggested – Some material may not be suitable for children\n",
    "5. TV-MA: Mature Audience Only This program is specifically designed to be viewed by adults and therefore may be unsuitable for children under 17. This program contains one or more of the following: graphic violence (V), explicit sexual activity (S), or crude indecent language (L)\n",
    "6. TV-Y: suitable for all children\n",
    "7. NR: Not Rated\n",
    "8. TV-Y7-FV: “fantasy violence” that may be more intense or combative than other TV-Y7 programs\n",
    "9. UR: Unrated\n",
    "10. PG: Parental Guidance Suggested, Some Material May Not Be Suitable for Children\n",
    "11. TV-G: suitable for a general audience; not directed specifically toward kids, but contains little to no violence, sexual dialogue or content, or strong language\n",
    "12. G: Appropriate for people of all ages\n",
    "13. TV-Y7: directed toward kids 7 years and older.\n",
    "\n",
    "The ratings of TV-14 has highest frequency whereas UR has the lowest."
   ]
  },
  {
   "cell_type": "markdown",
   "id": "ad6557e5",
   "metadata": {},
   "source": [
    "### Interactive Scatter Plot of Releases over the years"
   ]
  },
  {
   "cell_type": "code",
   "execution_count": 29,
   "id": "69568952",
   "metadata": {},
   "outputs": [
    {
     "data": {
      "application/vnd.plotly.v1+json": {
       "config": {
        "plotlyServerURL": "https://plot.ly"
       },
       "data": [
        {
         "customdata": [
          [
           "White Chicks"
          ],
          [
           "The Waterboy"
          ],
          [
           "10 Things I Hate About You"
          ],
          [
           "How to Lose a Guy in 10 Days"
          ],
          [
           "The Benchwarmers"
          ],
          [
           "Step Up"
          ],
          [
           "Twilight"
          ],
          [
           "Mean Girls 2"
          ],
          [
           "Safe Haven"
          ],
          [
           "The Waterboy"
          ],
          [
           "The Wedding Planner"
          ],
          [
           "Twilight"
          ],
          [
           "Mean Girls 2"
          ],
          [
           "Trouble with the Curve"
          ],
          [
           "Unconditional"
          ]
         ],
         "hovertemplate": "Category=PG-13<br>Release Year=%{x}<br>index=%{y}<br>Show Title=%{customdata[0]}<extra></extra>",
         "legendgroup": "PG-13",
         "marker": {
          "color": "#636efa",
          "symbol": "circle"
         },
         "mode": "markers",
         "name": "PG-13",
         "orientation": "h",
         "showlegend": true,
         "type": "scatter",
         "x": [
          2004,
          1998,
          1999,
          2003,
          2006,
          2006,
          2008,
          2011,
          2013,
          1998,
          2001,
          2008,
          2011,
          2012,
          2012
         ],
         "xaxis": "x",
         "y": [
          0,
          250,
          251,
          253,
          254,
          255,
          257,
          273,
          286,
          300,
          302,
          306,
          322,
          335,
          372
         ],
         "yaxis": "y"
        },
        {
         "customdata": [
          [
           "Lucky Number Slevin"
          ],
          [
           "The Hunter"
          ],
          [
           "Hyena Road"
          ],
          [
           "Lucky Number Slevin"
          ],
          [
           "Meet the Blacks"
          ],
          [
           "Sausage Party"
          ],
          [
           "Kevin Hart: What Now?"
          ],
          [
           "The Life Aquatic with Steve Zissou"
          ],
          [
           "Lucky Number Slevin"
          ],
          [
           "5 to 7"
          ],
          [
           "The Brothers"
          ],
          [
           "Dope"
          ],
          [
           "The Angriest Man in Brooklyn"
          ],
          [
           "5 to 7"
          ],
          [
           "Blow"
          ],
          [
           "Magic Mike"
          ],
          [
           "Sausage Party"
          ],
          [
           "London Has Fallen"
          ],
          [
           "London Has Fallen"
          ]
         ],
         "hovertemplate": "Category=R<br>Release Year=%{x}<br>index=%{y}<br>Show Title=%{customdata[0]}<extra></extra>",
         "legendgroup": "R",
         "marker": {
          "color": "#EF553B",
          "symbol": "circle"
         },
         "mode": "markers",
         "name": "R",
         "orientation": "h",
         "showlegend": true,
         "type": "scatter",
         "x": [
          2006,
          2011,
          2015,
          2006,
          2016,
          2016,
          2016,
          2004,
          2006,
          2014,
          2001,
          2015,
          2014,
          2014,
          2001,
          2012,
          2016,
          2016,
          2016
         ],
         "xaxis": "x",
         "y": [
          1,
          14,
          35,
          50,
          87,
          90,
          92,
          100,
          101,
          117,
          150,
          170,
          217,
          218,
          303,
          334,
          344,
          381,
          431
         ],
         "yaxis": "y"
        },
        {
         "customdata": [
          [
           "Grey's Anatomy"
          ],
          [
           "Prison Break"
          ],
          [
           "Supernatural"
          ],
          [
           "The Vampire Diaries"
          ],
          [
           "Pretty Little Liars"
          ],
          [
           "Sherlock"
          ],
          [
           "Death Note"
          ],
          [
           "Arrow"
          ],
          [
           "The Originals"
          ],
          [
           "The Seven Deadly Sins"
          ],
          [
           "Scream"
          ],
          [
           "Fearless"
          ],
          [
           "Sandy Wexler"
          ],
          [
           "Happily Married"
          ],
          [
           "The Office (U.S.)"
          ],
          [
           "Grey's Anatomy"
          ],
          [
           "Prison Break"
          ],
          [
           "90210"
          ],
          [
           "Gossip Girl"
          ],
          [
           "Supernatural"
          ],
          [
           "Parks and Recreation"
          ],
          [
           "The Vampire Diaries"
          ],
          [
           "Criminal Minds"
          ],
          [
           "Friends"
          ],
          [
           "The Secret Life of the American Teenager"
          ],
          [
           "One Tree Hill"
          ],
          [
           "Pretty Little Liars"
          ],
          [
           "New Girl"
          ],
          [
           "Inside Russia's Toughest Prison"
          ],
          [
           "Bates Motel"
          ],
          [
           "How to Get Away with Murder"
          ],
          [
           "Stranger Things"
          ],
          [
           "Sandy Wexler"
          ],
          [
           "The Office (U.S.)"
          ],
          [
           "30 Rock"
          ],
          [
           "Mad Men"
          ],
          [
           "Parks and Recreation"
          ],
          [
           "Friends"
          ],
          [
           "Portlandia"
          ],
          [
           "New Girl"
          ],
          [
           "Don't Trust the B---- in Apartment 23"
          ],
          [
           "Friends with Benefits"
          ],
          [
           "The Client List"
          ],
          [
           "Halt and Catch Fire"
          ],
          [
           "Documentary Now!"
          ],
          [
           "Schitt's Creek"
          ],
          [
           "Abstract: The Art of Design"
          ],
          [
           "Cooper Barrett's Guide to Surviving Life"
          ],
          [
           "Life in Pieces"
          ],
          [
           "Crazy Ex-Girlfriend"
          ],
          [
           "No Tomorrow"
          ],
          [
           "Sandy Wexler"
          ],
          [
           "The Cleveland Show"
          ],
          [
           "Absolutely Fabulous"
          ],
          [
           "Don't Trust the B---- in Apartment 23"
          ],
          [
           "Raising Hope"
          ],
          [
           "Come Fly With Me"
          ],
          [
           "Bates Motel"
          ],
          [
           "Being Mary Jane: The Series"
          ],
          [
           "Documentary Now!"
          ],
          [
           "Unbreakable Kimmy Schmidt"
          ],
          [
           "Bordertown"
          ],
          [
           "Jane The Virgin"
          ],
          [
           "Schitt's Creek"
          ],
          [
           "The Carmichael Show"
          ],
          [
           "Cooper Barrett's Guide to Surviving Life"
          ],
          [
           "November Rule"
          ],
          [
           "Life in Pieces"
          ],
          [
           "Crazy Ex-Girlfriend"
          ],
          [
           "Haters Back Off"
          ],
          [
           "Little Boxes"
          ],
          [
           "Deidra & Laney Rob a Train"
          ],
          [
           "Greenleaf"
          ],
          [
           "The Wedding Party"
          ],
          [
           "30 Rock"
          ],
          [
           "Parks and Recreation"
          ],
          [
           "Gilmore Girls"
          ],
          [
           "Parenthood"
          ],
          [
           "Portlandia"
          ],
          [
           "New Girl"
          ],
          [
           "Don't Trust the B---- in Apartment 23"
          ],
          [
           "Raising Hope"
          ],
          [
           "Being Human (U.S.)"
          ],
          [
           "Friends with Benefits"
          ],
          [
           "The Carrie Diaries"
          ],
          [
           "Baby Daddy"
          ],
          [
           "Halt and Catch Fire"
          ],
          [
           "Unbreakable Kimmy Schmidt"
          ],
          [
           "Bordertown"
          ],
          [
           "Girlfriends' Guide to Divorce"
          ],
          [
           "Schitt's Creek"
          ],
          [
           "The Carmichael Show"
          ],
          [
           "Abstract: The Art of Design"
          ],
          [
           "Cooper Barrett's Guide to Surviving Life"
          ],
          [
           "Life in Pieces"
          ],
          [
           "Crazy Ex-Girlfriend"
          ],
          [
           "No Tomorrow"
          ],
          [
           "Sandy Wexler"
          ],
          [
           "The Office (U.S.)"
          ],
          [
           "Grey's Anatomy"
          ],
          [
           "Prison Break"
          ],
          [
           "90210"
          ],
          [
           "Gossip Girl"
          ],
          [
           "The Vampire Diaries"
          ],
          [
           "Criminal Minds"
          ],
          [
           "Friends"
          ],
          [
           "The Secret Life of the American Teenager"
          ],
          [
           "That '70s Show"
          ],
          [
           "Gilmore Girls"
          ],
          [
           "Parenthood"
          ],
          [
           "Pretty Little Liars"
          ],
          [
           "Switched at Birth"
          ],
          [
           "New Girl"
          ],
          [
           "The Client List"
          ],
          [
           "The Carrie Diaries"
          ],
          [
           "Baby Daddy"
          ],
          [
           "The Night Shift"
          ],
          [
           "Reign"
          ],
          [
           "How to Get Away with Murder"
          ],
          [
           "Gilmore Girls: A Year in the Life"
          ],
          [
           "Gabriel lglesias: Iâ€™m Sorry For What I Said When I Was Hungry"
          ],
          [
           "The Office (U.S.)"
          ],
          [
           "Bones"
          ],
          [
           "Law & Order: Special Victims Unit"
          ],
          [
           "Prison Break"
          ],
          [
           "NCIS"
          ],
          [
           "Gossip Girl"
          ],
          [
           "Supernatural"
          ],
          [
           "Parks and Recreation"
          ],
          [
           "The Vampire Diaries"
          ],
          [
           "Criminal Minds"
          ],
          [
           "Friends"
          ],
          [
           "The Secret Life of the American Teenager"
          ],
          [
           "One Tree Hill"
          ],
          [
           "Army Wives"
          ],
          [
           "Gilmore Girls"
          ],
          [
           "Private Practice"
          ],
          [
           "Parenthood"
          ],
          [
           "Pretty Little Liars"
          ],
          [
           "New Girl"
          ],
          [
           "Scandal"
          ],
          [
           "Baby Daddy"
          ],
          [
           "The Night Shift"
          ],
          [
           "The Originals"
          ],
          [
           "How to Get Away with Murder"
          ],
          [
           "Skin Wars"
          ],
          [
           "Lost"
          ],
          [
           "Grey's Anatomy"
          ],
          [
           "Lie to Me"
          ],
          [
           "Prison Break"
          ],
          [
           "Gossip Girl"
          ],
          [
           "The Vampire Diaries"
          ],
          [
           "The Secret Life of the American Teenager"
          ],
          [
           "Gilmore Girls"
          ],
          [
           "Pretty Little Liars"
          ],
          [
           "The Killing"
          ],
          [
           "Scandal"
          ],
          [
           "The Client List"
          ],
          [
           "Bates Motel"
          ],
          [
           "The Blacklist"
          ],
          [
           "The Fosters"
          ],
          [
           "Reign"
          ],
          [
           "The Originals"
          ],
          [
           "Witches of East End"
          ],
          [
           "Velvet"
          ],
          [
           "How to Get Away with Murder"
          ],
          [
           "Jane The Virgin"
          ],
          [
           "Kurt Seyit & Sura"
          ],
          [
           "The Returned"
          ],
          [
           "Quantico"
          ],
          [
           "Life in Pieces"
          ],
          [
           "Greenleaf"
          ],
          [
           "Bones"
          ],
          [
           "Grey's Anatomy"
          ],
          [
           "Lie to Me"
          ],
          [
           "Prison Break"
          ],
          [
           "NCIS"
          ],
          [
           "Burn Notice"
          ],
          [
           "Criminal Minds"
          ],
          [
           "Luther"
          ],
          [
           "Hawaii Five-0"
          ],
          [
           "Person of Interest"
          ],
          [
           "Scandal"
          ],
          [
           "Touch"
          ],
          [
           "Sherlock"
          ],
          [
           "Breakout Kings"
          ],
          [
           "The Client List"
          ],
          [
           "Arrow"
          ],
          [
           "The Following"
          ],
          [
           "Drugs, Inc."
          ],
          [
           "Longmire"
          ],
          [
           "Death in Paradise"
          ],
          [
           "Crossing Lines"
          ],
          [
           "Halt and Catch Fire"
          ],
          [
           "Gotham"
          ],
          [
           "How to Get Away with Murder"
          ],
          [
           "American Odyssey"
          ],
          [
           "Rosewood"
          ],
          [
           "Quantico"
          ],
          [
           "Limitless"
          ],
          [
           "The Office (U.S.)"
          ],
          [
           "Grey's Anatomy"
          ],
          [
           "Law & Order: Special Victims Unit"
          ],
          [
           "Lie to Me"
          ],
          [
           "Prison Break"
          ],
          [
           "90210"
          ],
          [
           "Gossip Girl"
          ],
          [
           "Parks and Recreation"
          ],
          [
           "The Vampire Diaries"
          ],
          [
           "Criminal Minds"
          ],
          [
           "Friends"
          ],
          [
           "The West Wing"
          ],
          [
           "Parenthood"
          ],
          [
           "Blue Bloods"
          ],
          [
           "Pretty Little Liars"
          ],
          [
           "The Killing"
          ],
          [
           "New Girl"
          ],
          [
           "Person of Interest"
          ],
          [
           "Scandal"
          ],
          [
           "Forensic Files"
          ],
          [
           "Sherlock"
          ],
          [
           "The Client List"
          ],
          [
           "Rectify"
          ],
          [
           "Bates Motel"
          ],
          [
           "The Blacklist"
          ],
          [
           "Being Mary Jane: The Series"
          ],
          [
           "American Crime"
          ],
          [
           "Madam Secretary"
          ],
          [
           "Scream"
          ],
          [
           "Rosewood"
          ],
          [
           "Quantico"
          ],
          [
           "Limitless"
          ],
          [
           "No Tomorrow"
          ],
          [
           "Greenleaf"
          ]
         ],
         "hovertemplate": "Category=TV-14<br>Release Year=%{x}<br>index=%{y}<br>Show Title=%{customdata[0]}<extra></extra>",
         "legendgroup": "TV-14",
         "marker": {
          "color": "#00cc96",
          "symbol": "circle"
         },
         "mode": "markers",
         "name": "TV-14",
         "orientation": "h",
         "showlegend": true,
         "type": "scatter",
         "x": [
          2016,
          2008,
          2016,
          2017,
          2016,
          2016,
          2006,
          2015,
          2016,
          2016,
          2016,
          2016,
          2017,
          2015,
          2012,
          2016,
          2008,
          2013,
          2012,
          2016,
          2015,
          2017,
          2016,
          2003,
          2013,
          2011,
          2016,
          2016,
          2011,
          2016,
          2016,
          2016,
          2017,
          2012,
          2012,
          2014,
          2015,
          2003,
          2016,
          2016,
          2012,
          2011,
          2013,
          2016,
          2016,
          2016,
          2017,
          2016,
          2015,
          2017,
          2016,
          2017,
          2012,
          2012,
          2012,
          2013,
          2010,
          2016,
          2016,
          2016,
          2016,
          2016,
          2016,
          2016,
          2016,
          2016,
          2015,
          2015,
          2017,
          2016,
          2016,
          2017,
          2016,
          2016,
          2012,
          2015,
          2006,
          2014,
          2016,
          2016,
          2012,
          2013,
          2014,
          2011,
          2013,
          2016,
          2016,
          2016,
          2016,
          2015,
          2016,
          2016,
          2017,
          2016,
          2015,
          2017,
          2016,
          2017,
          2012,
          2016,
          2008,
          2013,
          2012,
          2017,
          2016,
          2003,
          2013,
          2005,
          2006,
          2014,
          2016,
          2015,
          2016,
          2013,
          2013,
          2016,
          2015,
          2015,
          2016,
          2016,
          2016,
          2012,
          2016,
          2015,
          2008,
          2016,
          2012,
          2016,
          2015,
          2017,
          2016,
          2003,
          2013,
          2011,
          2013,
          2006,
          2012,
          2014,
          2016,
          2016,
          2016,
          2016,
          2015,
          2016,
          2016,
          2016,
          2010,
          2016,
          2010,
          2008,
          2012,
          2017,
          2013,
          2006,
          2016,
          2014,
          2016,
          2013,
          2016,
          2016,
          2016,
          2015,
          2016,
          2014,
          2016,
          2016,
          2016,
          2014,
          2015,
          2016,
          2015,
          2016,
          2016,
          2016,
          2010,
          2008,
          2016,
          2013,
          2016,
          2015,
          2016,
          2016,
          2016,
          2012,
          2016,
          2012,
          2013,
          2015,
          2015,
          2015,
          2016,
          2016,
          2015,
          2016,
          2016,
          2016,
          2015,
          2015,
          2016,
          2016,
          2012,
          2016,
          2015,
          2010,
          2008,
          2013,
          2012,
          2015,
          2017,
          2016,
          2003,
          2005,
          2014,
          2016,
          2016,
          2014,
          2016,
          2016,
          2016,
          2011,
          2016,
          2013,
          2016,
          2016,
          2016,
          2016,
          2016,
          2016,
          2016,
          2015,
          2016,
          2016,
          2016,
          2016
         ],
         "xaxis": "x",
         "y": [
          2,
          3,
          5,
          7,
          9,
          11,
          12,
          16,
          18,
          28,
          29,
          34,
          44,
          48,
          51,
          52,
          53,
          54,
          55,
          57,
          59,
          61,
          63,
          64,
          65,
          66,
          68,
          70,
          73,
          75,
          79,
          84,
          96,
          103,
          104,
          105,
          108,
          109,
          111,
          112,
          113,
          114,
          115,
          116,
          120,
          124,
          129,
          130,
          132,
          133,
          136,
          142,
          152,
          153,
          154,
          155,
          156,
          159,
          161,
          162,
          164,
          167,
          168,
          169,
          172,
          173,
          175,
          176,
          177,
          179,
          185,
          186,
          192,
          195,
          201,
          203,
          205,
          206,
          208,
          209,
          210,
          211,
          212,
          213,
          214,
          215,
          216,
          221,
          225,
          226,
          227,
          228,
          230,
          231,
          233,
          234,
          239,
          243,
          260,
          263,
          264,
          265,
          266,
          269,
          271,
          272,
          274,
          275,
          276,
          277,
          279,
          281,
          282,
          284,
          285,
          287,
          288,
          289,
          291,
          294,
          296,
          308,
          309,
          310,
          311,
          313,
          314,
          316,
          317,
          319,
          320,
          321,
          323,
          324,
          325,
          326,
          327,
          328,
          329,
          331,
          333,
          337,
          338,
          339,
          341,
          345,
          350,
          353,
          354,
          355,
          356,
          358,
          359,
          361,
          365,
          366,
          370,
          371,
          373,
          374,
          375,
          376,
          377,
          379,
          385,
          386,
          388,
          389,
          390,
          392,
          393,
          398,
          400,
          403,
          404,
          405,
          406,
          407,
          409,
          411,
          412,
          416,
          417,
          418,
          419,
          420,
          421,
          422,
          423,
          424,
          425,
          428,
          430,
          432,
          436,
          438,
          440,
          443,
          444,
          445,
          450,
          451,
          452,
          453,
          454,
          455,
          456,
          458,
          459,
          460,
          461,
          462,
          463,
          465,
          467,
          468,
          470,
          472,
          474,
          475,
          476,
          477,
          479,
          481,
          483,
          484,
          485,
          486,
          488,
          489,
          491,
          492,
          495,
          499
         ],
         "yaxis": "y"
        },
        {
         "customdata": [
          [
           "How I Met Your Mother"
          ],
          [
           "Once Upon a Time"
          ],
          [
           "Naruto"
          ],
          [
           "The Flash"
          ],
          [
           "How I Met Your Mother"
          ],
          [
           "Glee"
          ],
          [
           "The Flash"
          ],
          [
           "Cheer Squad"
          ],
          [
           "The Great British Baking Show"
          ],
          [
           "Minimalism: A Documentary About the Important Things"
          ],
          [
           "MerlÃ­"
          ],
          [
           "The Great British Baking Show"
          ],
          [
           "Drop Dead Diva"
          ],
          [
           "Life Unexpected"
          ],
          [
           "The Great British Baking Show"
          ],
          [
           "One Day at a Time"
          ],
          [
           "Cheer Squad"
          ],
          [
           "Friday Night Lights"
          ],
          [
           "How I Met Your Mother"
          ],
          [
           "Glee"
          ],
          [
           "Heartland"
          ],
          [
           "Hart of Dixie"
          ],
          [
           "Cheer Squad"
          ],
          [
           "How I Met Your Mother"
          ],
          [
           "Glee"
          ],
          [
           "Revenge"
          ],
          [
           "Cheer Squad"
          ],
          [
           "Glee"
          ],
          [
           "Drop Dead Diva"
          ],
          [
           "Charmed"
          ],
          [
           "White Collar"
          ],
          [
           "Hart of Dixie"
          ],
          [
           "Once Upon a Time"
          ],
          [
           "MerlÃ­"
          ],
          [
           "Leverage"
          ],
          [
           "White Collar"
          ],
          [
           "Last Man Standing"
          ],
          [
           "Revenge"
          ],
          [
           "Marvel's Agents of S.H.I.E.L.D."
          ],
          [
           "How I Met Your Mother"
          ],
          [
           "White Collar"
          ],
          [
           "Revenge"
          ],
          [
           "Once Upon a Time"
          ],
          [
           "The Great British Baking Show"
          ],
          [
           "Star Wars: The Clone Wars"
          ],
          [
           "Young Justice"
          ],
          [
           "Bunks"
          ],
          [
           "DreamWorks Kung Fu Panda Awesome Secrets"
          ],
          [
           "Tad: The Lost Explorer"
          ],
          [
           "Buddy Thunderstruck"
          ],
          [
           "DreamWorks Shrek's Swamp Stories"
          ],
          [
           "DreamWorks Spooky Stories: Volume 2"
          ],
          [
           "Sammy 2"
          ],
          [
           "Sammy 2"
          ],
          [
           "DreamWorks How to Train Your Dragon Legends"
          ],
          [
           "Sammy 2"
          ],
          [
           "DreamWorks How to Train Your Dragon Legends"
          ],
          [
           "H2O: Just Add Water"
          ],
          [
           "Step Dogs"
          ]
         ],
         "hovertemplate": "Category=TV-PG<br>Release Year=%{x}<br>index=%{y}<br>Show Title=%{customdata[0]}<extra></extra>",
         "legendgroup": "TV-PG",
         "marker": {
          "color": "#ab63fa",
          "symbol": "circle"
         },
         "mode": "markers",
         "name": "TV-PG",
         "orientation": "h",
         "showlegend": true,
         "type": "scatter",
         "x": [
          2014,
          2016,
          2008,
          2016,
          2014,
          2015,
          2016,
          2016,
          2016,
          2016,
          2015,
          2016,
          2014,
          2010,
          2016,
          2017,
          2016,
          2010,
          2014,
          2015,
          2015,
          2014,
          2016,
          2014,
          2015,
          2015,
          2016,
          2015,
          2014,
          2005,
          2014,
          2014,
          2016,
          2015,
          2012,
          2014,
          2015,
          2015,
          2016,
          2014,
          2014,
          2015,
          2016,
          2016,
          2014,
          2012,
          2013,
          2008,
          2012,
          2017,
          2008,
          2011,
          2012,
          2012,
          2011,
          2012,
          2011,
          2009,
          2013
         ],
         "xaxis": "x",
         "y": [
          4,
          10,
          13,
          27,
          56,
          60,
          82,
          98,
          131,
          137,
          145,
          174,
          204,
          207,
          232,
          238,
          248,
          261,
          267,
          268,
          278,
          283,
          298,
          315,
          318,
          332,
          349,
          357,
          360,
          362,
          363,
          368,
          369,
          397,
          402,
          410,
          414,
          415,
          429,
          457,
          464,
          471,
          473,
          490,
          512,
          518,
          541,
          565,
          571,
          592,
          667,
          669,
          672,
          719,
          781,
          822,
          881,
          979,
          985
         ],
         "yaxis": "y"
        },
        {
         "customdata": [
          [
           "Breaking Bad"
          ],
          [
           "The Walking Dead"
          ],
          [
           "Black Mirror"
          ],
          [
           "Ã“ Pai, Ã“ - Look at This"
          ],
          [
           "Marvel's Luke Cage"
          ],
          [
           "Marvel's Iron Fist"
          ],
          [
           "Narcos"
          ],
          [
           "The Do-Over"
          ],
          [
           "OperaÃ§Ãµes Especiais"
          ],
          [
           "0.03"
          ],
          [
           "Santa Clarita Diet"
          ],
          [
           "Girlboss"
          ],
          [
           "City of God: 10 Years Later"
          ],
          [
           "13 Reasons Why"
          ],
          [
           "Sand Castle"
          ],
          [
           "Salvador Martinha - Tip of the Tongue"
          ],
          [
           "O Amor no DivÃ£"
          ],
          [
           "Pandora"
          ],
          [
           "Breaking Bad"
          ],
          [
           "Family Guy"
          ],
          [
           "The Walking Dead"
          ],
          [
           "Shameless (U.S.)"
          ],
          [
           "American Horror Story"
          ],
          [
           "Orange Is the New Black"
          ],
          [
           "Black Mirror"
          ],
          [
           "Marvel's Iron Fist"
          ],
          [
           "Grace and Frankie"
          ],
          [
           "The Get Down"
          ],
          [
           "Love"
          ],
          [
           "The OA"
          ],
          [
           "Ingobernable"
          ],
          [
           "Santa Clarita Diet"
          ],
          [
           "Girlboss"
          ],
          [
           "The Discovery"
          ],
          [
           "Sand Castle"
          ],
          [
           "Chewing Gum"
          ],
          [
           "Only for One Night"
          ],
          [
           "The L Word"
          ],
          [
           "It's Always Sunny in Philadelphia"
          ],
          [
           "Californication"
          ],
          [
           "Shameless (U.S.)"
          ],
          [
           "Marvel's Iron Fist"
          ],
          [
           "Chef's Table"
          ],
          [
           "Grace and Frankie"
          ],
          [
           "Better Call Saul"
          ],
          [
           "The Get Down"
          ],
          [
           "Lovesick"
          ],
          [
           "Flaked"
          ],
          [
           "Master of None"
          ],
          [
           "Chelsea"
          ],
          [
           "Easy"
          ],
          [
           "Santa Clarita Diet"
          ],
          [
           "Girlboss"
          ],
          [
           "Hot Girls Wanted: Turned On"
          ],
          [
           "The Discovery"
          ],
          [
           "13 Reasons Why"
          ],
          [
           "Chewing Gum"
          ],
          [
           "Win It All"
          ],
          [
           "Amy Schumer: The Leather Special"
          ],
          [
           "Louis C.K. 2017"
          ],
          [
           "Dave Chappelle"
          ],
          [
           "Skins"
          ],
          [
           "Orange Is the New Black"
          ],
          [
           "Brickleberry"
          ],
          [
           "BoJack Horseman"
          ],
          [
           "Grace and Frankie"
          ],
          [
           "The Get Down"
          ],
          [
           "Love"
          ],
          [
           "Lovesick"
          ],
          [
           "Easy"
          ],
          [
           "Skins"
          ],
          [
           "A Weekend with the Family"
          ],
          [
           "Crazyhead"
          ],
          [
           "Girlboss"
          ],
          [
           "Hot Girls Wanted: Turned On"
          ],
          [
           "13 Reasons Why"
          ],
          [
           "Hurricane Bianca"
          ],
          [
           "Lazy Eye"
          ],
          [
           "Dave Chappelle"
          ],
          [
           "Only for One Night"
          ],
          [
           "Boy Bye"
          ],
          [
           "Nurse Jackie"
          ],
          [
           "Chef's Table"
          ],
          [
           "Grace and Frankie"
          ],
          [
           "The Get Down"
          ],
          [
           "Sense8"
          ],
          [
           "Love"
          ],
          [
           "Chelsea"
          ],
          [
           "Fried"
          ],
          [
           "The Magicians"
          ],
          [
           "Hot Girls Wanted: Turned On"
          ],
          [
           "13 Reasons Why"
          ],
          [
           "Better Off Single"
          ],
          [
           "Chewing Gum"
          ],
          [
           "Tramps"
          ],
          [
           "Slam"
          ],
          [
           "Family Guy"
          ],
          [
           "Shameless (U.S.)"
          ],
          [
           "Grace and Frankie"
          ],
          [
           "13 Reasons Why"
          ],
          [
           "Amy Schumer: The Leather Special"
          ],
          [
           "Dave Chappelle"
          ],
          [
           "Nurse Jackie"
          ],
          [
           "Shameless (U.S.)"
          ],
          [
           "Orange Is the New Black"
          ],
          [
           "Girlboss"
          ],
          [
           "13 Reasons Why"
          ],
          [
           "Felipe Neto: My Life Makes No Sense"
          ],
          [
           "Weeds"
          ],
          [
           "The Tudors"
          ],
          [
           "House of Cards"
          ],
          [
           "Shameless (U.S.)"
          ],
          [
           "Bitten"
          ],
          [
           "Marvel's Jessica Jones"
          ],
          [
           "Bloodline"
          ],
          [
           "Grace and Frankie"
          ],
          [
           "The Crown"
          ],
          [
           "The Girl in the Book"
          ],
          [
           "Ingobernable"
          ],
          [
           "Girlboss"
          ],
          [
           "13 Reasons Why"
          ],
          [
           "100 Metros"
          ],
          [
           "Dexter"
          ],
          [
           "Breaking Bad"
          ],
          [
           "House of Cards"
          ],
          [
           "Ripper Street"
          ],
          [
           "The Fall"
          ],
          [
           "Marvel's Iron Fist"
          ],
          [
           "The Honorable Woman"
          ],
          [
           "Transporter: The Series"
          ],
          [
           "Better Call Saul"
          ],
          [
           "Narcos"
          ],
          [
           "Aquarius"
          ],
          [
           "Hap and Leonard"
          ],
          [
           "Travelers"
          ],
          [
           "The Doctor Blake Mysteries"
          ],
          [
           "Bordertown"
          ],
          [
           "House of Cards"
          ],
          [
           "Shameless (U.S.)"
          ],
          [
           "Orange Is the New Black"
          ],
          [
           "Black Mirror"
          ],
          [
           "The Fall"
          ],
          [
           "Sense8"
          ],
          [
           "American Crime Story: The People v. O.J. Simpson"
          ],
          [
           "Santa Clarita Diet"
          ],
          [
           "Girlboss"
          ],
          [
           "13 Reasons Why"
          ],
          [
           "The Doctor Blake Mysteries"
          ]
         ],
         "hovertemplate": "Category=TV-MA<br>Release Year=%{x}<br>index=%{y}<br>Show Title=%{customdata[0]}<extra></extra>",
         "legendgroup": "TV-MA",
         "marker": {
          "color": "#FFA15A",
          "symbol": "circle"
         },
         "mode": "markers",
         "name": "TV-MA",
         "orientation": "h",
         "showlegend": true,
         "type": "scatter",
         "x": [
          2013,
          2015,
          2016,
          2007,
          2016,
          2017,
          2016,
          2016,
          2015,
          2016,
          2017,
          2017,
          2013,
          2017,
          2017,
          2016,
          2016,
          2016,
          2013,
          2015,
          2015,
          2016,
          2016,
          2016,
          2016,
          2017,
          2017,
          2017,
          2017,
          2016,
          2017,
          2017,
          2017,
          2017,
          2017,
          2017,
          2016,
          2009,
          2016,
          2014,
          2016,
          2017,
          2017,
          2017,
          2016,
          2017,
          2016,
          2016,
          2015,
          2017,
          2016,
          2017,
          2017,
          2017,
          2017,
          2017,
          2017,
          2017,
          2017,
          2017,
          2017,
          2013,
          2016,
          2014,
          2016,
          2017,
          2017,
          2017,
          2016,
          2016,
          2017,
          2016,
          2016,
          2017,
          2017,
          2017,
          2016,
          2016,
          2017,
          2016,
          2016,
          2015,
          2017,
          2017,
          2017,
          2017,
          2017,
          2017,
          2015,
          2016,
          2017,
          2017,
          2016,
          2017,
          2017,
          2017,
          2015,
          2016,
          2017,
          2017,
          2017,
          2017,
          2015,
          2016,
          2016,
          2017,
          2017,
          2017,
          2012,
          2010,
          2016,
          2016,
          2016,
          2015,
          2016,
          2017,
          2016,
          2015,
          2017,
          2017,
          2017,
          2016,
          2013,
          2013,
          2016,
          2016,
          2016,
          2017,
          2014,
          2014,
          2016,
          2016,
          2015,
          2016,
          2016,
          2016,
          2016,
          2016,
          2016,
          2016,
          2016,
          2016,
          2017,
          2016,
          2017,
          2017,
          2017,
          2016
         ],
         "xaxis": "x",
         "y": [
          6,
          8,
          17,
          21,
          24,
          25,
          26,
          30,
          31,
          32,
          36,
          39,
          40,
          41,
          42,
          43,
          45,
          49,
          58,
          62,
          67,
          69,
          71,
          72,
          74,
          77,
          78,
          80,
          81,
          83,
          85,
          89,
          93,
          94,
          95,
          97,
          99,
          102,
          106,
          107,
          110,
          118,
          119,
          121,
          122,
          123,
          125,
          126,
          127,
          128,
          134,
          135,
          138,
          139,
          140,
          141,
          143,
          144,
          146,
          147,
          148,
          151,
          157,
          158,
          160,
          163,
          165,
          166,
          171,
          178,
          181,
          182,
          183,
          187,
          188,
          189,
          190,
          193,
          196,
          197,
          198,
          202,
          219,
          220,
          222,
          223,
          224,
          229,
          235,
          237,
          240,
          241,
          242,
          244,
          246,
          247,
          270,
          280,
          290,
          295,
          297,
          299,
          312,
          330,
          336,
          346,
          347,
          348,
          351,
          352,
          364,
          367,
          380,
          382,
          383,
          384,
          387,
          391,
          394,
          395,
          396,
          399,
          401,
          408,
          413,
          426,
          427,
          433,
          434,
          435,
          437,
          439,
          441,
          442,
          446,
          447,
          449,
          466,
          469,
          478,
          480,
          482,
          487,
          493,
          494,
          496,
          497,
          498
         ],
         "yaxis": "y"
        },
        {
         "customdata": [
          [
           "Lottie Dottie Chicken"
          ],
          [
           "Masha and the Bear"
          ],
          [
           "Thomas & Friends: Thomas & the Runaway Kite"
          ],
          [
           "LeapFrog: The Amazing Alphabet Amusement Park"
          ],
          [
           "The Adventures of Chuck & Friends"
          ],
          [
           "VeggieTales in the House"
          ],
          [
           "The Furchester Hotel"
          ],
          [
           "The Cat in the Hat Knows a Lot About That!"
          ],
          [
           "Bob the Builder"
          ],
          [
           "PokÃ©mon: Indigo League"
          ],
          [
           "Chuggington"
          ],
          [
           "Robocar Poli"
          ],
          [
           "Super Why!"
          ],
          [
           "Masha and the Bear"
          ],
          [
           "Pocoyo"
          ],
          [
           "Chuggington"
          ],
          [
           "Octonauts"
          ],
          [
           "Mother Goose Club"
          ],
          [
           "Little Einsteins"
          ],
          [
           "Ask the StoryBots"
          ],
          [
           "The Furchester Hotel"
          ],
          [
           "Goldie & Bear"
          ],
          [
           "Little Baby Bum: Nursery Rhyme Friends"
          ],
          [
           "Tayo the Little Bus"
          ],
          [
           "Super Why!"
          ],
          [
           "The Magic School Bus"
          ],
          [
           "Masha and the Bear"
          ],
          [
           "Pocoyo"
          ],
          [
           "Sofia the First"
          ],
          [
           "Sid the Science Kid"
          ],
          [
           "Chuggington"
          ],
          [
           "Octonauts"
          ],
          [
           "Little Einsteins"
          ],
          [
           "Word Party"
          ],
          [
           "Goldie & Bear"
          ],
          [
           "Super Why!"
          ],
          [
           "The Magic School Bus"
          ],
          [
           "Masha and the Bear"
          ],
          [
           "Sofia the First"
          ],
          [
           "Clifford the Big Red Dog"
          ],
          [
           "Chuggington"
          ],
          [
           "Octonauts"
          ],
          [
           "Little Einsteins"
          ],
          [
           "Goldie & Bear"
          ],
          [
           "Little Baby Bum: Nursery Rhyme Friends"
          ],
          [
           "The Gruffalo"
          ],
          [
           "The Magic School Bus"
          ],
          [
           "The Very Hungry Caterpillar and Other Stories"
          ],
          [
           "Pound Puppies"
          ],
          [
           "Care Bears: Welcome to Care-a-Lot"
          ],
          [
           "Clifford the Big Red Dog"
          ],
          [
           "Clifford's Puppy Days"
          ],
          [
           "Chuggington"
          ],
          [
           "Octonauts"
          ],
          [
           "My Animal Friends"
          ],
          [
           "Puffin Rock"
          ],
          [
           "Little Einsteins"
          ],
          [
           "Zoobabu"
          ],
          [
           "Sid the Science Kid: The Movie"
          ],
          [
           "The Gruffalo"
          ],
          [
           "The Magic School Bus"
          ],
          [
           "Octonauts"
          ],
          [
           "The Gruffalo"
          ],
          [
           "Pound Puppies"
          ],
          [
           "The Magic School Bus"
          ],
          [
           "PokÃ©mon: Indigo League"
          ],
          [
           "Mia and Me"
          ],
          [
           "My Animal Friends"
          ]
         ],
         "hovertemplate": "Category=TV-Y<br>Release Year=%{x}<br>index=%{y}<br>Show Title=%{customdata[0]}<extra></extra>",
         "legendgroup": "TV-Y",
         "marker": {
          "color": "#19d3f3",
          "symbol": "circle"
         },
         "mode": "markers",
         "name": "TV-Y",
         "orientation": "h",
         "showlegend": true,
         "type": "scatter",
         "x": [
          2009,
          2013,
          2010,
          2010,
          2011,
          2016,
          2015,
          2014,
          2015,
          2000,
          2015,
          2012,
          2015,
          2013,
          2007,
          2015,
          2015,
          2016,
          2007,
          2016,
          2015,
          2016,
          2016,
          2014,
          2015,
          1997,
          2013,
          2007,
          2015,
          2008,
          2015,
          2015,
          2007,
          2016,
          2016,
          2015,
          1997,
          2013,
          2015,
          2002,
          2015,
          2015,
          2007,
          2016,
          2016,
          2009,
          1997,
          1993,
          2013,
          2012,
          2002,
          2003,
          2015,
          2015,
          2013,
          2016,
          2007,
          2010,
          2012,
          2009,
          1997,
          2015,
          2009,
          2013,
          1997,
          2000,
          2015,
          2013
         ],
         "xaxis": "x",
         "y": [
          15,
          20,
          508,
          511,
          523,
          530,
          545,
          559,
          561,
          572,
          577,
          587,
          617,
          621,
          622,
          624,
          625,
          627,
          628,
          643,
          644,
          645,
          646,
          648,
          666,
          670,
          674,
          675,
          676,
          680,
          681,
          683,
          686,
          690,
          698,
          715,
          718,
          720,
          721,
          723,
          726,
          727,
          730,
          746,
          747,
          780,
          783,
          815,
          821,
          824,
          825,
          826,
          831,
          833,
          835,
          837,
          838,
          842,
          845,
          880,
          883,
          946,
          980,
          982,
          984,
          986,
          987,
          990
         ],
         "yaxis": "y"
        },
        {
         "customdata": [
          [
           "The 100"
          ],
          [
           "Nymphomaniac: Volume 1"
          ],
          [
           "Hunter X Hunter (2011)"
          ],
          [
           "Sex, Love and Therapy"
          ],
          [
           "Stronger Than the World"
          ],
          [
           "Back and Forth"
          ],
          [
           "The 100"
          ],
          [
           "Almost Adults"
          ],
          [
           "Honeytrap"
          ],
          [
           "Like Cotton Twines"
          ],
          [
           "Almost Adults"
          ],
          [
           "Almost Adults"
          ],
          [
           "The 100"
          ],
          [
           "I.T"
          ]
         ],
         "hovertemplate": "Category=NR<br>Release Year=%{x}<br>index=%{y}<br>Show Title=%{customdata[0]}<extra></extra>",
         "legendgroup": "NR",
         "marker": {
          "color": "#FF6692",
          "symbol": "circle"
         },
         "mode": "markers",
         "name": "NR",
         "orientation": "h",
         "showlegend": true,
         "type": "scatter",
         "x": [
          2016,
          2013,
          2013,
          2014,
          2016,
          2016,
          2016,
          2016,
          2014,
          2016,
          2016,
          2016,
          2016,
          2016
         ],
         "xaxis": "x",
         "y": [
          19,
          22,
          23,
          37,
          46,
          47,
          76,
          149,
          191,
          194,
          199,
          249,
          378,
          448
         ],
         "yaxis": "y"
        },
        {
         "customdata": [
          [
           "Trollhunters"
          ],
          [
           "Justice League"
          ],
          [
           "Justice League Unlimited"
          ],
          [
           "Mighty Morphin Power Rangers"
          ],
          [
           "Power Rangers Zeo"
          ],
          [
           "Transformers Prime"
          ],
          [
           "LEGO: Marvel Super Heroes: Maximum Overload"
          ],
          [
           "Max Steel"
          ],
          [
           "Transformers Prime Beast Hunters: Predacons Rising"
          ],
          [
           "All Hail King Julien"
          ],
          [
           "Kong: King of the Apes"
          ],
          [
           "Slugterra: Slug Fu Showdown"
          ],
          [
           "Dinotrux"
          ],
          [
           "Edgar Rice Burroughs' Tarzan and Jane"
          ],
          [
           "Trollhunters"
          ],
          [
           "Nexo Knights"
          ],
          [
           "Justice League"
          ],
          [
           "Justice League Unlimited"
          ],
          [
           "Mighty Morphin Power Rangers"
          ],
          [
           "Ninja Turtles: The Next Mutation"
          ],
          [
           "Transformers Prime"
          ],
          [
           "LEGO Ninjago: Masters of Spinjitzu"
          ],
          [
           "LEGO Ninjago: Masters of Spinjitzu: Way of the Ninja"
          ],
          [
           "All Hail King Julien"
          ],
          [
           "The Adventures of Puss in Boots"
          ],
          [
           "Kong: King of the Apes"
          ],
          [
           "Dinotrux"
          ],
          [
           "Edgar Rice Burroughs' Tarzan and Jane"
          ],
          [
           "Kulipari: An Army of Frogs"
          ],
          [
           "LEGO Bionicle: The Journey to One"
          ],
          [
           "Voltron: Legendary Defender"
          ],
          [
           "Trollhunters"
          ],
          [
           "PokÃ©mon: XY"
          ],
          [
           "Dragons: Race to the Edge"
          ],
          [
           "Dinotrux"
          ],
          [
           "All Hail King Julien"
          ],
          [
           "Dragons: Race to the Edge"
          ],
          [
           "Dinotrux"
          ],
          [
           "Dragons: Race to the Edge"
          ],
          [
           "Dinotrux"
          ],
          [
           "Ninja Turtles: The Next Mutation"
          ],
          [
           "Dinosaur King"
          ],
          [
           "Kong: King of the Apes"
          ],
          [
           "Dinotrux"
          ]
         ],
         "hovertemplate": "Category=TV-Y7-FV<br>Release Year=%{x}<br>index=%{y}<br>Show Title=%{customdata[0]}<extra></extra>",
         "legendgroup": "TV-Y7-FV",
         "marker": {
          "color": "#B6E880",
          "symbol": "circle"
         },
         "mode": "markers",
         "name": "TV-Y7-FV",
         "orientation": "h",
         "showlegend": true,
         "type": "scatter",
         "x": [
          2016,
          2003,
          2005,
          2010,
          1996,
          2013,
          2013,
          2014,
          2013,
          2016,
          2016,
          2015,
          2017,
          2017,
          2016,
          2015,
          2003,
          2005,
          2010,
          1997,
          2013,
          2015,
          2011,
          2016,
          2016,
          2016,
          2017,
          2017,
          2016,
          2016,
          2017,
          2016,
          2015,
          2017,
          2017,
          2016,
          2017,
          2017,
          2017,
          2017,
          1997,
          2008,
          2016,
          2017
         ],
         "xaxis": "x",
         "y": [
          33,
          515,
          516,
          517,
          520,
          522,
          526,
          527,
          528,
          532,
          533,
          535,
          536,
          537,
          539,
          549,
          557,
          558,
          560,
          563,
          564,
          566,
          569,
          578,
          579,
          580,
          583,
          584,
          585,
          588,
          590,
          591,
          594,
          626,
          631,
          682,
          685,
          688,
          729,
          732,
          820,
          829,
          834,
          840
         ],
         "yaxis": "y"
        },
        {
         "customdata": [
          [
           "White Girl"
          ]
         ],
         "hovertemplate": "Category=UR<br>Release Year=%{x}<br>index=%{y}<br>Show Title=%{customdata[0]}<extra></extra>",
         "legendgroup": "UR",
         "marker": {
          "color": "#FF97FF",
          "symbol": "circle"
         },
         "mode": "markers",
         "name": "UR",
         "orientation": "h",
         "showlegend": true,
         "type": "scatter",
         "x": [
          2016
         ],
         "xaxis": "x",
         "y": [
          38
         ],
         "yaxis": "y"
        },
        {
         "customdata": [
          [
           "Zootopia"
          ],
          [
           "Finding Dory"
          ],
          [
           "Pete's Dragon"
          ],
          [
           "Kubo and the Two Strings"
          ],
          [
           "Queen of Katwe"
          ],
          [
           "Nancy Drew"
          ],
          [
           "The Great Gilly Hopkins"
          ],
          [
           "The Matchbreaker"
          ],
          [
           "Grease"
          ],
          [
           "Coraline"
          ],
          [
           "Finding Dory"
          ],
          [
           "Grease"
          ],
          [
           "Home"
          ],
          [
           "Zootopia"
          ],
          [
           "Finding Dory"
          ],
          [
           "The Nightmare Before Christmas"
          ],
          [
           "Scooby-Doo"
          ],
          [
           "Teenage Mutant Ninja Turtles"
          ],
          [
           "Star Wars: The Clone Wars"
          ],
          [
           "Coraline"
          ],
          [
           "Agent F.O.X."
          ],
          [
           "Marvel Super Hero Adventures: Frost Fight!"
          ],
          [
           "The Jungle Book"
          ],
          [
           "The Angry Birds Movie"
          ],
          [
           "The Secret Life of Pets"
          ],
          [
           "Marvel's Hulk: Where Monsters Dwell"
          ],
          [
           "The Nightmare Before Christmas"
          ],
          [
           "Scooby-Doo"
          ],
          [
           "The Iron Giant"
          ],
          [
           "Star Wars: The Clone Wars"
          ],
          [
           "Ratchet and Clank"
          ],
          [
           "Iron Man & Captain America: Heroes United"
          ],
          [
           "Marvel Super Hero Adventures: Frost Fight!"
          ],
          [
           "Marvel's Hulk: Where Monsters Dwell"
          ],
          [
           "The Little Rascals"
          ],
          [
           "Flubber"
          ],
          [
           "Scooby-Doo"
          ],
          [
           "Lilo & Stitch"
          ],
          [
           "Scooby-Doo 2: Monsters Unleashed"
          ],
          [
           "The Pacifier"
          ],
          [
           "Teenage Mutant Ninja Turtles"
          ],
          [
           "Bee Movie"
          ],
          [
           "Kung Fu Panda"
          ],
          [
           "Coraline"
          ],
          [
           "Home"
          ],
          [
           "Hotel Transylvania 2"
          ],
          [
           "Goosebumps"
          ],
          [
           "Kung Fu Panda 3"
          ],
          [
           "Zootopia"
          ],
          [
           "The Jungle Book"
          ],
          [
           "Open Season: Scared Silly"
          ],
          [
           "The Angry Birds Movie"
          ],
          [
           "Alice Through the Looking Glass"
          ],
          [
           "Finding Dory"
          ],
          [
           "The Secret Life of Pets"
          ],
          [
           "The Little Rascals"
          ],
          [
           "Antz"
          ],
          [
           "Lilo & Stitch"
          ],
          [
           "Spy Kids 3: Game Over"
          ],
          [
           "Annie"
          ],
          [
           "Lilo & Stitch 2: Stitch Has A Glitch"
          ],
          [
           "Teenage Mutant Ninja Turtles"
          ],
          [
           "Bee Movie"
          ],
          [
           "Kung Fu Panda"
          ],
          [
           "Paddington"
          ],
          [
           "Minions"
          ],
          [
           "Hotel Transylvania 2"
          ],
          [
           "The Little Prince"
          ],
          [
           "Zootopia"
          ],
          [
           "The Jungle Book"
          ],
          [
           "Open Season: Scared Silly"
          ],
          [
           "The Angry Birds Movie"
          ],
          [
           "Finding Dory"
          ],
          [
           "The Secret Life of Pets"
          ],
          [
           "Cool Runnings"
          ],
          [
           "The Little Rascals"
          ],
          [
           "Scooby-Doo"
          ],
          [
           "Lilo & Stitch"
          ],
          [
           "Missione Hamburger"
          ],
          [
           "Bee Movie"
          ],
          [
           "Kung Fu Panda"
          ],
          [
           "Coraline"
          ],
          [
           "Home"
          ],
          [
           "Paddington"
          ],
          [
           "Minions"
          ],
          [
           "Hotel Transylvania 2"
          ],
          [
           "Kung Fu Panda 3"
          ],
          [
           "Zootopia"
          ],
          [
           "The Jungle Book"
          ],
          [
           "Open Season: Scared Silly"
          ],
          [
           "The Angry Birds Movie"
          ],
          [
           "Alice Through the Looking Glass"
          ],
          [
           "The BFG"
          ],
          [
           "The Secret Life of Pets"
          ],
          [
           "Pete's Dragon"
          ],
          [
           "Kubo and the Two Strings"
          ],
          [
           "Cool Runnings"
          ],
          [
           "Antz"
          ],
          [
           "The Prince of Egypt"
          ],
          [
           "Paulie"
          ],
          [
           "The Road to El Dorado"
          ],
          [
           "The Iron Giant"
          ],
          [
           "A Monster in Paris"
          ],
          [
           "Ernest & Celestine"
          ],
          [
           "Jack and the Cuckoo-Clock Heart"
          ],
          [
           "Axel: The Biggest Little Hero"
          ],
          [
           "Alice Through the Looking Glass"
          ],
          [
           "Quackerz"
          ],
          [
           "Blinky Bill: The Movie"
          ],
          [
           "Flubber"
          ],
          [
           "Scooby-Doo"
          ],
          [
           "The Lizzie McGuire Movie"
          ],
          [
           "The Iron Giant"
          ],
          [
           "Delhi Safari"
          ],
          [
           "Axel: The Biggest Little Hero"
          ],
          [
           "Agent F.O.X."
          ],
          [
           "Ribbit"
          ],
          [
           "Worms"
          ],
          [
           "Hotel Transylvania 2"
          ],
          [
           "The Secret Life of Pets"
          ],
          [
           "Cool Runnings"
          ],
          [
           "Antz"
          ],
          [
           "The Prince of Egypt"
          ],
          [
           "Paulie"
          ],
          [
           "The Road to El Dorado"
          ],
          [
           "The Iron Giant"
          ],
          [
           "A Monster in Paris"
          ],
          [
           "Ernest & Celestine"
          ],
          [
           "Jack and the Cuckoo-Clock Heart"
          ],
          [
           "Axel: The Biggest Little Hero"
          ],
          [
           "Alice Through the Looking Glass"
          ],
          [
           "Quackerz"
          ],
          [
           "Blinky Bill: The Movie"
          ],
          [
           "Cool Runnings"
          ],
          [
           "Antz"
          ],
          [
           "The Road to El Dorado"
          ],
          [
           "Harry and the Hendersons"
          ],
          [
           "Cats & Dogs"
          ],
          [
           "Atlantis: The Lost Empire"
          ],
          [
           "Annie"
          ],
          [
           "The Iron Giant"
          ],
          [
           "Corpse Bride"
          ],
          [
           "Ernest & Celestine"
          ],
          [
           "Underdogs"
          ],
          [
           "Ribbit"
          ],
          [
           "Yellowbird"
          ],
          [
           "Quackerz"
          ],
          [
           "Cool Runnings"
          ],
          [
           "Mr. Magoo"
          ],
          [
           "Flubber"
          ],
          [
           "Antz"
          ],
          [
           "Paulie"
          ],
          [
           "The Road to El Dorado"
          ],
          [
           "Harry and the Hendersons"
          ],
          [
           "Cats & Dogs"
          ],
          [
           "Baby's Day Out"
          ],
          [
           "Blank Check"
          ],
          [
           "Heavyweights"
          ],
          [
           "Annie"
          ],
          [
           "D2: The Mighty Ducks"
          ],
          [
           "Honey, I Shrunk the Kids"
          ],
          [
           "The Iron Giant"
          ],
          [
           "Air Buddies"
          ],
          [
           "Dr. Dolittle: Tail to the Chief"
          ],
          [
           "Flicka 2"
          ],
          [
           "Dolphin Tale"
          ],
          [
           "Paddington"
          ],
          [
           "Russell Madness"
          ],
          [
           "The BFG"
          ],
          [
           "The Secret Life of Pets"
          ]
         ],
         "hovertemplate": "Category=PG<br>Release Year=%{x}<br>index=%{y}<br>Show Title=%{customdata[0]}<extra></extra>",
         "legendgroup": "PG",
         "marker": {
          "color": "#FECB52",
          "symbol": "circle"
         },
         "mode": "markers",
         "name": "PG",
         "orientation": "h",
         "showlegend": true,
         "type": "scatter",
         "x": [
          2016,
          2016,
          2016,
          2016,
          2016,
          2007,
          2016,
          2016,
          1978,
          2009,
          2016,
          1978,
          2015,
          2016,
          2016,
          1993,
          2002,
          2007,
          2008,
          2009,
          2014,
          2015,
          2016,
          2016,
          2016,
          2016,
          1993,
          2002,
          1999,
          2008,
          2016,
          2014,
          2015,
          2016,
          1994,
          1997,
          2002,
          2002,
          2004,
          2005,
          2007,
          2007,
          2008,
          2009,
          2015,
          2015,
          2015,
          2016,
          2016,
          2016,
          2015,
          2016,
          2016,
          2016,
          2016,
          1994,
          1998,
          2002,
          2003,
          1982,
          2005,
          2007,
          2007,
          2008,
          2014,
          2015,
          2015,
          2015,
          2016,
          2016,
          2015,
          2016,
          2016,
          2016,
          1993,
          1994,
          2002,
          2002,
          1997,
          2007,
          2008,
          2009,
          2015,
          2014,
          2015,
          2015,
          2016,
          2016,
          2016,
          2015,
          2016,
          2016,
          2016,
          2016,
          2016,
          2016,
          1993,
          1998,
          1998,
          1998,
          2000,
          1999,
          2011,
          2012,
          2013,
          2013,
          2016,
          2016,
          2015,
          1997,
          2002,
          2003,
          1999,
          2012,
          2013,
          2014,
          2014,
          2013,
          2015,
          2016,
          1993,
          1998,
          1998,
          1998,
          2000,
          1999,
          2011,
          2012,
          2013,
          2013,
          2016,
          2016,
          2015,
          1993,
          1998,
          2000,
          1987,
          2001,
          2001,
          1982,
          1999,
          2005,
          2012,
          2013,
          2014,
          2014,
          2016,
          1993,
          1997,
          1997,
          1998,
          1998,
          2000,
          1987,
          2001,
          1994,
          1994,
          1995,
          1982,
          1994,
          1989,
          1999,
          2006,
          2008,
          2010,
          2011,
          2014,
          2015,
          2016,
          2016
         ],
         "xaxis": "x",
         "y": [
          86,
          88,
          91,
          180,
          184,
          200,
          236,
          245,
          252,
          258,
          293,
          301,
          340,
          342,
          343,
          500,
          501,
          503,
          504,
          505,
          529,
          534,
          542,
          543,
          544,
          546,
          550,
          552,
          553,
          554,
          573,
          575,
          581,
          598,
          600,
          601,
          604,
          605,
          606,
          609,
          611,
          612,
          613,
          614,
          623,
          629,
          632,
          633,
          634,
          635,
          637,
          639,
          640,
          641,
          642,
          650,
          651,
          656,
          657,
          658,
          661,
          662,
          663,
          664,
          678,
          684,
          687,
          689,
          691,
          692,
          694,
          695,
          696,
          697,
          700,
          702,
          706,
          707,
          708,
          711,
          712,
          713,
          724,
          725,
          728,
          731,
          734,
          736,
          737,
          738,
          740,
          741,
          742,
          743,
          744,
          745,
          750,
          752,
          754,
          755,
          757,
          773,
          779,
          782,
          787,
          789,
          795,
          796,
          798,
          800,
          804,
          808,
          814,
          819,
          827,
          828,
          830,
          836,
          839,
          847,
          850,
          852,
          854,
          855,
          857,
          873,
          879,
          882,
          887,
          889,
          895,
          896,
          898,
          900,
          903,
          905,
          908,
          910,
          911,
          920,
          927,
          931,
          936,
          942,
          944,
          945,
          948,
          950,
          951,
          952,
          954,
          956,
          957,
          960,
          961,
          962,
          966,
          967,
          970,
          972,
          973,
          974,
          976,
          977,
          978,
          981,
          988,
          989,
          995,
          996
         ],
         "yaxis": "y"
        },
        {
         "customdata": [
          [
           "High School Musical 2"
          ],
          [
           "StarStruck"
          ],
          [
           "Fuller House"
          ],
          [
           "High School Musical"
          ],
          [
           "High School Musical 2"
          ],
          [
           "Cars Toons: Mater's Tall Tales"
          ],
          [
           "Phineas and Ferb"
          ],
          [
           "Oscar's Oasis"
          ],
          [
           "Thomas & Friends: King of the Railway"
          ],
          [
           "Thunder and the House Of Magic"
          ],
          [
           "Angry Birds"
          ],
          [
           "Talking Tom and Friends"
          ],
          [
           "Cars Toons: Mater's Tall Tales"
          ],
          [
           "Some Assembly Required"
          ],
          [
           "Cars Toons: Mater's Tall Tales"
          ],
          [
           "Phineas and Ferb"
          ],
          [
           "Jessie"
          ],
          [
           "Disney Animation Collection: Vol. 1: Mickey and the Beanstalk"
          ],
          [
           "Angry Birds"
          ],
          [
           "Talking Tom and Friends"
          ],
          [
           "Cars Toons: Mater's Tall Tales"
          ],
          [
           "Disney Animation Collection: Vol. 1: Mickey and the Beanstalk"
          ],
          [
           "Barbie Life in the Dreamhouse"
          ],
          [
           "Larva"
          ],
          [
           "Talking Tom and Friends"
          ],
          [
           "Cars Toons: Mater's Tall Tales"
          ],
          [
           "Jessie"
          ],
          [
           "Barbie Life in the Dreamhouse"
          ],
          [
           "Walt Disney Animation Studios Short Films Collection"
          ],
          [
           "Bunk'd"
          ],
          [
           "Pocahontas II: Journey to a New World"
          ],
          [
           "Disney Animation Collection: Vol. 4: The Tortoise and the Hare"
          ],
          [
           "PopPixie"
          ],
          [
           "Pet Pals in Windland"
          ],
          [
           "Walt Disney Animation Studios Short Films Collection"
          ],
          [
           "Alpha and Omega: Dino Digs"
          ],
          [
           "Monster Math Squad"
          ],
          [
           "Rooster Doodle-doo"
          ],
          [
           "Alpha and Omega: Dino Digs"
          ],
          [
           "Gon"
          ],
          [
           "Pocahontas II: Journey to a New World"
          ],
          [
           "Disney Animation Collection: Vol. 4: The Tortoise and the Hare"
          ],
          [
           "PopPixie"
          ],
          [
           "Pet Pals in Windland"
          ],
          [
           "Walt Disney Animation Studios Short Films Collection"
          ],
          [
           "Alpha and Omega: Dino Digs"
          ],
          [
           "Disney Animation Collection: Vol. 1: Mickey and the Beanstalk"
          ],
          [
           "Disney Animation Collection: Vol. 2: Three Little Pigs"
          ],
          [
           "Disney Animation Collection: Vol. 4: The Tortoise and the Hare"
          ],
          [
           "Alpha and Omega: Dino Digs"
          ],
          [
           "Precious Puppies"
          ],
          [
           "Beary Tales"
          ]
         ],
         "hovertemplate": "Category=TV-G<br>Release Year=%{x}<br>index=%{y}<br>Show Title=%{customdata[0]}<extra></extra>",
         "legendgroup": "TV-G",
         "marker": {
          "color": "#636efa",
          "symbol": "circle"
         },
         "mode": "markers",
         "name": "TV-G",
         "orientation": "h",
         "showlegend": true,
         "type": "scatter",
         "x": [
          2007,
          2010,
          2016,
          2006,
          2007,
          2010,
          2012,
          2011,
          2013,
          2013,
          2013,
          2016,
          2010,
          2015,
          2010,
          2012,
          2015,
          2009,
          2013,
          2016,
          2010,
          2009,
          2012,
          2015,
          2016,
          2010,
          2015,
          2012,
          2015,
          2016,
          1998,
          2009,
          2011,
          2014,
          2015,
          2016,
          2012,
          2014,
          2016,
          2013,
          1998,
          2009,
          2011,
          2014,
          2015,
          2016,
          2009,
          2009,
          2009,
          2016,
          2003,
          2013
         ],
         "xaxis": "x",
         "y": [
          256,
          262,
          292,
          304,
          305,
          510,
          513,
          521,
          525,
          531,
          547,
          548,
          555,
          582,
          615,
          616,
          618,
          619,
          647,
          649,
          665,
          673,
          677,
          679,
          699,
          714,
          716,
          722,
          733,
          735,
          759,
          785,
          786,
          792,
          793,
          794,
          823,
          832,
          843,
          844,
          859,
          885,
          886,
          892,
          893,
          894,
          938,
          939,
          940,
          992,
          997,
          998
         ],
         "yaxis": "y"
        },
        {
         "customdata": [
          [
           "Hannah Montana: The Movie"
          ],
          [
           "Hannah Montana: The Movie"
          ],
          [
           "Chicken Little"
          ],
          [
           "The Smurfs and the Magic Flute"
          ],
          [
           "We're Back! A Dinosaur's Story"
          ],
          [
           "An Extremely Goofy Movie"
          ],
          [
           "Super Buddies"
          ],
          [
           "Growing Up Wild"
          ],
          [
           "Tarzan"
          ],
          [
           "The Emperor's New Groove"
          ],
          [
           "The Three Musketeers"
          ],
          [
           "Mickey's Twice Upon a Christmas"
          ],
          [
           "Chicken Little"
          ],
          [
           "The Land Before Time XIV: Journey of the Brave"
          ],
          [
           "Tarzan"
          ],
          [
           "An Extremely Goofy Movie"
          ],
          [
           "Chicken Run"
          ],
          [
           "The Emperor's New Groove"
          ],
          [
           "Mulan 2"
          ],
          [
           "Chicken Little"
          ],
          [
           "Beverly Hills Chihuahua 3: Viva La Fiesta!"
          ],
          [
           "Homeward Bound: The Incredible Journey"
          ],
          [
           "Anastasia"
          ],
          [
           "Tarzan"
          ],
          [
           "The Emperor's New Groove"
          ],
          [
           "Chicken Little"
          ],
          [
           "Curious George"
          ],
          [
           "Secret of the Wings"
          ],
          [
           "The Land Before Time XIV: Journey of the Brave"
          ],
          [
           "Growing Up Wild"
          ],
          [
           "Anastasia"
          ],
          [
           "Babe: Pig in the City"
          ],
          [
           "Tarzan"
          ],
          [
           "Fantasia 2000"
          ],
          [
           "The Emperor's New Groove"
          ],
          [
           "Fantasia"
          ],
          [
           "An American Tail"
          ],
          [
           "Pooh's Grand Adventure: The Search for Christopher Robin"
          ],
          [
           "FernGully 2: The Magical Rescue"
          ],
          [
           "Balto 2: Wolf Quest"
          ],
          [
           "Balto"
          ],
          [
           "Back to the Secret Garden"
          ],
          [
           "The Brave Little Toaster Goes to Mars"
          ],
          [
           "The Brave Little Toaster to the Rescue"
          ],
          [
           "An American Tail: The Mystery of the Night Monster"
          ],
          [
           "An American Tail: Fievel Goes West"
          ],
          [
           "The Last Unicorn"
          ],
          [
           "Brother Bear 2"
          ],
          [
           "The Fox and the Hound 2"
          ],
          [
           "The Smurfs and the Magic Flute"
          ],
          [
           "Jetsons: The Movie"
          ],
          [
           "We're Back! A Dinosaur's Story"
          ],
          [
           "The Pirate Fairy"
          ],
          [
           "The Boxcar Children"
          ],
          [
           "Anastasia"
          ],
          [
           "An Extremely Goofy Movie"
          ],
          [
           "An American Tail"
          ],
          [
           "FernGully: The Last Rainforest"
          ],
          [
           "Balto 2: Wolf Quest"
          ],
          [
           "Balto"
          ],
          [
           "The Brave Little Toaster Goes to Mars"
          ],
          [
           "The Brave Little Toaster to the Rescue"
          ],
          [
           "Recess: Taking the Fifth Grade"
          ],
          [
           "An American Tail: The Mystery of the Night Monster"
          ],
          [
           "An American Tail: Fievel Goes West"
          ],
          [
           "The Hero of Color City"
          ],
          [
           "The Little Engine That Could"
          ],
          [
           "The Land Before Time XIV: Journey of the Brave"
          ],
          [
           "Anastasia"
          ],
          [
           "Babe: Pig in the City"
          ],
          [
           "Tarzan"
          ],
          [
           "Fantasia 2000"
          ],
          [
           "The Emperor's New Groove"
          ],
          [
           "Fantasia"
          ],
          [
           "An American Tail"
          ],
          [
           "Pooh's Grand Adventure: The Search for Christopher Robin"
          ],
          [
           "FernGully 2: The Magical Rescue"
          ],
          [
           "Balto 2: Wolf Quest"
          ],
          [
           "Balto"
          ],
          [
           "Back to the Secret Garden"
          ],
          [
           "The Brave Little Toaster Goes to Mars"
          ],
          [
           "The Brave Little Toaster to the Rescue"
          ],
          [
           "An American Tail: The Mystery of the Night Monster"
          ],
          [
           "An American Tail: Fievel Goes West"
          ],
          [
           "The Last Unicorn"
          ],
          [
           "Brother Bear 2"
          ],
          [
           "The Fox and the Hound 2"
          ],
          [
           "The Smurfs and the Magic Flute"
          ],
          [
           "Jetsons: The Movie"
          ],
          [
           "We're Back! A Dinosaur's Story"
          ],
          [
           "The Pirate Fairy"
          ],
          [
           "The Boxcar Children"
          ],
          [
           "Homeward Bound: The Incredible Journey"
          ],
          [
           "Anastasia"
          ],
          [
           "Babe: Pig in the City"
          ],
          [
           "Fantasia 2000"
          ],
          [
           "Fantasia"
          ],
          [
           "Pooh's Grand Adventure: The Search for Christopher Robin"
          ],
          [
           "FernGully: The Last Rainforest"
          ],
          [
           "Balto 2: Wolf Quest"
          ],
          [
           "Balto"
          ],
          [
           "Back to the Secret Garden"
          ],
          [
           "Tarzan & Jane"
          ],
          [
           "Atlantis: Milo's Return"
          ],
          [
           "The Brave Little Toaster Goes to Mars"
          ],
          [
           "The Brave Little Toaster to the Rescue"
          ],
          [
           "Recess: Taking the Fifth Grade"
          ],
          [
           "An American Tail: The Mystery of the Night Monster"
          ],
          [
           "Batched"
          ],
          [
           "An American Tail: Fievel Goes West"
          ],
          [
           "Winnie the Pooh: Springtime with Roo"
          ],
          [
           "The Last Unicorn"
          ],
          [
           "Mulan 2"
          ],
          [
           "Pooh's Heffalump Movie"
          ],
          [
           "Kronk's New Groove"
          ],
          [
           "Brother Bear 2"
          ],
          [
           "The Smurfs and the Magic Flute"
          ],
          [
           "Jetsons: The Movie"
          ],
          [
           "We're Back! A Dinosaur's Story"
          ],
          [
           "The Pirate Fairy"
          ],
          [
           "The Boxcar Children"
          ],
          [
           "The Land Before Time XIV: Journey of the Brave"
          ],
          [
           "Growing Up Wild"
          ],
          [
           "Anastasia"
          ],
          [
           "Babe: Pig in the City"
          ],
          [
           "Air Bud: World Pup"
          ],
          [
           "An American Tail"
          ],
          [
           "Balto 2: Wolf Quest"
          ],
          [
           "Balto"
          ],
          [
           "Back to the Secret Garden"
          ],
          [
           "Inspector Gadget 2"
          ],
          [
           "Air Bud: Spikes Back"
          ],
          [
           "An American Tail: Fievel Goes West"
          ],
          [
           "The Fox and the Hound 2"
          ],
          [
           "Beverly Hills Chihuahua 3: Viva La Fiesta!"
          ],
          [
           "Wiener Dog Internationals"
          ],
          [
           "Pup Star"
          ],
          [
           "Growing Up Wild"
          ]
         ],
         "hovertemplate": "Category=G<br>Release Year=%{x}<br>index=%{y}<br>Show Title=%{customdata[0]}<extra></extra>",
         "legendgroup": "G",
         "marker": {
          "color": "#EF553B",
          "symbol": "circle"
         },
         "mode": "markers",
         "name": "G",
         "orientation": "h",
         "showlegend": true,
         "type": "scatter",
         "x": [
          2009,
          2009,
          2005,
          1976,
          1993,
          1999,
          2013,
          2016,
          1999,
          2000,
          2004,
          2004,
          2005,
          2016,
          1999,
          1999,
          2000,
          2000,
          2004,
          2005,
          2012,
          1993,
          1997,
          1999,
          2000,
          2005,
          2006,
          2012,
          2016,
          2016,
          1997,
          1998,
          1999,
          2000,
          2000,
          1940,
          1986,
          1997,
          1998,
          2001,
          1995,
          2002,
          1998,
          1997,
          1999,
          1991,
          1982,
          2006,
          2006,
          1976,
          1990,
          1993,
          2014,
          2014,
          1997,
          1999,
          1986,
          1992,
          2001,
          1995,
          1998,
          1997,
          2003,
          1999,
          1991,
          2014,
          2011,
          2016,
          1997,
          1998,
          1999,
          2000,
          2000,
          1940,
          1986,
          1997,
          1998,
          2001,
          1995,
          2002,
          1998,
          1997,
          1999,
          1991,
          1982,
          2006,
          2006,
          1976,
          1990,
          1993,
          2014,
          2014,
          1993,
          1997,
          1998,
          2000,
          1940,
          1997,
          1992,
          2001,
          1995,
          2002,
          2002,
          2003,
          1998,
          1997,
          2003,
          1999,
          2000,
          1991,
          2004,
          1982,
          2004,
          2005,
          2005,
          2006,
          1976,
          1990,
          1993,
          2014,
          2014,
          2016,
          2016,
          1997,
          1998,
          2000,
          1986,
          2001,
          1995,
          2002,
          2003,
          2003,
          1991,
          2006,
          2012,
          2015,
          2016,
          2016
         ],
         "xaxis": "x",
         "y": [
          259,
          307,
          502,
          506,
          507,
          551,
          570,
          599,
          602,
          603,
          607,
          608,
          610,
          638,
          652,
          653,
          654,
          655,
          659,
          660,
          668,
          701,
          703,
          704,
          705,
          709,
          710,
          717,
          739,
          748,
          751,
          753,
          756,
          758,
          760,
          761,
          762,
          763,
          764,
          765,
          766,
          767,
          768,
          769,
          770,
          771,
          772,
          774,
          775,
          776,
          777,
          778,
          788,
          791,
          801,
          802,
          803,
          805,
          806,
          807,
          809,
          810,
          811,
          812,
          813,
          816,
          818,
          846,
          851,
          853,
          856,
          858,
          860,
          861,
          862,
          863,
          864,
          865,
          866,
          867,
          868,
          869,
          870,
          871,
          872,
          874,
          875,
          876,
          877,
          878,
          888,
          891,
          901,
          902,
          904,
          906,
          907,
          909,
          912,
          913,
          914,
          915,
          916,
          917,
          918,
          919,
          921,
          922,
          923,
          924,
          925,
          926,
          928,
          929,
          930,
          932,
          933,
          934,
          935,
          941,
          943,
          947,
          949,
          953,
          955,
          958,
          959,
          963,
          964,
          965,
          968,
          969,
          971,
          975,
          983,
          993,
          994,
          999
         ],
         "yaxis": "y"
        },
        {
         "customdata": [
          [
           "Dino Squad"
          ],
          [
           "The Batman"
          ],
          [
           "The Super Mario Bros. Super Show!"
          ],
          [
           "Transformers: Rescue Bots"
          ],
          [
           "Lego DC Comics: Batman Be-Leaguered"
          ],
          [
           "Power Rangers Dino Charge"
          ],
          [
           "The Batman"
          ],
          [
           "Beyblade: Metal Fusion"
          ],
          [
           "Transformers: Rescue Bots"
          ],
          [
           "Goosebumps"
          ],
          [
           "Pac-Man and the Ghostly Adventures"
          ],
          [
           "Power Rangers Super Megaforce"
          ],
          [
           "Transformers: Robots in Disguise"
          ],
          [
           "Lego DC Comics: Batman Be-Leaguered"
          ],
          [
           "Power Rangers Dino Charge"
          ],
          [
           "Power Rangers Dino Super Charge"
          ],
          [
           "The Deep"
          ],
          [
           "Skylanders Academy"
          ],
          [
           "Lab Rats"
          ],
          [
           "Dawn of the Croods"
          ],
          [
           "Home: Adventures with Tip & Oh"
          ],
          [
           "Goosebumps"
          ],
          [
           "Home: Adventures with Tip & Oh"
          ],
          [
           "The Real Ghostbusters"
          ],
          [
           "Animaniacs"
          ],
          [
           "The Adventures of Figaro Pho"
          ],
          [
           "Hatched"
          ],
          [
           "The Real Ghostbusters"
          ],
          [
           "Dino Squad"
          ],
          [
           "The Mr. Peabody and Sherman Show"
          ],
          [
           "LEGO Jurassic World: The Indominus Escape"
          ],
          [
           "The Real Ghostbusters"
          ],
          [
           "Animaniacs"
          ],
          [
           "The Adventures of Figaro Pho"
          ],
          [
           "Hatched"
          ],
          [
           "The Real Ghostbusters"
          ],
          [
           "Animaniacs"
          ],
          [
           "Dawn of the Croods"
          ]
         ],
         "hovertemplate": "Category=TV-Y7<br>Release Year=%{x}<br>index=%{y}<br>Show Title=%{customdata[0]}<extra></extra>",
         "legendgroup": "TV-Y7",
         "marker": {
          "color": "#00cc96",
          "symbol": "circle"
         },
         "mode": "markers",
         "name": "TV-Y7",
         "orientation": "h",
         "showlegend": true,
         "type": "scatter",
         "x": [
          2008,
          2007,
          1989,
          2016,
          2014,
          2015,
          2007,
          2009,
          2016,
          1998,
          2014,
          2014,
          2016,
          2014,
          2015,
          2016,
          2015,
          2016,
          2016,
          2017,
          2017,
          1998,
          2017,
          1990,
          1997,
          2015,
          2013,
          1990,
          2008,
          2017,
          2016,
          1990,
          1997,
          2015,
          2013,
          1990,
          1997,
          2017
         ],
         "xaxis": "x",
         "y": [
          509,
          514,
          519,
          524,
          538,
          540,
          556,
          562,
          567,
          568,
          574,
          576,
          586,
          589,
          593,
          595,
          596,
          597,
          620,
          630,
          636,
          671,
          693,
          749,
          784,
          790,
          797,
          799,
          817,
          841,
          848,
          849,
          884,
          890,
          897,
          899,
          937,
          991
         ],
         "yaxis": "y"
        }
       ],
       "layout": {
        "legend": {
         "title": {
          "text": "Category"
         },
         "tracegroupgap": 0
        },
        "margin": {
         "t": 60
        },
        "template": {
         "data": {
          "bar": [
           {
            "error_x": {
             "color": "#2a3f5f"
            },
            "error_y": {
             "color": "#2a3f5f"
            },
            "marker": {
             "line": {
              "color": "#E5ECF6",
              "width": 0.5
             },
             "pattern": {
              "fillmode": "overlay",
              "size": 10,
              "solidity": 0.2
             }
            },
            "type": "bar"
           }
          ],
          "barpolar": [
           {
            "marker": {
             "line": {
              "color": "#E5ECF6",
              "width": 0.5
             },
             "pattern": {
              "fillmode": "overlay",
              "size": 10,
              "solidity": 0.2
             }
            },
            "type": "barpolar"
           }
          ],
          "carpet": [
           {
            "aaxis": {
             "endlinecolor": "#2a3f5f",
             "gridcolor": "white",
             "linecolor": "white",
             "minorgridcolor": "white",
             "startlinecolor": "#2a3f5f"
            },
            "baxis": {
             "endlinecolor": "#2a3f5f",
             "gridcolor": "white",
             "linecolor": "white",
             "minorgridcolor": "white",
             "startlinecolor": "#2a3f5f"
            },
            "type": "carpet"
           }
          ],
          "choropleth": [
           {
            "colorbar": {
             "outlinewidth": 0,
             "ticks": ""
            },
            "type": "choropleth"
           }
          ],
          "contour": [
           {
            "colorbar": {
             "outlinewidth": 0,
             "ticks": ""
            },
            "colorscale": [
             [
              0,
              "#0d0887"
             ],
             [
              0.1111111111111111,
              "#46039f"
             ],
             [
              0.2222222222222222,
              "#7201a8"
             ],
             [
              0.3333333333333333,
              "#9c179e"
             ],
             [
              0.4444444444444444,
              "#bd3786"
             ],
             [
              0.5555555555555556,
              "#d8576b"
             ],
             [
              0.6666666666666666,
              "#ed7953"
             ],
             [
              0.7777777777777778,
              "#fb9f3a"
             ],
             [
              0.8888888888888888,
              "#fdca26"
             ],
             [
              1,
              "#f0f921"
             ]
            ],
            "type": "contour"
           }
          ],
          "contourcarpet": [
           {
            "colorbar": {
             "outlinewidth": 0,
             "ticks": ""
            },
            "type": "contourcarpet"
           }
          ],
          "heatmap": [
           {
            "colorbar": {
             "outlinewidth": 0,
             "ticks": ""
            },
            "colorscale": [
             [
              0,
              "#0d0887"
             ],
             [
              0.1111111111111111,
              "#46039f"
             ],
             [
              0.2222222222222222,
              "#7201a8"
             ],
             [
              0.3333333333333333,
              "#9c179e"
             ],
             [
              0.4444444444444444,
              "#bd3786"
             ],
             [
              0.5555555555555556,
              "#d8576b"
             ],
             [
              0.6666666666666666,
              "#ed7953"
             ],
             [
              0.7777777777777778,
              "#fb9f3a"
             ],
             [
              0.8888888888888888,
              "#fdca26"
             ],
             [
              1,
              "#f0f921"
             ]
            ],
            "type": "heatmap"
           }
          ],
          "heatmapgl": [
           {
            "colorbar": {
             "outlinewidth": 0,
             "ticks": ""
            },
            "colorscale": [
             [
              0,
              "#0d0887"
             ],
             [
              0.1111111111111111,
              "#46039f"
             ],
             [
              0.2222222222222222,
              "#7201a8"
             ],
             [
              0.3333333333333333,
              "#9c179e"
             ],
             [
              0.4444444444444444,
              "#bd3786"
             ],
             [
              0.5555555555555556,
              "#d8576b"
             ],
             [
              0.6666666666666666,
              "#ed7953"
             ],
             [
              0.7777777777777778,
              "#fb9f3a"
             ],
             [
              0.8888888888888888,
              "#fdca26"
             ],
             [
              1,
              "#f0f921"
             ]
            ],
            "type": "heatmapgl"
           }
          ],
          "histogram": [
           {
            "marker": {
             "pattern": {
              "fillmode": "overlay",
              "size": 10,
              "solidity": 0.2
             }
            },
            "type": "histogram"
           }
          ],
          "histogram2d": [
           {
            "colorbar": {
             "outlinewidth": 0,
             "ticks": ""
            },
            "colorscale": [
             [
              0,
              "#0d0887"
             ],
             [
              0.1111111111111111,
              "#46039f"
             ],
             [
              0.2222222222222222,
              "#7201a8"
             ],
             [
              0.3333333333333333,
              "#9c179e"
             ],
             [
              0.4444444444444444,
              "#bd3786"
             ],
             [
              0.5555555555555556,
              "#d8576b"
             ],
             [
              0.6666666666666666,
              "#ed7953"
             ],
             [
              0.7777777777777778,
              "#fb9f3a"
             ],
             [
              0.8888888888888888,
              "#fdca26"
             ],
             [
              1,
              "#f0f921"
             ]
            ],
            "type": "histogram2d"
           }
          ],
          "histogram2dcontour": [
           {
            "colorbar": {
             "outlinewidth": 0,
             "ticks": ""
            },
            "colorscale": [
             [
              0,
              "#0d0887"
             ],
             [
              0.1111111111111111,
              "#46039f"
             ],
             [
              0.2222222222222222,
              "#7201a8"
             ],
             [
              0.3333333333333333,
              "#9c179e"
             ],
             [
              0.4444444444444444,
              "#bd3786"
             ],
             [
              0.5555555555555556,
              "#d8576b"
             ],
             [
              0.6666666666666666,
              "#ed7953"
             ],
             [
              0.7777777777777778,
              "#fb9f3a"
             ],
             [
              0.8888888888888888,
              "#fdca26"
             ],
             [
              1,
              "#f0f921"
             ]
            ],
            "type": "histogram2dcontour"
           }
          ],
          "mesh3d": [
           {
            "colorbar": {
             "outlinewidth": 0,
             "ticks": ""
            },
            "type": "mesh3d"
           }
          ],
          "parcoords": [
           {
            "line": {
             "colorbar": {
              "outlinewidth": 0,
              "ticks": ""
             }
            },
            "type": "parcoords"
           }
          ],
          "pie": [
           {
            "automargin": true,
            "type": "pie"
           }
          ],
          "scatter": [
           {
            "fillpattern": {
             "fillmode": "overlay",
             "size": 10,
             "solidity": 0.2
            },
            "type": "scatter"
           }
          ],
          "scatter3d": [
           {
            "line": {
             "colorbar": {
              "outlinewidth": 0,
              "ticks": ""
             }
            },
            "marker": {
             "colorbar": {
              "outlinewidth": 0,
              "ticks": ""
             }
            },
            "type": "scatter3d"
           }
          ],
          "scattercarpet": [
           {
            "marker": {
             "colorbar": {
              "outlinewidth": 0,
              "ticks": ""
             }
            },
            "type": "scattercarpet"
           }
          ],
          "scattergeo": [
           {
            "marker": {
             "colorbar": {
              "outlinewidth": 0,
              "ticks": ""
             }
            },
            "type": "scattergeo"
           }
          ],
          "scattergl": [
           {
            "marker": {
             "colorbar": {
              "outlinewidth": 0,
              "ticks": ""
             }
            },
            "type": "scattergl"
           }
          ],
          "scattermapbox": [
           {
            "marker": {
             "colorbar": {
              "outlinewidth": 0,
              "ticks": ""
             }
            },
            "type": "scattermapbox"
           }
          ],
          "scatterpolar": [
           {
            "marker": {
             "colorbar": {
              "outlinewidth": 0,
              "ticks": ""
             }
            },
            "type": "scatterpolar"
           }
          ],
          "scatterpolargl": [
           {
            "marker": {
             "colorbar": {
              "outlinewidth": 0,
              "ticks": ""
             }
            },
            "type": "scatterpolargl"
           }
          ],
          "scatterternary": [
           {
            "marker": {
             "colorbar": {
              "outlinewidth": 0,
              "ticks": ""
             }
            },
            "type": "scatterternary"
           }
          ],
          "surface": [
           {
            "colorbar": {
             "outlinewidth": 0,
             "ticks": ""
            },
            "colorscale": [
             [
              0,
              "#0d0887"
             ],
             [
              0.1111111111111111,
              "#46039f"
             ],
             [
              0.2222222222222222,
              "#7201a8"
             ],
             [
              0.3333333333333333,
              "#9c179e"
             ],
             [
              0.4444444444444444,
              "#bd3786"
             ],
             [
              0.5555555555555556,
              "#d8576b"
             ],
             [
              0.6666666666666666,
              "#ed7953"
             ],
             [
              0.7777777777777778,
              "#fb9f3a"
             ],
             [
              0.8888888888888888,
              "#fdca26"
             ],
             [
              1,
              "#f0f921"
             ]
            ],
            "type": "surface"
           }
          ],
          "table": [
           {
            "cells": {
             "fill": {
              "color": "#EBF0F8"
             },
             "line": {
              "color": "white"
             }
            },
            "header": {
             "fill": {
              "color": "#C8D4E3"
             },
             "line": {
              "color": "white"
             }
            },
            "type": "table"
           }
          ]
         },
         "layout": {
          "annotationdefaults": {
           "arrowcolor": "#2a3f5f",
           "arrowhead": 0,
           "arrowwidth": 1
          },
          "autotypenumbers": "strict",
          "coloraxis": {
           "colorbar": {
            "outlinewidth": 0,
            "ticks": ""
           }
          },
          "colorscale": {
           "diverging": [
            [
             0,
             "#8e0152"
            ],
            [
             0.1,
             "#c51b7d"
            ],
            [
             0.2,
             "#de77ae"
            ],
            [
             0.3,
             "#f1b6da"
            ],
            [
             0.4,
             "#fde0ef"
            ],
            [
             0.5,
             "#f7f7f7"
            ],
            [
             0.6,
             "#e6f5d0"
            ],
            [
             0.7,
             "#b8e186"
            ],
            [
             0.8,
             "#7fbc41"
            ],
            [
             0.9,
             "#4d9221"
            ],
            [
             1,
             "#276419"
            ]
           ],
           "sequential": [
            [
             0,
             "#0d0887"
            ],
            [
             0.1111111111111111,
             "#46039f"
            ],
            [
             0.2222222222222222,
             "#7201a8"
            ],
            [
             0.3333333333333333,
             "#9c179e"
            ],
            [
             0.4444444444444444,
             "#bd3786"
            ],
            [
             0.5555555555555556,
             "#d8576b"
            ],
            [
             0.6666666666666666,
             "#ed7953"
            ],
            [
             0.7777777777777778,
             "#fb9f3a"
            ],
            [
             0.8888888888888888,
             "#fdca26"
            ],
            [
             1,
             "#f0f921"
            ]
           ],
           "sequentialminus": [
            [
             0,
             "#0d0887"
            ],
            [
             0.1111111111111111,
             "#46039f"
            ],
            [
             0.2222222222222222,
             "#7201a8"
            ],
            [
             0.3333333333333333,
             "#9c179e"
            ],
            [
             0.4444444444444444,
             "#bd3786"
            ],
            [
             0.5555555555555556,
             "#d8576b"
            ],
            [
             0.6666666666666666,
             "#ed7953"
            ],
            [
             0.7777777777777778,
             "#fb9f3a"
            ],
            [
             0.8888888888888888,
             "#fdca26"
            ],
            [
             1,
             "#f0f921"
            ]
           ]
          },
          "colorway": [
           "#636efa",
           "#EF553B",
           "#00cc96",
           "#ab63fa",
           "#FFA15A",
           "#19d3f3",
           "#FF6692",
           "#B6E880",
           "#FF97FF",
           "#FECB52"
          ],
          "font": {
           "color": "#2a3f5f"
          },
          "geo": {
           "bgcolor": "white",
           "lakecolor": "white",
           "landcolor": "#E5ECF6",
           "showlakes": true,
           "showland": true,
           "subunitcolor": "white"
          },
          "hoverlabel": {
           "align": "left"
          },
          "hovermode": "closest",
          "mapbox": {
           "style": "light"
          },
          "paper_bgcolor": "white",
          "plot_bgcolor": "#E5ECF6",
          "polar": {
           "angularaxis": {
            "gridcolor": "white",
            "linecolor": "white",
            "ticks": ""
           },
           "bgcolor": "#E5ECF6",
           "radialaxis": {
            "gridcolor": "white",
            "linecolor": "white",
            "ticks": ""
           }
          },
          "scene": {
           "xaxis": {
            "backgroundcolor": "#E5ECF6",
            "gridcolor": "white",
            "gridwidth": 2,
            "linecolor": "white",
            "showbackground": true,
            "ticks": "",
            "zerolinecolor": "white"
           },
           "yaxis": {
            "backgroundcolor": "#E5ECF6",
            "gridcolor": "white",
            "gridwidth": 2,
            "linecolor": "white",
            "showbackground": true,
            "ticks": "",
            "zerolinecolor": "white"
           },
           "zaxis": {
            "backgroundcolor": "#E5ECF6",
            "gridcolor": "white",
            "gridwidth": 2,
            "linecolor": "white",
            "showbackground": true,
            "ticks": "",
            "zerolinecolor": "white"
           }
          },
          "shapedefaults": {
           "line": {
            "color": "#2a3f5f"
           }
          },
          "ternary": {
           "aaxis": {
            "gridcolor": "white",
            "linecolor": "white",
            "ticks": ""
           },
           "baxis": {
            "gridcolor": "white",
            "linecolor": "white",
            "ticks": ""
           },
           "bgcolor": "#E5ECF6",
           "caxis": {
            "gridcolor": "white",
            "linecolor": "white",
            "ticks": ""
           }
          },
          "title": {
           "x": 0.05
          },
          "xaxis": {
           "automargin": true,
           "gridcolor": "white",
           "linecolor": "white",
           "ticks": "",
           "title": {
            "standoff": 15
           },
           "zerolinecolor": "white",
           "zerolinewidth": 2
          },
          "yaxis": {
           "automargin": true,
           "gridcolor": "white",
           "linecolor": "white",
           "ticks": "",
           "title": {
            "standoff": 15
           },
           "zerolinecolor": "white",
           "zerolinewidth": 2
          }
         }
        },
        "xaxis": {
         "anchor": "y",
         "domain": [
          0,
          1
         ],
         "title": {
          "text": "Release Year"
         }
        },
        "yaxis": {
         "anchor": "x",
         "domain": [
          0,
          1
         ],
         "title": {
          "text": "index"
         }
        }
       }
      },
      "text/html": [
       "<div>                            <div id=\"b6686be2-14cb-4883-beb8-5b32298a610a\" class=\"plotly-graph-div\" style=\"height:525px; width:100%;\"></div>            <script type=\"text/javascript\">                require([\"plotly\"], function(Plotly) {                    window.PLOTLYENV=window.PLOTLYENV || {};                                    if (document.getElementById(\"b6686be2-14cb-4883-beb8-5b32298a610a\")) {                    Plotly.newPlot(                        \"b6686be2-14cb-4883-beb8-5b32298a610a\",                        [{\"customdata\":[[\"White Chicks\"],[\"The Waterboy\"],[\"10 Things I Hate About You\"],[\"How to Lose a Guy in 10 Days\"],[\"The Benchwarmers\"],[\"Step Up\"],[\"Twilight\"],[\"Mean Girls 2\"],[\"Safe Haven\"],[\"The Waterboy\"],[\"The Wedding Planner\"],[\"Twilight\"],[\"Mean Girls 2\"],[\"Trouble with the Curve\"],[\"Unconditional\"]],\"hovertemplate\":\"Category=PG-13<br>Release Year=%{x}<br>index=%{y}<br>Show Title=%{customdata[0]}<extra></extra>\",\"legendgroup\":\"PG-13\",\"marker\":{\"color\":\"#636efa\",\"symbol\":\"circle\"},\"mode\":\"markers\",\"name\":\"PG-13\",\"orientation\":\"h\",\"showlegend\":true,\"x\":[2004,1998,1999,2003,2006,2006,2008,2011,2013,1998,2001,2008,2011,2012,2012],\"xaxis\":\"x\",\"y\":[0,250,251,253,254,255,257,273,286,300,302,306,322,335,372],\"yaxis\":\"y\",\"type\":\"scatter\"},{\"customdata\":[[\"Lucky Number Slevin\"],[\"The Hunter\"],[\"Hyena Road\"],[\"Lucky Number Slevin\"],[\"Meet the Blacks\"],[\"Sausage Party\"],[\"Kevin Hart: What Now?\"],[\"The Life Aquatic with Steve Zissou\"],[\"Lucky Number Slevin\"],[\"5 to 7\"],[\"The Brothers\"],[\"Dope\"],[\"The Angriest Man in Brooklyn\"],[\"5 to 7\"],[\"Blow\"],[\"Magic Mike\"],[\"Sausage Party\"],[\"London Has Fallen\"],[\"London Has Fallen\"]],\"hovertemplate\":\"Category=R<br>Release Year=%{x}<br>index=%{y}<br>Show Title=%{customdata[0]}<extra></extra>\",\"legendgroup\":\"R\",\"marker\":{\"color\":\"#EF553B\",\"symbol\":\"circle\"},\"mode\":\"markers\",\"name\":\"R\",\"orientation\":\"h\",\"showlegend\":true,\"x\":[2006,2011,2015,2006,2016,2016,2016,2004,2006,2014,2001,2015,2014,2014,2001,2012,2016,2016,2016],\"xaxis\":\"x\",\"y\":[1,14,35,50,87,90,92,100,101,117,150,170,217,218,303,334,344,381,431],\"yaxis\":\"y\",\"type\":\"scatter\"},{\"customdata\":[[\"Grey's Anatomy\"],[\"Prison Break\"],[\"Supernatural\"],[\"The Vampire Diaries\"],[\"Pretty Little Liars\"],[\"Sherlock\"],[\"Death Note\"],[\"Arrow\"],[\"The Originals\"],[\"The Seven Deadly Sins\"],[\"Scream\"],[\"Fearless\"],[\"Sandy Wexler\"],[\"Happily Married\"],[\"The Office (U.S.)\"],[\"Grey's Anatomy\"],[\"Prison Break\"],[\"90210\"],[\"Gossip Girl\"],[\"Supernatural\"],[\"Parks and Recreation\"],[\"The Vampire Diaries\"],[\"Criminal Minds\"],[\"Friends\"],[\"The Secret Life of the American Teenager\"],[\"One Tree Hill\"],[\"Pretty Little Liars\"],[\"New Girl\"],[\"Inside Russia's Toughest Prison\"],[\"Bates Motel\"],[\"How to Get Away with Murder\"],[\"Stranger Things\"],[\"Sandy Wexler\"],[\"The Office (U.S.)\"],[\"30 Rock\"],[\"Mad Men\"],[\"Parks and Recreation\"],[\"Friends\"],[\"Portlandia\"],[\"New Girl\"],[\"Don't Trust the B---- in Apartment 23\"],[\"Friends with Benefits\"],[\"The Client List\"],[\"Halt and Catch Fire\"],[\"Documentary Now!\"],[\"Schitt's Creek\"],[\"Abstract: The Art of Design\"],[\"Cooper Barrett's Guide to Surviving Life\"],[\"Life in Pieces\"],[\"Crazy Ex-Girlfriend\"],[\"No Tomorrow\"],[\"Sandy Wexler\"],[\"The Cleveland Show\"],[\"Absolutely Fabulous\"],[\"Don't Trust the B---- in Apartment 23\"],[\"Raising Hope\"],[\"Come Fly With Me\"],[\"Bates Motel\"],[\"Being Mary Jane: The Series\"],[\"Documentary Now!\"],[\"Unbreakable Kimmy Schmidt\"],[\"Bordertown\"],[\"Jane The Virgin\"],[\"Schitt's Creek\"],[\"The Carmichael Show\"],[\"Cooper Barrett's Guide to Surviving Life\"],[\"November Rule\"],[\"Life in Pieces\"],[\"Crazy Ex-Girlfriend\"],[\"Haters Back Off\"],[\"Little Boxes\"],[\"Deidra & Laney Rob a Train\"],[\"Greenleaf\"],[\"The Wedding Party\"],[\"30 Rock\"],[\"Parks and Recreation\"],[\"Gilmore Girls\"],[\"Parenthood\"],[\"Portlandia\"],[\"New Girl\"],[\"Don't Trust the B---- in Apartment 23\"],[\"Raising Hope\"],[\"Being Human (U.S.)\"],[\"Friends with Benefits\"],[\"The Carrie Diaries\"],[\"Baby Daddy\"],[\"Halt and Catch Fire\"],[\"Unbreakable Kimmy Schmidt\"],[\"Bordertown\"],[\"Girlfriends' Guide to Divorce\"],[\"Schitt's Creek\"],[\"The Carmichael Show\"],[\"Abstract: The Art of Design\"],[\"Cooper Barrett's Guide to Surviving Life\"],[\"Life in Pieces\"],[\"Crazy Ex-Girlfriend\"],[\"No Tomorrow\"],[\"Sandy Wexler\"],[\"The Office (U.S.)\"],[\"Grey's Anatomy\"],[\"Prison Break\"],[\"90210\"],[\"Gossip Girl\"],[\"The Vampire Diaries\"],[\"Criminal Minds\"],[\"Friends\"],[\"The Secret Life of the American Teenager\"],[\"That '70s Show\"],[\"Gilmore Girls\"],[\"Parenthood\"],[\"Pretty Little Liars\"],[\"Switched at Birth\"],[\"New Girl\"],[\"The Client List\"],[\"The Carrie Diaries\"],[\"Baby Daddy\"],[\"The Night Shift\"],[\"Reign\"],[\"How to Get Away with Murder\"],[\"Gilmore Girls: A Year in the Life\"],[\"Gabriel lglesias: I\\u00e2\\u20ac\\u2122m Sorry For What I Said When I Was Hungry\"],[\"The Office (U.S.)\"],[\"Bones\"],[\"Law & Order: Special Victims Unit\"],[\"Prison Break\"],[\"NCIS\"],[\"Gossip Girl\"],[\"Supernatural\"],[\"Parks and Recreation\"],[\"The Vampire Diaries\"],[\"Criminal Minds\"],[\"Friends\"],[\"The Secret Life of the American Teenager\"],[\"One Tree Hill\"],[\"Army Wives\"],[\"Gilmore Girls\"],[\"Private Practice\"],[\"Parenthood\"],[\"Pretty Little Liars\"],[\"New Girl\"],[\"Scandal\"],[\"Baby Daddy\"],[\"The Night Shift\"],[\"The Originals\"],[\"How to Get Away with Murder\"],[\"Skin Wars\"],[\"Lost\"],[\"Grey's Anatomy\"],[\"Lie to Me\"],[\"Prison Break\"],[\"Gossip Girl\"],[\"The Vampire Diaries\"],[\"The Secret Life of the American Teenager\"],[\"Gilmore Girls\"],[\"Pretty Little Liars\"],[\"The Killing\"],[\"Scandal\"],[\"The Client List\"],[\"Bates Motel\"],[\"The Blacklist\"],[\"The Fosters\"],[\"Reign\"],[\"The Originals\"],[\"Witches of East End\"],[\"Velvet\"],[\"How to Get Away with Murder\"],[\"Jane The Virgin\"],[\"Kurt Seyit & Sura\"],[\"The Returned\"],[\"Quantico\"],[\"Life in Pieces\"],[\"Greenleaf\"],[\"Bones\"],[\"Grey's Anatomy\"],[\"Lie to Me\"],[\"Prison Break\"],[\"NCIS\"],[\"Burn Notice\"],[\"Criminal Minds\"],[\"Luther\"],[\"Hawaii Five-0\"],[\"Person of Interest\"],[\"Scandal\"],[\"Touch\"],[\"Sherlock\"],[\"Breakout Kings\"],[\"The Client List\"],[\"Arrow\"],[\"The Following\"],[\"Drugs, Inc.\"],[\"Longmire\"],[\"Death in Paradise\"],[\"Crossing Lines\"],[\"Halt and Catch Fire\"],[\"Gotham\"],[\"How to Get Away with Murder\"],[\"American Odyssey\"],[\"Rosewood\"],[\"Quantico\"],[\"Limitless\"],[\"The Office (U.S.)\"],[\"Grey's Anatomy\"],[\"Law & Order: Special Victims Unit\"],[\"Lie to Me\"],[\"Prison Break\"],[\"90210\"],[\"Gossip Girl\"],[\"Parks and Recreation\"],[\"The Vampire Diaries\"],[\"Criminal Minds\"],[\"Friends\"],[\"The West Wing\"],[\"Parenthood\"],[\"Blue Bloods\"],[\"Pretty Little Liars\"],[\"The Killing\"],[\"New Girl\"],[\"Person of Interest\"],[\"Scandal\"],[\"Forensic Files\"],[\"Sherlock\"],[\"The Client List\"],[\"Rectify\"],[\"Bates Motel\"],[\"The Blacklist\"],[\"Being Mary Jane: The Series\"],[\"American Crime\"],[\"Madam Secretary\"],[\"Scream\"],[\"Rosewood\"],[\"Quantico\"],[\"Limitless\"],[\"No Tomorrow\"],[\"Greenleaf\"]],\"hovertemplate\":\"Category=TV-14<br>Release Year=%{x}<br>index=%{y}<br>Show Title=%{customdata[0]}<extra></extra>\",\"legendgroup\":\"TV-14\",\"marker\":{\"color\":\"#00cc96\",\"symbol\":\"circle\"},\"mode\":\"markers\",\"name\":\"TV-14\",\"orientation\":\"h\",\"showlegend\":true,\"x\":[2016,2008,2016,2017,2016,2016,2006,2015,2016,2016,2016,2016,2017,2015,2012,2016,2008,2013,2012,2016,2015,2017,2016,2003,2013,2011,2016,2016,2011,2016,2016,2016,2017,2012,2012,2014,2015,2003,2016,2016,2012,2011,2013,2016,2016,2016,2017,2016,2015,2017,2016,2017,2012,2012,2012,2013,2010,2016,2016,2016,2016,2016,2016,2016,2016,2016,2015,2015,2017,2016,2016,2017,2016,2016,2012,2015,2006,2014,2016,2016,2012,2013,2014,2011,2013,2016,2016,2016,2016,2015,2016,2016,2017,2016,2015,2017,2016,2017,2012,2016,2008,2013,2012,2017,2016,2003,2013,2005,2006,2014,2016,2015,2016,2013,2013,2016,2015,2015,2016,2016,2016,2012,2016,2015,2008,2016,2012,2016,2015,2017,2016,2003,2013,2011,2013,2006,2012,2014,2016,2016,2016,2016,2015,2016,2016,2016,2010,2016,2010,2008,2012,2017,2013,2006,2016,2014,2016,2013,2016,2016,2016,2015,2016,2014,2016,2016,2016,2014,2015,2016,2015,2016,2016,2016,2010,2008,2016,2013,2016,2015,2016,2016,2016,2012,2016,2012,2013,2015,2015,2015,2016,2016,2015,2016,2016,2016,2015,2015,2016,2016,2012,2016,2015,2010,2008,2013,2012,2015,2017,2016,2003,2005,2014,2016,2016,2014,2016,2016,2016,2011,2016,2013,2016,2016,2016,2016,2016,2016,2016,2015,2016,2016,2016,2016],\"xaxis\":\"x\",\"y\":[2,3,5,7,9,11,12,16,18,28,29,34,44,48,51,52,53,54,55,57,59,61,63,64,65,66,68,70,73,75,79,84,96,103,104,105,108,109,111,112,113,114,115,116,120,124,129,130,132,133,136,142,152,153,154,155,156,159,161,162,164,167,168,169,172,173,175,176,177,179,185,186,192,195,201,203,205,206,208,209,210,211,212,213,214,215,216,221,225,226,227,228,230,231,233,234,239,243,260,263,264,265,266,269,271,272,274,275,276,277,279,281,282,284,285,287,288,289,291,294,296,308,309,310,311,313,314,316,317,319,320,321,323,324,325,326,327,328,329,331,333,337,338,339,341,345,350,353,354,355,356,358,359,361,365,366,370,371,373,374,375,376,377,379,385,386,388,389,390,392,393,398,400,403,404,405,406,407,409,411,412,416,417,418,419,420,421,422,423,424,425,428,430,432,436,438,440,443,444,445,450,451,452,453,454,455,456,458,459,460,461,462,463,465,467,468,470,472,474,475,476,477,479,481,483,484,485,486,488,489,491,492,495,499],\"yaxis\":\"y\",\"type\":\"scatter\"},{\"customdata\":[[\"How I Met Your Mother\"],[\"Once Upon a Time\"],[\"Naruto\"],[\"The Flash\"],[\"How I Met Your Mother\"],[\"Glee\"],[\"The Flash\"],[\"Cheer Squad\"],[\"The Great British Baking Show\"],[\"Minimalism: A Documentary About the Important Things\"],[\"Merl\\u00c3\\u00ad\"],[\"The Great British Baking Show\"],[\"Drop Dead Diva\"],[\"Life Unexpected\"],[\"The Great British Baking Show\"],[\"One Day at a Time\"],[\"Cheer Squad\"],[\"Friday Night Lights\"],[\"How I Met Your Mother\"],[\"Glee\"],[\"Heartland\"],[\"Hart of Dixie\"],[\"Cheer Squad\"],[\"How I Met Your Mother\"],[\"Glee\"],[\"Revenge\"],[\"Cheer Squad\"],[\"Glee\"],[\"Drop Dead Diva\"],[\"Charmed\"],[\"White Collar\"],[\"Hart of Dixie\"],[\"Once Upon a Time\"],[\"Merl\\u00c3\\u00ad\"],[\"Leverage\"],[\"White Collar\"],[\"Last Man Standing\"],[\"Revenge\"],[\"Marvel's Agents of S.H.I.E.L.D.\"],[\"How I Met Your Mother\"],[\"White Collar\"],[\"Revenge\"],[\"Once Upon a Time\"],[\"The Great British Baking Show\"],[\"Star Wars: The Clone Wars\"],[\"Young Justice\"],[\"Bunks\"],[\"DreamWorks Kung Fu Panda Awesome Secrets\"],[\"Tad: The Lost Explorer\"],[\"Buddy Thunderstruck\"],[\"DreamWorks Shrek's Swamp Stories\"],[\"DreamWorks Spooky Stories: Volume 2\"],[\"Sammy 2\"],[\"Sammy 2\"],[\"DreamWorks How to Train Your Dragon Legends\"],[\"Sammy 2\"],[\"DreamWorks How to Train Your Dragon Legends\"],[\"H2O: Just Add Water\"],[\"Step Dogs\"]],\"hovertemplate\":\"Category=TV-PG<br>Release Year=%{x}<br>index=%{y}<br>Show Title=%{customdata[0]}<extra></extra>\",\"legendgroup\":\"TV-PG\",\"marker\":{\"color\":\"#ab63fa\",\"symbol\":\"circle\"},\"mode\":\"markers\",\"name\":\"TV-PG\",\"orientation\":\"h\",\"showlegend\":true,\"x\":[2014,2016,2008,2016,2014,2015,2016,2016,2016,2016,2015,2016,2014,2010,2016,2017,2016,2010,2014,2015,2015,2014,2016,2014,2015,2015,2016,2015,2014,2005,2014,2014,2016,2015,2012,2014,2015,2015,2016,2014,2014,2015,2016,2016,2014,2012,2013,2008,2012,2017,2008,2011,2012,2012,2011,2012,2011,2009,2013],\"xaxis\":\"x\",\"y\":[4,10,13,27,56,60,82,98,131,137,145,174,204,207,232,238,248,261,267,268,278,283,298,315,318,332,349,357,360,362,363,368,369,397,402,410,414,415,429,457,464,471,473,490,512,518,541,565,571,592,667,669,672,719,781,822,881,979,985],\"yaxis\":\"y\",\"type\":\"scatter\"},{\"customdata\":[[\"Breaking Bad\"],[\"The Walking Dead\"],[\"Black Mirror\"],[\"\\u00c3\\u201c Pai, \\u00c3\\u201c - Look at This\"],[\"Marvel's Luke Cage\"],[\"Marvel's Iron Fist\"],[\"Narcos\"],[\"The Do-Over\"],[\"Opera\\u00c3\\u00a7\\u00c3\\u00b5es Especiais\"],[\"0.03\"],[\"Santa Clarita Diet\"],[\"Girlboss\"],[\"City of God: 10 Years Later\"],[\"13 Reasons Why\"],[\"Sand Castle\"],[\"Salvador Martinha - Tip of the Tongue\"],[\"O Amor no Div\\u00c3\\u00a3\"],[\"Pandora\"],[\"Breaking Bad\"],[\"Family Guy\"],[\"The Walking Dead\"],[\"Shameless (U.S.)\"],[\"American Horror Story\"],[\"Orange Is the New Black\"],[\"Black Mirror\"],[\"Marvel's Iron Fist\"],[\"Grace and Frankie\"],[\"The Get Down\"],[\"Love\"],[\"The OA\"],[\"Ingobernable\"],[\"Santa Clarita Diet\"],[\"Girlboss\"],[\"The Discovery\"],[\"Sand Castle\"],[\"Chewing Gum\"],[\"Only for One Night\"],[\"The L Word\"],[\"It's Always Sunny in Philadelphia\"],[\"Californication\"],[\"Shameless (U.S.)\"],[\"Marvel's Iron Fist\"],[\"Chef's Table\"],[\"Grace and Frankie\"],[\"Better Call Saul\"],[\"The Get Down\"],[\"Lovesick\"],[\"Flaked\"],[\"Master of None\"],[\"Chelsea\"],[\"Easy\"],[\"Santa Clarita Diet\"],[\"Girlboss\"],[\"Hot Girls Wanted: Turned On\"],[\"The Discovery\"],[\"13 Reasons Why\"],[\"Chewing Gum\"],[\"Win It All\"],[\"Amy Schumer: The Leather Special\"],[\"Louis C.K. 2017\"],[\"Dave Chappelle\"],[\"Skins\"],[\"Orange Is the New Black\"],[\"Brickleberry\"],[\"BoJack Horseman\"],[\"Grace and Frankie\"],[\"The Get Down\"],[\"Love\"],[\"Lovesick\"],[\"Easy\"],[\"Skins\"],[\"A Weekend with the Family\"],[\"Crazyhead\"],[\"Girlboss\"],[\"Hot Girls Wanted: Turned On\"],[\"13 Reasons Why\"],[\"Hurricane Bianca\"],[\"Lazy Eye\"],[\"Dave Chappelle\"],[\"Only for One Night\"],[\"Boy Bye\"],[\"Nurse Jackie\"],[\"Chef's Table\"],[\"Grace and Frankie\"],[\"The Get Down\"],[\"Sense8\"],[\"Love\"],[\"Chelsea\"],[\"Fried\"],[\"The Magicians\"],[\"Hot Girls Wanted: Turned On\"],[\"13 Reasons Why\"],[\"Better Off Single\"],[\"Chewing Gum\"],[\"Tramps\"],[\"Slam\"],[\"Family Guy\"],[\"Shameless (U.S.)\"],[\"Grace and Frankie\"],[\"13 Reasons Why\"],[\"Amy Schumer: The Leather Special\"],[\"Dave Chappelle\"],[\"Nurse Jackie\"],[\"Shameless (U.S.)\"],[\"Orange Is the New Black\"],[\"Girlboss\"],[\"13 Reasons Why\"],[\"Felipe Neto: My Life Makes No Sense\"],[\"Weeds\"],[\"The Tudors\"],[\"House of Cards\"],[\"Shameless (U.S.)\"],[\"Bitten\"],[\"Marvel's Jessica Jones\"],[\"Bloodline\"],[\"Grace and Frankie\"],[\"The Crown\"],[\"The Girl in the Book\"],[\"Ingobernable\"],[\"Girlboss\"],[\"13 Reasons Why\"],[\"100 Metros\"],[\"Dexter\"],[\"Breaking Bad\"],[\"House of Cards\"],[\"Ripper Street\"],[\"The Fall\"],[\"Marvel's Iron Fist\"],[\"The Honorable Woman\"],[\"Transporter: The Series\"],[\"Better Call Saul\"],[\"Narcos\"],[\"Aquarius\"],[\"Hap and Leonard\"],[\"Travelers\"],[\"The Doctor Blake Mysteries\"],[\"Bordertown\"],[\"House of Cards\"],[\"Shameless (U.S.)\"],[\"Orange Is the New Black\"],[\"Black Mirror\"],[\"The Fall\"],[\"Sense8\"],[\"American Crime Story: The People v. O.J. Simpson\"],[\"Santa Clarita Diet\"],[\"Girlboss\"],[\"13 Reasons Why\"],[\"The Doctor Blake Mysteries\"]],\"hovertemplate\":\"Category=TV-MA<br>Release Year=%{x}<br>index=%{y}<br>Show Title=%{customdata[0]}<extra></extra>\",\"legendgroup\":\"TV-MA\",\"marker\":{\"color\":\"#FFA15A\",\"symbol\":\"circle\"},\"mode\":\"markers\",\"name\":\"TV-MA\",\"orientation\":\"h\",\"showlegend\":true,\"x\":[2013,2015,2016,2007,2016,2017,2016,2016,2015,2016,2017,2017,2013,2017,2017,2016,2016,2016,2013,2015,2015,2016,2016,2016,2016,2017,2017,2017,2017,2016,2017,2017,2017,2017,2017,2017,2016,2009,2016,2014,2016,2017,2017,2017,2016,2017,2016,2016,2015,2017,2016,2017,2017,2017,2017,2017,2017,2017,2017,2017,2017,2013,2016,2014,2016,2017,2017,2017,2016,2016,2017,2016,2016,2017,2017,2017,2016,2016,2017,2016,2016,2015,2017,2017,2017,2017,2017,2017,2015,2016,2017,2017,2016,2017,2017,2017,2015,2016,2017,2017,2017,2017,2015,2016,2016,2017,2017,2017,2012,2010,2016,2016,2016,2015,2016,2017,2016,2015,2017,2017,2017,2016,2013,2013,2016,2016,2016,2017,2014,2014,2016,2016,2015,2016,2016,2016,2016,2016,2016,2016,2016,2016,2017,2016,2017,2017,2017,2016],\"xaxis\":\"x\",\"y\":[6,8,17,21,24,25,26,30,31,32,36,39,40,41,42,43,45,49,58,62,67,69,71,72,74,77,78,80,81,83,85,89,93,94,95,97,99,102,106,107,110,118,119,121,122,123,125,126,127,128,134,135,138,139,140,141,143,144,146,147,148,151,157,158,160,163,165,166,171,178,181,182,183,187,188,189,190,193,196,197,198,202,219,220,222,223,224,229,235,237,240,241,242,244,246,247,270,280,290,295,297,299,312,330,336,346,347,348,351,352,364,367,380,382,383,384,387,391,394,395,396,399,401,408,413,426,427,433,434,435,437,439,441,442,446,447,449,466,469,478,480,482,487,493,494,496,497,498],\"yaxis\":\"y\",\"type\":\"scatter\"},{\"customdata\":[[\"Lottie Dottie Chicken\"],[\"Masha and the Bear\"],[\"Thomas & Friends: Thomas & the Runaway Kite\"],[\"LeapFrog: The Amazing Alphabet Amusement Park\"],[\"The Adventures of Chuck & Friends\"],[\"VeggieTales in the House\"],[\"The Furchester Hotel\"],[\"The Cat in the Hat Knows a Lot About That!\"],[\"Bob the Builder\"],[\"Pok\\u00c3\\u00a9mon: Indigo League\"],[\"Chuggington\"],[\"Robocar Poli\"],[\"Super Why!\"],[\"Masha and the Bear\"],[\"Pocoyo\"],[\"Chuggington\"],[\"Octonauts\"],[\"Mother Goose Club\"],[\"Little Einsteins\"],[\"Ask the StoryBots\"],[\"The Furchester Hotel\"],[\"Goldie & Bear\"],[\"Little Baby Bum: Nursery Rhyme Friends\"],[\"Tayo the Little Bus\"],[\"Super Why!\"],[\"The Magic School Bus\"],[\"Masha and the Bear\"],[\"Pocoyo\"],[\"Sofia the First\"],[\"Sid the Science Kid\"],[\"Chuggington\"],[\"Octonauts\"],[\"Little Einsteins\"],[\"Word Party\"],[\"Goldie & Bear\"],[\"Super Why!\"],[\"The Magic School Bus\"],[\"Masha and the Bear\"],[\"Sofia the First\"],[\"Clifford the Big Red Dog\"],[\"Chuggington\"],[\"Octonauts\"],[\"Little Einsteins\"],[\"Goldie & Bear\"],[\"Little Baby Bum: Nursery Rhyme Friends\"],[\"The Gruffalo\"],[\"The Magic School Bus\"],[\"The Very Hungry Caterpillar and Other Stories\"],[\"Pound Puppies\"],[\"Care Bears: Welcome to Care-a-Lot\"],[\"Clifford the Big Red Dog\"],[\"Clifford's Puppy Days\"],[\"Chuggington\"],[\"Octonauts\"],[\"My Animal Friends\"],[\"Puffin Rock\"],[\"Little Einsteins\"],[\"Zoobabu\"],[\"Sid the Science Kid: The Movie\"],[\"The Gruffalo\"],[\"The Magic School Bus\"],[\"Octonauts\"],[\"The Gruffalo\"],[\"Pound Puppies\"],[\"The Magic School Bus\"],[\"Pok\\u00c3\\u00a9mon: Indigo League\"],[\"Mia and Me\"],[\"My Animal Friends\"]],\"hovertemplate\":\"Category=TV-Y<br>Release Year=%{x}<br>index=%{y}<br>Show Title=%{customdata[0]}<extra></extra>\",\"legendgroup\":\"TV-Y\",\"marker\":{\"color\":\"#19d3f3\",\"symbol\":\"circle\"},\"mode\":\"markers\",\"name\":\"TV-Y\",\"orientation\":\"h\",\"showlegend\":true,\"x\":[2009,2013,2010,2010,2011,2016,2015,2014,2015,2000,2015,2012,2015,2013,2007,2015,2015,2016,2007,2016,2015,2016,2016,2014,2015,1997,2013,2007,2015,2008,2015,2015,2007,2016,2016,2015,1997,2013,2015,2002,2015,2015,2007,2016,2016,2009,1997,1993,2013,2012,2002,2003,2015,2015,2013,2016,2007,2010,2012,2009,1997,2015,2009,2013,1997,2000,2015,2013],\"xaxis\":\"x\",\"y\":[15,20,508,511,523,530,545,559,561,572,577,587,617,621,622,624,625,627,628,643,644,645,646,648,666,670,674,675,676,680,681,683,686,690,698,715,718,720,721,723,726,727,730,746,747,780,783,815,821,824,825,826,831,833,835,837,838,842,845,880,883,946,980,982,984,986,987,990],\"yaxis\":\"y\",\"type\":\"scatter\"},{\"customdata\":[[\"The 100\"],[\"Nymphomaniac: Volume 1\"],[\"Hunter X Hunter (2011)\"],[\"Sex, Love and Therapy\"],[\"Stronger Than the World\"],[\"Back and Forth\"],[\"The 100\"],[\"Almost Adults\"],[\"Honeytrap\"],[\"Like Cotton Twines\"],[\"Almost Adults\"],[\"Almost Adults\"],[\"The 100\"],[\"I.T\"]],\"hovertemplate\":\"Category=NR<br>Release Year=%{x}<br>index=%{y}<br>Show Title=%{customdata[0]}<extra></extra>\",\"legendgroup\":\"NR\",\"marker\":{\"color\":\"#FF6692\",\"symbol\":\"circle\"},\"mode\":\"markers\",\"name\":\"NR\",\"orientation\":\"h\",\"showlegend\":true,\"x\":[2016,2013,2013,2014,2016,2016,2016,2016,2014,2016,2016,2016,2016,2016],\"xaxis\":\"x\",\"y\":[19,22,23,37,46,47,76,149,191,194,199,249,378,448],\"yaxis\":\"y\",\"type\":\"scatter\"},{\"customdata\":[[\"Trollhunters\"],[\"Justice League\"],[\"Justice League Unlimited\"],[\"Mighty Morphin Power Rangers\"],[\"Power Rangers Zeo\"],[\"Transformers Prime\"],[\"LEGO: Marvel Super Heroes: Maximum Overload\"],[\"Max Steel\"],[\"Transformers Prime Beast Hunters: Predacons Rising\"],[\"All Hail King Julien\"],[\"Kong: King of the Apes\"],[\"Slugterra: Slug Fu Showdown\"],[\"Dinotrux\"],[\"Edgar Rice Burroughs' Tarzan and Jane\"],[\"Trollhunters\"],[\"Nexo Knights\"],[\"Justice League\"],[\"Justice League Unlimited\"],[\"Mighty Morphin Power Rangers\"],[\"Ninja Turtles: The Next Mutation\"],[\"Transformers Prime\"],[\"LEGO Ninjago: Masters of Spinjitzu\"],[\"LEGO Ninjago: Masters of Spinjitzu: Way of the Ninja\"],[\"All Hail King Julien\"],[\"The Adventures of Puss in Boots\"],[\"Kong: King of the Apes\"],[\"Dinotrux\"],[\"Edgar Rice Burroughs' Tarzan and Jane\"],[\"Kulipari: An Army of Frogs\"],[\"LEGO Bionicle: The Journey to One\"],[\"Voltron: Legendary Defender\"],[\"Trollhunters\"],[\"Pok\\u00c3\\u00a9mon: XY\"],[\"Dragons: Race to the Edge\"],[\"Dinotrux\"],[\"All Hail King Julien\"],[\"Dragons: Race to the Edge\"],[\"Dinotrux\"],[\"Dragons: Race to the Edge\"],[\"Dinotrux\"],[\"Ninja Turtles: The Next Mutation\"],[\"Dinosaur King\"],[\"Kong: King of the Apes\"],[\"Dinotrux\"]],\"hovertemplate\":\"Category=TV-Y7-FV<br>Release Year=%{x}<br>index=%{y}<br>Show Title=%{customdata[0]}<extra></extra>\",\"legendgroup\":\"TV-Y7-FV\",\"marker\":{\"color\":\"#B6E880\",\"symbol\":\"circle\"},\"mode\":\"markers\",\"name\":\"TV-Y7-FV\",\"orientation\":\"h\",\"showlegend\":true,\"x\":[2016,2003,2005,2010,1996,2013,2013,2014,2013,2016,2016,2015,2017,2017,2016,2015,2003,2005,2010,1997,2013,2015,2011,2016,2016,2016,2017,2017,2016,2016,2017,2016,2015,2017,2017,2016,2017,2017,2017,2017,1997,2008,2016,2017],\"xaxis\":\"x\",\"y\":[33,515,516,517,520,522,526,527,528,532,533,535,536,537,539,549,557,558,560,563,564,566,569,578,579,580,583,584,585,588,590,591,594,626,631,682,685,688,729,732,820,829,834,840],\"yaxis\":\"y\",\"type\":\"scatter\"},{\"customdata\":[[\"White Girl\"]],\"hovertemplate\":\"Category=UR<br>Release Year=%{x}<br>index=%{y}<br>Show Title=%{customdata[0]}<extra></extra>\",\"legendgroup\":\"UR\",\"marker\":{\"color\":\"#FF97FF\",\"symbol\":\"circle\"},\"mode\":\"markers\",\"name\":\"UR\",\"orientation\":\"h\",\"showlegend\":true,\"x\":[2016],\"xaxis\":\"x\",\"y\":[38],\"yaxis\":\"y\",\"type\":\"scatter\"},{\"customdata\":[[\"Zootopia\"],[\"Finding Dory\"],[\"Pete's Dragon\"],[\"Kubo and the Two Strings\"],[\"Queen of Katwe\"],[\"Nancy Drew\"],[\"The Great Gilly Hopkins\"],[\"The Matchbreaker\"],[\"Grease\"],[\"Coraline\"],[\"Finding Dory\"],[\"Grease\"],[\"Home\"],[\"Zootopia\"],[\"Finding Dory\"],[\"The Nightmare Before Christmas\"],[\"Scooby-Doo\"],[\"Teenage Mutant Ninja Turtles\"],[\"Star Wars: The Clone Wars\"],[\"Coraline\"],[\"Agent F.O.X.\"],[\"Marvel Super Hero Adventures: Frost Fight!\"],[\"The Jungle Book\"],[\"The Angry Birds Movie\"],[\"The Secret Life of Pets\"],[\"Marvel's Hulk: Where Monsters Dwell\"],[\"The Nightmare Before Christmas\"],[\"Scooby-Doo\"],[\"The Iron Giant\"],[\"Star Wars: The Clone Wars\"],[\"Ratchet and Clank\"],[\"Iron Man & Captain America: Heroes United\"],[\"Marvel Super Hero Adventures: Frost Fight!\"],[\"Marvel's Hulk: Where Monsters Dwell\"],[\"The Little Rascals\"],[\"Flubber\"],[\"Scooby-Doo\"],[\"Lilo & Stitch\"],[\"Scooby-Doo 2: Monsters Unleashed\"],[\"The Pacifier\"],[\"Teenage Mutant Ninja Turtles\"],[\"Bee Movie\"],[\"Kung Fu Panda\"],[\"Coraline\"],[\"Home\"],[\"Hotel Transylvania 2\"],[\"Goosebumps\"],[\"Kung Fu Panda 3\"],[\"Zootopia\"],[\"The Jungle Book\"],[\"Open Season: Scared Silly\"],[\"The Angry Birds Movie\"],[\"Alice Through the Looking Glass\"],[\"Finding Dory\"],[\"The Secret Life of Pets\"],[\"The Little Rascals\"],[\"Antz\"],[\"Lilo & Stitch\"],[\"Spy Kids 3: Game Over\"],[\"Annie\"],[\"Lilo & Stitch 2: Stitch Has A Glitch\"],[\"Teenage Mutant Ninja Turtles\"],[\"Bee Movie\"],[\"Kung Fu Panda\"],[\"Paddington\"],[\"Minions\"],[\"Hotel Transylvania 2\"],[\"The Little Prince\"],[\"Zootopia\"],[\"The Jungle Book\"],[\"Open Season: Scared Silly\"],[\"The Angry Birds Movie\"],[\"Finding Dory\"],[\"The Secret Life of Pets\"],[\"Cool Runnings\"],[\"The Little Rascals\"],[\"Scooby-Doo\"],[\"Lilo & Stitch\"],[\"Missione Hamburger\"],[\"Bee Movie\"],[\"Kung Fu Panda\"],[\"Coraline\"],[\"Home\"],[\"Paddington\"],[\"Minions\"],[\"Hotel Transylvania 2\"],[\"Kung Fu Panda 3\"],[\"Zootopia\"],[\"The Jungle Book\"],[\"Open Season: Scared Silly\"],[\"The Angry Birds Movie\"],[\"Alice Through the Looking Glass\"],[\"The BFG\"],[\"The Secret Life of Pets\"],[\"Pete's Dragon\"],[\"Kubo and the Two Strings\"],[\"Cool Runnings\"],[\"Antz\"],[\"The Prince of Egypt\"],[\"Paulie\"],[\"The Road to El Dorado\"],[\"The Iron Giant\"],[\"A Monster in Paris\"],[\"Ernest & Celestine\"],[\"Jack and the Cuckoo-Clock Heart\"],[\"Axel: The Biggest Little Hero\"],[\"Alice Through the Looking Glass\"],[\"Quackerz\"],[\"Blinky Bill: The Movie\"],[\"Flubber\"],[\"Scooby-Doo\"],[\"The Lizzie McGuire Movie\"],[\"The Iron Giant\"],[\"Delhi Safari\"],[\"Axel: The Biggest Little Hero\"],[\"Agent F.O.X.\"],[\"Ribbit\"],[\"Worms\"],[\"Hotel Transylvania 2\"],[\"The Secret Life of Pets\"],[\"Cool Runnings\"],[\"Antz\"],[\"The Prince of Egypt\"],[\"Paulie\"],[\"The Road to El Dorado\"],[\"The Iron Giant\"],[\"A Monster in Paris\"],[\"Ernest & Celestine\"],[\"Jack and the Cuckoo-Clock Heart\"],[\"Axel: The Biggest Little Hero\"],[\"Alice Through the Looking Glass\"],[\"Quackerz\"],[\"Blinky Bill: The Movie\"],[\"Cool Runnings\"],[\"Antz\"],[\"The Road to El Dorado\"],[\"Harry and the Hendersons\"],[\"Cats & Dogs\"],[\"Atlantis: The Lost Empire\"],[\"Annie\"],[\"The Iron Giant\"],[\"Corpse Bride\"],[\"Ernest & Celestine\"],[\"Underdogs\"],[\"Ribbit\"],[\"Yellowbird\"],[\"Quackerz\"],[\"Cool Runnings\"],[\"Mr. Magoo\"],[\"Flubber\"],[\"Antz\"],[\"Paulie\"],[\"The Road to El Dorado\"],[\"Harry and the Hendersons\"],[\"Cats & Dogs\"],[\"Baby's Day Out\"],[\"Blank Check\"],[\"Heavyweights\"],[\"Annie\"],[\"D2: The Mighty Ducks\"],[\"Honey, I Shrunk the Kids\"],[\"The Iron Giant\"],[\"Air Buddies\"],[\"Dr. Dolittle: Tail to the Chief\"],[\"Flicka 2\"],[\"Dolphin Tale\"],[\"Paddington\"],[\"Russell Madness\"],[\"The BFG\"],[\"The Secret Life of Pets\"]],\"hovertemplate\":\"Category=PG<br>Release Year=%{x}<br>index=%{y}<br>Show Title=%{customdata[0]}<extra></extra>\",\"legendgroup\":\"PG\",\"marker\":{\"color\":\"#FECB52\",\"symbol\":\"circle\"},\"mode\":\"markers\",\"name\":\"PG\",\"orientation\":\"h\",\"showlegend\":true,\"x\":[2016,2016,2016,2016,2016,2007,2016,2016,1978,2009,2016,1978,2015,2016,2016,1993,2002,2007,2008,2009,2014,2015,2016,2016,2016,2016,1993,2002,1999,2008,2016,2014,2015,2016,1994,1997,2002,2002,2004,2005,2007,2007,2008,2009,2015,2015,2015,2016,2016,2016,2015,2016,2016,2016,2016,1994,1998,2002,2003,1982,2005,2007,2007,2008,2014,2015,2015,2015,2016,2016,2015,2016,2016,2016,1993,1994,2002,2002,1997,2007,2008,2009,2015,2014,2015,2015,2016,2016,2016,2015,2016,2016,2016,2016,2016,2016,1993,1998,1998,1998,2000,1999,2011,2012,2013,2013,2016,2016,2015,1997,2002,2003,1999,2012,2013,2014,2014,2013,2015,2016,1993,1998,1998,1998,2000,1999,2011,2012,2013,2013,2016,2016,2015,1993,1998,2000,1987,2001,2001,1982,1999,2005,2012,2013,2014,2014,2016,1993,1997,1997,1998,1998,2000,1987,2001,1994,1994,1995,1982,1994,1989,1999,2006,2008,2010,2011,2014,2015,2016,2016],\"xaxis\":\"x\",\"y\":[86,88,91,180,184,200,236,245,252,258,293,301,340,342,343,500,501,503,504,505,529,534,542,543,544,546,550,552,553,554,573,575,581,598,600,601,604,605,606,609,611,612,613,614,623,629,632,633,634,635,637,639,640,641,642,650,651,656,657,658,661,662,663,664,678,684,687,689,691,692,694,695,696,697,700,702,706,707,708,711,712,713,724,725,728,731,734,736,737,738,740,741,742,743,744,745,750,752,754,755,757,773,779,782,787,789,795,796,798,800,804,808,814,819,827,828,830,836,839,847,850,852,854,855,857,873,879,882,887,889,895,896,898,900,903,905,908,910,911,920,927,931,936,942,944,945,948,950,951,952,954,956,957,960,961,962,966,967,970,972,973,974,976,977,978,981,988,989,995,996],\"yaxis\":\"y\",\"type\":\"scatter\"},{\"customdata\":[[\"High School Musical 2\"],[\"StarStruck\"],[\"Fuller House\"],[\"High School Musical\"],[\"High School Musical 2\"],[\"Cars Toons: Mater's Tall Tales\"],[\"Phineas and Ferb\"],[\"Oscar's Oasis\"],[\"Thomas & Friends: King of the Railway\"],[\"Thunder and the House Of Magic\"],[\"Angry Birds\"],[\"Talking Tom and Friends\"],[\"Cars Toons: Mater's Tall Tales\"],[\"Some Assembly Required\"],[\"Cars Toons: Mater's Tall Tales\"],[\"Phineas and Ferb\"],[\"Jessie\"],[\"Disney Animation Collection: Vol. 1: Mickey and the Beanstalk\"],[\"Angry Birds\"],[\"Talking Tom and Friends\"],[\"Cars Toons: Mater's Tall Tales\"],[\"Disney Animation Collection: Vol. 1: Mickey and the Beanstalk\"],[\"Barbie Life in the Dreamhouse\"],[\"Larva\"],[\"Talking Tom and Friends\"],[\"Cars Toons: Mater's Tall Tales\"],[\"Jessie\"],[\"Barbie Life in the Dreamhouse\"],[\"Walt Disney Animation Studios Short Films Collection\"],[\"Bunk'd\"],[\"Pocahontas II: Journey to a New World\"],[\"Disney Animation Collection: Vol. 4: The Tortoise and the Hare\"],[\"PopPixie\"],[\"Pet Pals in Windland\"],[\"Walt Disney Animation Studios Short Films Collection\"],[\"Alpha and Omega: Dino Digs\"],[\"Monster Math Squad\"],[\"Rooster Doodle-doo\"],[\"Alpha and Omega: Dino Digs\"],[\"Gon\"],[\"Pocahontas II: Journey to a New World\"],[\"Disney Animation Collection: Vol. 4: The Tortoise and the Hare\"],[\"PopPixie\"],[\"Pet Pals in Windland\"],[\"Walt Disney Animation Studios Short Films Collection\"],[\"Alpha and Omega: Dino Digs\"],[\"Disney Animation Collection: Vol. 1: Mickey and the Beanstalk\"],[\"Disney Animation Collection: Vol. 2: Three Little Pigs\"],[\"Disney Animation Collection: Vol. 4: The Tortoise and the Hare\"],[\"Alpha and Omega: Dino Digs\"],[\"Precious Puppies\"],[\"Beary Tales\"]],\"hovertemplate\":\"Category=TV-G<br>Release Year=%{x}<br>index=%{y}<br>Show Title=%{customdata[0]}<extra></extra>\",\"legendgroup\":\"TV-G\",\"marker\":{\"color\":\"#636efa\",\"symbol\":\"circle\"},\"mode\":\"markers\",\"name\":\"TV-G\",\"orientation\":\"h\",\"showlegend\":true,\"x\":[2007,2010,2016,2006,2007,2010,2012,2011,2013,2013,2013,2016,2010,2015,2010,2012,2015,2009,2013,2016,2010,2009,2012,2015,2016,2010,2015,2012,2015,2016,1998,2009,2011,2014,2015,2016,2012,2014,2016,2013,1998,2009,2011,2014,2015,2016,2009,2009,2009,2016,2003,2013],\"xaxis\":\"x\",\"y\":[256,262,292,304,305,510,513,521,525,531,547,548,555,582,615,616,618,619,647,649,665,673,677,679,699,714,716,722,733,735,759,785,786,792,793,794,823,832,843,844,859,885,886,892,893,894,938,939,940,992,997,998],\"yaxis\":\"y\",\"type\":\"scatter\"},{\"customdata\":[[\"Hannah Montana: The Movie\"],[\"Hannah Montana: The Movie\"],[\"Chicken Little\"],[\"The Smurfs and the Magic Flute\"],[\"We're Back! A Dinosaur's Story\"],[\"An Extremely Goofy Movie\"],[\"Super Buddies\"],[\"Growing Up Wild\"],[\"Tarzan\"],[\"The Emperor's New Groove\"],[\"The Three Musketeers\"],[\"Mickey's Twice Upon a Christmas\"],[\"Chicken Little\"],[\"The Land Before Time XIV: Journey of the Brave\"],[\"Tarzan\"],[\"An Extremely Goofy Movie\"],[\"Chicken Run\"],[\"The Emperor's New Groove\"],[\"Mulan 2\"],[\"Chicken Little\"],[\"Beverly Hills Chihuahua 3: Viva La Fiesta!\"],[\"Homeward Bound: The Incredible Journey\"],[\"Anastasia\"],[\"Tarzan\"],[\"The Emperor's New Groove\"],[\"Chicken Little\"],[\"Curious George\"],[\"Secret of the Wings\"],[\"The Land Before Time XIV: Journey of the Brave\"],[\"Growing Up Wild\"],[\"Anastasia\"],[\"Babe: Pig in the City\"],[\"Tarzan\"],[\"Fantasia 2000\"],[\"The Emperor's New Groove\"],[\"Fantasia\"],[\"An American Tail\"],[\"Pooh's Grand Adventure: The Search for Christopher Robin\"],[\"FernGully 2: The Magical Rescue\"],[\"Balto 2: Wolf Quest\"],[\"Balto\"],[\"Back to the Secret Garden\"],[\"The Brave Little Toaster Goes to Mars\"],[\"The Brave Little Toaster to the Rescue\"],[\"An American Tail: The Mystery of the Night Monster\"],[\"An American Tail: Fievel Goes West\"],[\"The Last Unicorn\"],[\"Brother Bear 2\"],[\"The Fox and the Hound 2\"],[\"The Smurfs and the Magic Flute\"],[\"Jetsons: The Movie\"],[\"We're Back! A Dinosaur's Story\"],[\"The Pirate Fairy\"],[\"The Boxcar Children\"],[\"Anastasia\"],[\"An Extremely Goofy Movie\"],[\"An American Tail\"],[\"FernGully: The Last Rainforest\"],[\"Balto 2: Wolf Quest\"],[\"Balto\"],[\"The Brave Little Toaster Goes to Mars\"],[\"The Brave Little Toaster to the Rescue\"],[\"Recess: Taking the Fifth Grade\"],[\"An American Tail: The Mystery of the Night Monster\"],[\"An American Tail: Fievel Goes West\"],[\"The Hero of Color City\"],[\"The Little Engine That Could\"],[\"The Land Before Time XIV: Journey of the Brave\"],[\"Anastasia\"],[\"Babe: Pig in the City\"],[\"Tarzan\"],[\"Fantasia 2000\"],[\"The Emperor's New Groove\"],[\"Fantasia\"],[\"An American Tail\"],[\"Pooh's Grand Adventure: The Search for Christopher Robin\"],[\"FernGully 2: The Magical Rescue\"],[\"Balto 2: Wolf Quest\"],[\"Balto\"],[\"Back to the Secret Garden\"],[\"The Brave Little Toaster Goes to Mars\"],[\"The Brave Little Toaster to the Rescue\"],[\"An American Tail: The Mystery of the Night Monster\"],[\"An American Tail: Fievel Goes West\"],[\"The Last Unicorn\"],[\"Brother Bear 2\"],[\"The Fox and the Hound 2\"],[\"The Smurfs and the Magic Flute\"],[\"Jetsons: The Movie\"],[\"We're Back! A Dinosaur's Story\"],[\"The Pirate Fairy\"],[\"The Boxcar Children\"],[\"Homeward Bound: The Incredible Journey\"],[\"Anastasia\"],[\"Babe: Pig in the City\"],[\"Fantasia 2000\"],[\"Fantasia\"],[\"Pooh's Grand Adventure: The Search for Christopher Robin\"],[\"FernGully: The Last Rainforest\"],[\"Balto 2: Wolf Quest\"],[\"Balto\"],[\"Back to the Secret Garden\"],[\"Tarzan & Jane\"],[\"Atlantis: Milo's Return\"],[\"The Brave Little Toaster Goes to Mars\"],[\"The Brave Little Toaster to the Rescue\"],[\"Recess: Taking the Fifth Grade\"],[\"An American Tail: The Mystery of the Night Monster\"],[\"Batched\"],[\"An American Tail: Fievel Goes West\"],[\"Winnie the Pooh: Springtime with Roo\"],[\"The Last Unicorn\"],[\"Mulan 2\"],[\"Pooh's Heffalump Movie\"],[\"Kronk's New Groove\"],[\"Brother Bear 2\"],[\"The Smurfs and the Magic Flute\"],[\"Jetsons: The Movie\"],[\"We're Back! A Dinosaur's Story\"],[\"The Pirate Fairy\"],[\"The Boxcar Children\"],[\"The Land Before Time XIV: Journey of the Brave\"],[\"Growing Up Wild\"],[\"Anastasia\"],[\"Babe: Pig in the City\"],[\"Air Bud: World Pup\"],[\"An American Tail\"],[\"Balto 2: Wolf Quest\"],[\"Balto\"],[\"Back to the Secret Garden\"],[\"Inspector Gadget 2\"],[\"Air Bud: Spikes Back\"],[\"An American Tail: Fievel Goes West\"],[\"The Fox and the Hound 2\"],[\"Beverly Hills Chihuahua 3: Viva La Fiesta!\"],[\"Wiener Dog Internationals\"],[\"Pup Star\"],[\"Growing Up Wild\"]],\"hovertemplate\":\"Category=G<br>Release Year=%{x}<br>index=%{y}<br>Show Title=%{customdata[0]}<extra></extra>\",\"legendgroup\":\"G\",\"marker\":{\"color\":\"#EF553B\",\"symbol\":\"circle\"},\"mode\":\"markers\",\"name\":\"G\",\"orientation\":\"h\",\"showlegend\":true,\"x\":[2009,2009,2005,1976,1993,1999,2013,2016,1999,2000,2004,2004,2005,2016,1999,1999,2000,2000,2004,2005,2012,1993,1997,1999,2000,2005,2006,2012,2016,2016,1997,1998,1999,2000,2000,1940,1986,1997,1998,2001,1995,2002,1998,1997,1999,1991,1982,2006,2006,1976,1990,1993,2014,2014,1997,1999,1986,1992,2001,1995,1998,1997,2003,1999,1991,2014,2011,2016,1997,1998,1999,2000,2000,1940,1986,1997,1998,2001,1995,2002,1998,1997,1999,1991,1982,2006,2006,1976,1990,1993,2014,2014,1993,1997,1998,2000,1940,1997,1992,2001,1995,2002,2002,2003,1998,1997,2003,1999,2000,1991,2004,1982,2004,2005,2005,2006,1976,1990,1993,2014,2014,2016,2016,1997,1998,2000,1986,2001,1995,2002,2003,2003,1991,2006,2012,2015,2016,2016],\"xaxis\":\"x\",\"y\":[259,307,502,506,507,551,570,599,602,603,607,608,610,638,652,653,654,655,659,660,668,701,703,704,705,709,710,717,739,748,751,753,756,758,760,761,762,763,764,765,766,767,768,769,770,771,772,774,775,776,777,778,788,791,801,802,803,805,806,807,809,810,811,812,813,816,818,846,851,853,856,858,860,861,862,863,864,865,866,867,868,869,870,871,872,874,875,876,877,878,888,891,901,902,904,906,907,909,912,913,914,915,916,917,918,919,921,922,923,924,925,926,928,929,930,932,933,934,935,941,943,947,949,953,955,958,959,963,964,965,968,969,971,975,983,993,994,999],\"yaxis\":\"y\",\"type\":\"scatter\"},{\"customdata\":[[\"Dino Squad\"],[\"The Batman\"],[\"The Super Mario Bros. Super Show!\"],[\"Transformers: Rescue Bots\"],[\"Lego DC Comics: Batman Be-Leaguered\"],[\"Power Rangers Dino Charge\"],[\"The Batman\"],[\"Beyblade: Metal Fusion\"],[\"Transformers: Rescue Bots\"],[\"Goosebumps\"],[\"Pac-Man and the Ghostly Adventures\"],[\"Power Rangers Super Megaforce\"],[\"Transformers: Robots in Disguise\"],[\"Lego DC Comics: Batman Be-Leaguered\"],[\"Power Rangers Dino Charge\"],[\"Power Rangers Dino Super Charge\"],[\"The Deep\"],[\"Skylanders Academy\"],[\"Lab Rats\"],[\"Dawn of the Croods\"],[\"Home: Adventures with Tip & Oh\"],[\"Goosebumps\"],[\"Home: Adventures with Tip & Oh\"],[\"The Real Ghostbusters\"],[\"Animaniacs\"],[\"The Adventures of Figaro Pho\"],[\"Hatched\"],[\"The Real Ghostbusters\"],[\"Dino Squad\"],[\"The Mr. Peabody and Sherman Show\"],[\"LEGO Jurassic World: The Indominus Escape\"],[\"The Real Ghostbusters\"],[\"Animaniacs\"],[\"The Adventures of Figaro Pho\"],[\"Hatched\"],[\"The Real Ghostbusters\"],[\"Animaniacs\"],[\"Dawn of the Croods\"]],\"hovertemplate\":\"Category=TV-Y7<br>Release Year=%{x}<br>index=%{y}<br>Show Title=%{customdata[0]}<extra></extra>\",\"legendgroup\":\"TV-Y7\",\"marker\":{\"color\":\"#00cc96\",\"symbol\":\"circle\"},\"mode\":\"markers\",\"name\":\"TV-Y7\",\"orientation\":\"h\",\"showlegend\":true,\"x\":[2008,2007,1989,2016,2014,2015,2007,2009,2016,1998,2014,2014,2016,2014,2015,2016,2015,2016,2016,2017,2017,1998,2017,1990,1997,2015,2013,1990,2008,2017,2016,1990,1997,2015,2013,1990,1997,2017],\"xaxis\":\"x\",\"y\":[509,514,519,524,538,540,556,562,567,568,574,576,586,589,593,595,596,597,620,630,636,671,693,749,784,790,797,799,817,841,848,849,884,890,897,899,937,991],\"yaxis\":\"y\",\"type\":\"scatter\"}],                        {\"template\":{\"data\":{\"histogram2dcontour\":[{\"type\":\"histogram2dcontour\",\"colorbar\":{\"outlinewidth\":0,\"ticks\":\"\"},\"colorscale\":[[0.0,\"#0d0887\"],[0.1111111111111111,\"#46039f\"],[0.2222222222222222,\"#7201a8\"],[0.3333333333333333,\"#9c179e\"],[0.4444444444444444,\"#bd3786\"],[0.5555555555555556,\"#d8576b\"],[0.6666666666666666,\"#ed7953\"],[0.7777777777777778,\"#fb9f3a\"],[0.8888888888888888,\"#fdca26\"],[1.0,\"#f0f921\"]]}],\"choropleth\":[{\"type\":\"choropleth\",\"colorbar\":{\"outlinewidth\":0,\"ticks\":\"\"}}],\"histogram2d\":[{\"type\":\"histogram2d\",\"colorbar\":{\"outlinewidth\":0,\"ticks\":\"\"},\"colorscale\":[[0.0,\"#0d0887\"],[0.1111111111111111,\"#46039f\"],[0.2222222222222222,\"#7201a8\"],[0.3333333333333333,\"#9c179e\"],[0.4444444444444444,\"#bd3786\"],[0.5555555555555556,\"#d8576b\"],[0.6666666666666666,\"#ed7953\"],[0.7777777777777778,\"#fb9f3a\"],[0.8888888888888888,\"#fdca26\"],[1.0,\"#f0f921\"]]}],\"heatmap\":[{\"type\":\"heatmap\",\"colorbar\":{\"outlinewidth\":0,\"ticks\":\"\"},\"colorscale\":[[0.0,\"#0d0887\"],[0.1111111111111111,\"#46039f\"],[0.2222222222222222,\"#7201a8\"],[0.3333333333333333,\"#9c179e\"],[0.4444444444444444,\"#bd3786\"],[0.5555555555555556,\"#d8576b\"],[0.6666666666666666,\"#ed7953\"],[0.7777777777777778,\"#fb9f3a\"],[0.8888888888888888,\"#fdca26\"],[1.0,\"#f0f921\"]]}],\"heatmapgl\":[{\"type\":\"heatmapgl\",\"colorbar\":{\"outlinewidth\":0,\"ticks\":\"\"},\"colorscale\":[[0.0,\"#0d0887\"],[0.1111111111111111,\"#46039f\"],[0.2222222222222222,\"#7201a8\"],[0.3333333333333333,\"#9c179e\"],[0.4444444444444444,\"#bd3786\"],[0.5555555555555556,\"#d8576b\"],[0.6666666666666666,\"#ed7953\"],[0.7777777777777778,\"#fb9f3a\"],[0.8888888888888888,\"#fdca26\"],[1.0,\"#f0f921\"]]}],\"contourcarpet\":[{\"type\":\"contourcarpet\",\"colorbar\":{\"outlinewidth\":0,\"ticks\":\"\"}}],\"contour\":[{\"type\":\"contour\",\"colorbar\":{\"outlinewidth\":0,\"ticks\":\"\"},\"colorscale\":[[0.0,\"#0d0887\"],[0.1111111111111111,\"#46039f\"],[0.2222222222222222,\"#7201a8\"],[0.3333333333333333,\"#9c179e\"],[0.4444444444444444,\"#bd3786\"],[0.5555555555555556,\"#d8576b\"],[0.6666666666666666,\"#ed7953\"],[0.7777777777777778,\"#fb9f3a\"],[0.8888888888888888,\"#fdca26\"],[1.0,\"#f0f921\"]]}],\"surface\":[{\"type\":\"surface\",\"colorbar\":{\"outlinewidth\":0,\"ticks\":\"\"},\"colorscale\":[[0.0,\"#0d0887\"],[0.1111111111111111,\"#46039f\"],[0.2222222222222222,\"#7201a8\"],[0.3333333333333333,\"#9c179e\"],[0.4444444444444444,\"#bd3786\"],[0.5555555555555556,\"#d8576b\"],[0.6666666666666666,\"#ed7953\"],[0.7777777777777778,\"#fb9f3a\"],[0.8888888888888888,\"#fdca26\"],[1.0,\"#f0f921\"]]}],\"mesh3d\":[{\"type\":\"mesh3d\",\"colorbar\":{\"outlinewidth\":0,\"ticks\":\"\"}}],\"scatter\":[{\"fillpattern\":{\"fillmode\":\"overlay\",\"size\":10,\"solidity\":0.2},\"type\":\"scatter\"}],\"parcoords\":[{\"type\":\"parcoords\",\"line\":{\"colorbar\":{\"outlinewidth\":0,\"ticks\":\"\"}}}],\"scatterpolargl\":[{\"type\":\"scatterpolargl\",\"marker\":{\"colorbar\":{\"outlinewidth\":0,\"ticks\":\"\"}}}],\"bar\":[{\"error_x\":{\"color\":\"#2a3f5f\"},\"error_y\":{\"color\":\"#2a3f5f\"},\"marker\":{\"line\":{\"color\":\"#E5ECF6\",\"width\":0.5},\"pattern\":{\"fillmode\":\"overlay\",\"size\":10,\"solidity\":0.2}},\"type\":\"bar\"}],\"scattergeo\":[{\"type\":\"scattergeo\",\"marker\":{\"colorbar\":{\"outlinewidth\":0,\"ticks\":\"\"}}}],\"scatterpolar\":[{\"type\":\"scatterpolar\",\"marker\":{\"colorbar\":{\"outlinewidth\":0,\"ticks\":\"\"}}}],\"histogram\":[{\"marker\":{\"pattern\":{\"fillmode\":\"overlay\",\"size\":10,\"solidity\":0.2}},\"type\":\"histogram\"}],\"scattergl\":[{\"type\":\"scattergl\",\"marker\":{\"colorbar\":{\"outlinewidth\":0,\"ticks\":\"\"}}}],\"scatter3d\":[{\"type\":\"scatter3d\",\"line\":{\"colorbar\":{\"outlinewidth\":0,\"ticks\":\"\"}},\"marker\":{\"colorbar\":{\"outlinewidth\":0,\"ticks\":\"\"}}}],\"scattermapbox\":[{\"type\":\"scattermapbox\",\"marker\":{\"colorbar\":{\"outlinewidth\":0,\"ticks\":\"\"}}}],\"scatterternary\":[{\"type\":\"scatterternary\",\"marker\":{\"colorbar\":{\"outlinewidth\":0,\"ticks\":\"\"}}}],\"scattercarpet\":[{\"type\":\"scattercarpet\",\"marker\":{\"colorbar\":{\"outlinewidth\":0,\"ticks\":\"\"}}}],\"carpet\":[{\"aaxis\":{\"endlinecolor\":\"#2a3f5f\",\"gridcolor\":\"white\",\"linecolor\":\"white\",\"minorgridcolor\":\"white\",\"startlinecolor\":\"#2a3f5f\"},\"baxis\":{\"endlinecolor\":\"#2a3f5f\",\"gridcolor\":\"white\",\"linecolor\":\"white\",\"minorgridcolor\":\"white\",\"startlinecolor\":\"#2a3f5f\"},\"type\":\"carpet\"}],\"table\":[{\"cells\":{\"fill\":{\"color\":\"#EBF0F8\"},\"line\":{\"color\":\"white\"}},\"header\":{\"fill\":{\"color\":\"#C8D4E3\"},\"line\":{\"color\":\"white\"}},\"type\":\"table\"}],\"barpolar\":[{\"marker\":{\"line\":{\"color\":\"#E5ECF6\",\"width\":0.5},\"pattern\":{\"fillmode\":\"overlay\",\"size\":10,\"solidity\":0.2}},\"type\":\"barpolar\"}],\"pie\":[{\"automargin\":true,\"type\":\"pie\"}]},\"layout\":{\"autotypenumbers\":\"strict\",\"colorway\":[\"#636efa\",\"#EF553B\",\"#00cc96\",\"#ab63fa\",\"#FFA15A\",\"#19d3f3\",\"#FF6692\",\"#B6E880\",\"#FF97FF\",\"#FECB52\"],\"font\":{\"color\":\"#2a3f5f\"},\"hovermode\":\"closest\",\"hoverlabel\":{\"align\":\"left\"},\"paper_bgcolor\":\"white\",\"plot_bgcolor\":\"#E5ECF6\",\"polar\":{\"bgcolor\":\"#E5ECF6\",\"angularaxis\":{\"gridcolor\":\"white\",\"linecolor\":\"white\",\"ticks\":\"\"},\"radialaxis\":{\"gridcolor\":\"white\",\"linecolor\":\"white\",\"ticks\":\"\"}},\"ternary\":{\"bgcolor\":\"#E5ECF6\",\"aaxis\":{\"gridcolor\":\"white\",\"linecolor\":\"white\",\"ticks\":\"\"},\"baxis\":{\"gridcolor\":\"white\",\"linecolor\":\"white\",\"ticks\":\"\"},\"caxis\":{\"gridcolor\":\"white\",\"linecolor\":\"white\",\"ticks\":\"\"}},\"coloraxis\":{\"colorbar\":{\"outlinewidth\":0,\"ticks\":\"\"}},\"colorscale\":{\"sequential\":[[0.0,\"#0d0887\"],[0.1111111111111111,\"#46039f\"],[0.2222222222222222,\"#7201a8\"],[0.3333333333333333,\"#9c179e\"],[0.4444444444444444,\"#bd3786\"],[0.5555555555555556,\"#d8576b\"],[0.6666666666666666,\"#ed7953\"],[0.7777777777777778,\"#fb9f3a\"],[0.8888888888888888,\"#fdca26\"],[1.0,\"#f0f921\"]],\"sequentialminus\":[[0.0,\"#0d0887\"],[0.1111111111111111,\"#46039f\"],[0.2222222222222222,\"#7201a8\"],[0.3333333333333333,\"#9c179e\"],[0.4444444444444444,\"#bd3786\"],[0.5555555555555556,\"#d8576b\"],[0.6666666666666666,\"#ed7953\"],[0.7777777777777778,\"#fb9f3a\"],[0.8888888888888888,\"#fdca26\"],[1.0,\"#f0f921\"]],\"diverging\":[[0,\"#8e0152\"],[0.1,\"#c51b7d\"],[0.2,\"#de77ae\"],[0.3,\"#f1b6da\"],[0.4,\"#fde0ef\"],[0.5,\"#f7f7f7\"],[0.6,\"#e6f5d0\"],[0.7,\"#b8e186\"],[0.8,\"#7fbc41\"],[0.9,\"#4d9221\"],[1,\"#276419\"]]},\"xaxis\":{\"gridcolor\":\"white\",\"linecolor\":\"white\",\"ticks\":\"\",\"title\":{\"standoff\":15},\"zerolinecolor\":\"white\",\"automargin\":true,\"zerolinewidth\":2},\"yaxis\":{\"gridcolor\":\"white\",\"linecolor\":\"white\",\"ticks\":\"\",\"title\":{\"standoff\":15},\"zerolinecolor\":\"white\",\"automargin\":true,\"zerolinewidth\":2},\"scene\":{\"xaxis\":{\"backgroundcolor\":\"#E5ECF6\",\"gridcolor\":\"white\",\"linecolor\":\"white\",\"showbackground\":true,\"ticks\":\"\",\"zerolinecolor\":\"white\",\"gridwidth\":2},\"yaxis\":{\"backgroundcolor\":\"#E5ECF6\",\"gridcolor\":\"white\",\"linecolor\":\"white\",\"showbackground\":true,\"ticks\":\"\",\"zerolinecolor\":\"white\",\"gridwidth\":2},\"zaxis\":{\"backgroundcolor\":\"#E5ECF6\",\"gridcolor\":\"white\",\"linecolor\":\"white\",\"showbackground\":true,\"ticks\":\"\",\"zerolinecolor\":\"white\",\"gridwidth\":2}},\"shapedefaults\":{\"line\":{\"color\":\"#2a3f5f\"}},\"annotationdefaults\":{\"arrowcolor\":\"#2a3f5f\",\"arrowhead\":0,\"arrowwidth\":1},\"geo\":{\"bgcolor\":\"white\",\"landcolor\":\"#E5ECF6\",\"subunitcolor\":\"white\",\"showland\":true,\"showlakes\":true,\"lakecolor\":\"white\"},\"title\":{\"x\":0.05},\"mapbox\":{\"style\":\"light\"}}},\"xaxis\":{\"anchor\":\"y\",\"domain\":[0.0,1.0],\"title\":{\"text\":\"Release Year\"}},\"yaxis\":{\"anchor\":\"x\",\"domain\":[0.0,1.0],\"title\":{\"text\":\"index\"}},\"legend\":{\"title\":{\"text\":\"Category\"},\"tracegroupgap\":0},\"margin\":{\"t\":60}},                        {\"responsive\": true}                    ).then(function(){\n",
       "                            \n",
       "var gd = document.getElementById('b6686be2-14cb-4883-beb8-5b32298a610a');\n",
       "var x = new MutationObserver(function (mutations, observer) {{\n",
       "        var display = window.getComputedStyle(gd).display;\n",
       "        if (!display || display === 'none') {{\n",
       "            console.log([gd, 'removed!']);\n",
       "            Plotly.purge(gd);\n",
       "            observer.disconnect();\n",
       "        }}\n",
       "}});\n",
       "\n",
       "// Listen for the removal of the full notebook cells\n",
       "var notebookContainer = gd.closest('#notebook-container');\n",
       "if (notebookContainer) {{\n",
       "    x.observe(notebookContainer, {childList: true});\n",
       "}}\n",
       "\n",
       "// Listen for the clearing of the current output cell\n",
       "var outputEl = gd.closest('.output');\n",
       "if (outputEl) {{\n",
       "    x.observe(outputEl, {childList: true});\n",
       "}}\n",
       "\n",
       "                        })                };                });            </script>        </div>"
      ]
     },
     "metadata": {},
     "output_type": "display_data"
    }
   ],
   "source": [
    "px.scatter(df, x='Release Year', color='Category', hover_data=['Show Title'])"
   ]
  },
  {
   "cell_type": "markdown",
   "id": "af03984e",
   "metadata": {},
   "source": [
    "#### This interactive scatter plot distributes the categories of content on the basis of their released year. Thus we can understand the proportion of releases of the Movies/TV shows across all the years when we hover on it. As we hover over the dots, the pop up will display the Category from the legend,  Release year, index and Show Title in the same color as the dot."
   ]
  },
  {
   "cell_type": "markdown",
   "id": "43c2ac35",
   "metadata": {},
   "source": [
    "### Contextual Visualization: Reading in the contextual dataset from a Kaggle\n",
    "\n",
    "About this Dataset: Netflix is one of the most popular media and video streaming platforms. They have over 8000 movies or tv shows available on their platform, as of mid-2021, they have over 200M Subscribers globally. This tabular dataset consists of listings of all the movies and tv shows available on Netflix, along with details such as - cast, directors, ratings, release year, duration, etc."
   ]
  },
  {
   "cell_type": "code",
   "execution_count": 30,
   "id": "69708e5f",
   "metadata": {},
   "outputs": [
    {
     "data": {
      "text/html": [
       "<div>\n",
       "<style scoped>\n",
       "    .dataframe tbody tr th:only-of-type {\n",
       "        vertical-align: middle;\n",
       "    }\n",
       "\n",
       "    .dataframe tbody tr th {\n",
       "        vertical-align: top;\n",
       "    }\n",
       "\n",
       "    .dataframe thead th {\n",
       "        text-align: right;\n",
       "    }\n",
       "</style>\n",
       "<table border=\"1\" class=\"dataframe\">\n",
       "  <thead>\n",
       "    <tr style=\"text-align: right;\">\n",
       "      <th></th>\n",
       "      <th>show_id</th>\n",
       "      <th>type</th>\n",
       "      <th>title</th>\n",
       "      <th>director</th>\n",
       "      <th>cast</th>\n",
       "      <th>country</th>\n",
       "      <th>date_added</th>\n",
       "      <th>release_year</th>\n",
       "      <th>rating</th>\n",
       "      <th>duration</th>\n",
       "      <th>listed_in</th>\n",
       "      <th>description</th>\n",
       "    </tr>\n",
       "  </thead>\n",
       "  <tbody>\n",
       "    <tr>\n",
       "      <th>0</th>\n",
       "      <td>s1</td>\n",
       "      <td>Movie</td>\n",
       "      <td>Dick Johnson Is Dead</td>\n",
       "      <td>Kirsten Johnson</td>\n",
       "      <td>NaN</td>\n",
       "      <td>United States</td>\n",
       "      <td>September 25, 2021</td>\n",
       "      <td>2020</td>\n",
       "      <td>PG-13</td>\n",
       "      <td>90 min</td>\n",
       "      <td>Documentaries</td>\n",
       "      <td>As her father nears the end of his life, filmm...</td>\n",
       "    </tr>\n",
       "    <tr>\n",
       "      <th>1</th>\n",
       "      <td>s2</td>\n",
       "      <td>TV Show</td>\n",
       "      <td>Blood &amp; Water</td>\n",
       "      <td>NaN</td>\n",
       "      <td>Ama Qamata, Khosi Ngema, Gail Mabalane, Thaban...</td>\n",
       "      <td>South Africa</td>\n",
       "      <td>September 24, 2021</td>\n",
       "      <td>2021</td>\n",
       "      <td>TV-MA</td>\n",
       "      <td>2 Seasons</td>\n",
       "      <td>International TV Shows, TV Dramas, TV Mysteries</td>\n",
       "      <td>After crossing paths at a party, a Cape Town t...</td>\n",
       "    </tr>\n",
       "    <tr>\n",
       "      <th>2</th>\n",
       "      <td>s3</td>\n",
       "      <td>TV Show</td>\n",
       "      <td>Ganglands</td>\n",
       "      <td>Julien Leclercq</td>\n",
       "      <td>Sami Bouajila, Tracy Gotoas, Samuel Jouy, Nabi...</td>\n",
       "      <td>NaN</td>\n",
       "      <td>September 24, 2021</td>\n",
       "      <td>2021</td>\n",
       "      <td>TV-MA</td>\n",
       "      <td>1 Season</td>\n",
       "      <td>Crime TV Shows, International TV Shows, TV Act...</td>\n",
       "      <td>To protect his family from a powerful drug lor...</td>\n",
       "    </tr>\n",
       "    <tr>\n",
       "      <th>3</th>\n",
       "      <td>s4</td>\n",
       "      <td>TV Show</td>\n",
       "      <td>Jailbirds New Orleans</td>\n",
       "      <td>NaN</td>\n",
       "      <td>NaN</td>\n",
       "      <td>NaN</td>\n",
       "      <td>September 24, 2021</td>\n",
       "      <td>2021</td>\n",
       "      <td>TV-MA</td>\n",
       "      <td>1 Season</td>\n",
       "      <td>Docuseries, Reality TV</td>\n",
       "      <td>Feuds, flirtations and toilet talk go down amo...</td>\n",
       "    </tr>\n",
       "    <tr>\n",
       "      <th>4</th>\n",
       "      <td>s5</td>\n",
       "      <td>TV Show</td>\n",
       "      <td>Kota Factory</td>\n",
       "      <td>NaN</td>\n",
       "      <td>Mayur More, Jitendra Kumar, Ranjan Raj, Alam K...</td>\n",
       "      <td>India</td>\n",
       "      <td>September 24, 2021</td>\n",
       "      <td>2021</td>\n",
       "      <td>TV-MA</td>\n",
       "      <td>2 Seasons</td>\n",
       "      <td>International TV Shows, Romantic TV Shows, TV ...</td>\n",
       "      <td>In a city of coaching centers known to train I...</td>\n",
       "    </tr>\n",
       "    <tr>\n",
       "      <th>...</th>\n",
       "      <td>...</td>\n",
       "      <td>...</td>\n",
       "      <td>...</td>\n",
       "      <td>...</td>\n",
       "      <td>...</td>\n",
       "      <td>...</td>\n",
       "      <td>...</td>\n",
       "      <td>...</td>\n",
       "      <td>...</td>\n",
       "      <td>...</td>\n",
       "      <td>...</td>\n",
       "      <td>...</td>\n",
       "    </tr>\n",
       "    <tr>\n",
       "      <th>8802</th>\n",
       "      <td>s8803</td>\n",
       "      <td>Movie</td>\n",
       "      <td>Zodiac</td>\n",
       "      <td>David Fincher</td>\n",
       "      <td>Mark Ruffalo, Jake Gyllenhaal, Robert Downey J...</td>\n",
       "      <td>United States</td>\n",
       "      <td>November 20, 2019</td>\n",
       "      <td>2007</td>\n",
       "      <td>R</td>\n",
       "      <td>158 min</td>\n",
       "      <td>Cult Movies, Dramas, Thrillers</td>\n",
       "      <td>A political cartoonist, a crime reporter and a...</td>\n",
       "    </tr>\n",
       "    <tr>\n",
       "      <th>8803</th>\n",
       "      <td>s8804</td>\n",
       "      <td>TV Show</td>\n",
       "      <td>Zombie Dumb</td>\n",
       "      <td>NaN</td>\n",
       "      <td>NaN</td>\n",
       "      <td>NaN</td>\n",
       "      <td>July 1, 2019</td>\n",
       "      <td>2018</td>\n",
       "      <td>TV-Y7</td>\n",
       "      <td>2 Seasons</td>\n",
       "      <td>Kids' TV, Korean TV Shows, TV Comedies</td>\n",
       "      <td>While living alone in a spooky town, a young g...</td>\n",
       "    </tr>\n",
       "    <tr>\n",
       "      <th>8804</th>\n",
       "      <td>s8805</td>\n",
       "      <td>Movie</td>\n",
       "      <td>Zombieland</td>\n",
       "      <td>Ruben Fleischer</td>\n",
       "      <td>Jesse Eisenberg, Woody Harrelson, Emma Stone, ...</td>\n",
       "      <td>United States</td>\n",
       "      <td>November 1, 2019</td>\n",
       "      <td>2009</td>\n",
       "      <td>R</td>\n",
       "      <td>88 min</td>\n",
       "      <td>Comedies, Horror Movies</td>\n",
       "      <td>Looking to survive in a world taken over by zo...</td>\n",
       "    </tr>\n",
       "    <tr>\n",
       "      <th>8805</th>\n",
       "      <td>s8806</td>\n",
       "      <td>Movie</td>\n",
       "      <td>Zoom</td>\n",
       "      <td>Peter Hewitt</td>\n",
       "      <td>Tim Allen, Courteney Cox, Chevy Chase, Kate Ma...</td>\n",
       "      <td>United States</td>\n",
       "      <td>January 11, 2020</td>\n",
       "      <td>2006</td>\n",
       "      <td>PG</td>\n",
       "      <td>88 min</td>\n",
       "      <td>Children &amp; Family Movies, Comedies</td>\n",
       "      <td>Dragged from civilian life, a former superhero...</td>\n",
       "    </tr>\n",
       "    <tr>\n",
       "      <th>8806</th>\n",
       "      <td>s8807</td>\n",
       "      <td>Movie</td>\n",
       "      <td>Zubaan</td>\n",
       "      <td>Mozez Singh</td>\n",
       "      <td>Vicky Kaushal, Sarah-Jane Dias, Raaghav Chanan...</td>\n",
       "      <td>India</td>\n",
       "      <td>March 2, 2019</td>\n",
       "      <td>2015</td>\n",
       "      <td>TV-14</td>\n",
       "      <td>111 min</td>\n",
       "      <td>Dramas, International Movies, Music &amp; Musicals</td>\n",
       "      <td>A scrappy but poor boy worms his way into a ty...</td>\n",
       "    </tr>\n",
       "  </tbody>\n",
       "</table>\n",
       "<p>8807 rows × 12 columns</p>\n",
       "</div>"
      ],
      "text/plain": [
       "     show_id     type                  title         director  \\\n",
       "0         s1    Movie   Dick Johnson Is Dead  Kirsten Johnson   \n",
       "1         s2  TV Show          Blood & Water              NaN   \n",
       "2         s3  TV Show              Ganglands  Julien Leclercq   \n",
       "3         s4  TV Show  Jailbirds New Orleans              NaN   \n",
       "4         s5  TV Show           Kota Factory              NaN   \n",
       "...      ...      ...                    ...              ...   \n",
       "8802   s8803    Movie                 Zodiac    David Fincher   \n",
       "8803   s8804  TV Show            Zombie Dumb              NaN   \n",
       "8804   s8805    Movie             Zombieland  Ruben Fleischer   \n",
       "8805   s8806    Movie                   Zoom     Peter Hewitt   \n",
       "8806   s8807    Movie                 Zubaan      Mozez Singh   \n",
       "\n",
       "                                                   cast        country  \\\n",
       "0                                                   NaN  United States   \n",
       "1     Ama Qamata, Khosi Ngema, Gail Mabalane, Thaban...   South Africa   \n",
       "2     Sami Bouajila, Tracy Gotoas, Samuel Jouy, Nabi...            NaN   \n",
       "3                                                   NaN            NaN   \n",
       "4     Mayur More, Jitendra Kumar, Ranjan Raj, Alam K...          India   \n",
       "...                                                 ...            ...   \n",
       "8802  Mark Ruffalo, Jake Gyllenhaal, Robert Downey J...  United States   \n",
       "8803                                                NaN            NaN   \n",
       "8804  Jesse Eisenberg, Woody Harrelson, Emma Stone, ...  United States   \n",
       "8805  Tim Allen, Courteney Cox, Chevy Chase, Kate Ma...  United States   \n",
       "8806  Vicky Kaushal, Sarah-Jane Dias, Raaghav Chanan...          India   \n",
       "\n",
       "              date_added  release_year rating   duration  \\\n",
       "0     September 25, 2021          2020  PG-13     90 min   \n",
       "1     September 24, 2021          2021  TV-MA  2 Seasons   \n",
       "2     September 24, 2021          2021  TV-MA   1 Season   \n",
       "3     September 24, 2021          2021  TV-MA   1 Season   \n",
       "4     September 24, 2021          2021  TV-MA  2 Seasons   \n",
       "...                  ...           ...    ...        ...   \n",
       "8802   November 20, 2019          2007      R    158 min   \n",
       "8803        July 1, 2019          2018  TV-Y7  2 Seasons   \n",
       "8804    November 1, 2019          2009      R     88 min   \n",
       "8805    January 11, 2020          2006     PG     88 min   \n",
       "8806       March 2, 2019          2015  TV-14    111 min   \n",
       "\n",
       "                                              listed_in  \\\n",
       "0                                         Documentaries   \n",
       "1       International TV Shows, TV Dramas, TV Mysteries   \n",
       "2     Crime TV Shows, International TV Shows, TV Act...   \n",
       "3                                Docuseries, Reality TV   \n",
       "4     International TV Shows, Romantic TV Shows, TV ...   \n",
       "...                                                 ...   \n",
       "8802                     Cult Movies, Dramas, Thrillers   \n",
       "8803             Kids' TV, Korean TV Shows, TV Comedies   \n",
       "8804                            Comedies, Horror Movies   \n",
       "8805                 Children & Family Movies, Comedies   \n",
       "8806     Dramas, International Movies, Music & Musicals   \n",
       "\n",
       "                                            description  \n",
       "0     As her father nears the end of his life, filmm...  \n",
       "1     After crossing paths at a party, a Cape Town t...  \n",
       "2     To protect his family from a powerful drug lor...  \n",
       "3     Feuds, flirtations and toilet talk go down amo...  \n",
       "4     In a city of coaching centers known to train I...  \n",
       "...                                                 ...  \n",
       "8802  A political cartoonist, a crime reporter and a...  \n",
       "8803  While living alone in a spooky town, a young g...  \n",
       "8804  Looking to survive in a world taken over by zo...  \n",
       "8805  Dragged from civilian life, a former superhero...  \n",
       "8806  A scrappy but poor boy worms his way into a ty...  \n",
       "\n",
       "[8807 rows x 12 columns]"
      ]
     },
     "execution_count": 30,
     "metadata": {},
     "output_type": "execute_result"
    }
   ],
   "source": [
    "cntx_viz = pd.read_csv('data/netflix_titles.csv')\n",
    "cntx_viz"
   ]
  },
  {
   "cell_type": "markdown",
   "id": "da1a953f",
   "metadata": {},
   "source": [
    "### Movie Genres"
   ]
  },
  {
   "cell_type": "code",
   "execution_count": 31,
   "id": "63747b0d",
   "metadata": {},
   "outputs": [],
   "source": [
    "from sklearn.preprocessing import MultiLabelBinarizer \n",
    "\n",
    "import matplotlib.colors\n",
    "\n",
    "\n",
    "# Custom colour map based on Netflix palette\n",
    "cmap = matplotlib.colors.LinearSegmentedColormap.from_list(\"\", ['#221f1f', '#b20710','#f5f5f1'])\n",
    "\n",
    "\n",
    "\n",
    "def genre_heatmap(cntx_viz, title):\n",
    "    cntx_viz['genre'] = cntx_viz['listed_in'].apply(lambda x :  x.replace(' ,',',').replace(', ',',').split(',')) \n",
    "    Types = []\n",
    "    for i in cntx_viz['genre']: Types += i\n",
    "    Types = set(Types)\n",
    "    print(\"There are {} types in the Netflix {} Dataset\".format(len(Types),title))    \n",
    "    test = cntx_viz['genre']\n",
    "    mlb = MultiLabelBinarizer()\n",
    "    res = pd.DataFrame(mlb.fit_transform(test), columns=mlb.classes_, index=test.index)\n",
    "    corr = res.corr()\n",
    "    mask = np.zeros_like(corr, dtype=np.bool)\n",
    "    mask[np.triu_indices_from(mask)] = True\n",
    "    fig, ax = plt.subplots(figsize=(10, 7))\n",
    "    fig.text(.54,.88,'Genre correlation', fontfamily='serif',fontweight='bold',fontsize=15)\n",
    "    fig.text(.75,.665,\n",
    "            '''\n",
    "             It is interesting that Independant Movies\n",
    "             tend to be Dramas. \n",
    "             \n",
    "             Another observation is that \n",
    "             Internatinal Movies are rarely\n",
    "             in the Children's genre.\n",
    "             ''', fontfamily='serif',fontsize=12,ha='right')\n",
    "    pl = sns.heatmap(corr, mask=mask, cmap=cmap, vmax=.3, vmin=-.3, center=0, square=True, linewidths=2.5)"
   ]
  },
  {
   "cell_type": "markdown",
   "id": "223c44e3",
   "metadata": {},
   "source": [
    "####  The data for the heatmap in the above function called genre_heatmap. We will now create the heatmap."
   ]
  },
  {
   "cell_type": "code",
   "execution_count": 32,
   "id": "b496dd97",
   "metadata": {
    "scrolled": true
   },
   "outputs": [
    {
     "name": "stderr",
     "output_type": "stream",
     "text": [
      "C:\\Users\\ujjay\\anaconda3\\envs\\DataViz\\lib\\site-packages\\ipykernel_launcher.py:12: SettingWithCopyWarning:\n",
      "\n",
      "\n",
      "A value is trying to be set on a copy of a slice from a DataFrame.\n",
      "Try using .loc[row_indexer,col_indexer] = value instead\n",
      "\n",
      "See the caveats in the documentation: https://pandas.pydata.org/pandas-docs/stable/user_guide/indexing.html#returning-a-view-versus-a-copy\n",
      "\n",
      "C:\\Users\\ujjay\\anaconda3\\envs\\DataViz\\lib\\site-packages\\ipykernel_launcher.py:21: DeprecationWarning:\n",
      "\n",
      "`np.bool` is a deprecated alias for the builtin `bool`. To silence this warning, use `bool` by itself. Doing this will not modify any behavior and is safe. If you specifically wanted the numpy scalar type, use `np.bool_` here.\n",
      "Deprecated in NumPy 1.20; for more details and guidance: https://numpy.org/devdocs/release/1.20.0-notes.html#deprecations\n",
      "\n"
     ]
    },
    {
     "name": "stdout",
     "output_type": "stream",
     "text": [
      "There are 20 types in the Netflix Movie Dataset\n"
     ]
    },
    {
     "data": {
      "image/png": "[encoded data removed]",
      "text/plain": [
       "<Figure size 720x504 with 2 Axes>"
      ]
     },
     "metadata": {
      "needs_background": "light"
     },
     "output_type": "display_data"
    }
   ],
   "source": [
    "df_tv = cntx_viz[cntx_viz[\"type\"] == \"TV Show\"]\n",
    "df_movies = cntx_viz[cntx_viz[\"type\"] == \"Movie\"]\n",
    "\n",
    "\n",
    "genre_heatmap(df_movies, 'Movie')\n",
    "plt.show()"
   ]
  },
  {
   "cell_type": "markdown",
   "id": "38b52556",
   "metadata": {},
   "source": [
    "#### As seen in the output, the correlation between the movies and genres are shown here in the shades of red. For example, Sports Movies and Documentaries has positive correlation of 0.2. One of the lowest correlation value of -0.3 is between Dramas and Documentaries."
   ]
  },
  {
   "cell_type": "markdown",
   "id": "0fff9d62",
   "metadata": {},
   "source": [
    "### Ratings "
   ]
  },
  {
   "cell_type": "markdown",
   "id": "743a3563",
   "metadata": {},
   "source": [
    "We will initialize a flag which will store the count. Then, we create a dataframe of ratings vs count."
   ]
  },
  {
   "cell_type": "code",
   "execution_count": 33,
   "id": "f16a45ed",
   "metadata": {},
   "outputs": [],
   "source": [
    "cntx_viz['count'] = 1\n",
    "order = pd.DataFrame(cntx_viz.groupby('rating')['count'].sum().sort_values(ascending=False).reset_index())\n",
    "rating_order = list(order['rating'])"
   ]
  },
  {
   "cell_type": "code",
   "execution_count": 34,
   "id": "ac24c8d2",
   "metadata": {},
   "outputs": [
    {
     "data": {
      "image/png": "[encoded data removed]",
      "text/plain": [
       "<Figure size 864x432 with 1 Axes>"
      ]
     },
     "metadata": {
      "needs_background": "light"
     },
     "output_type": "display_data"
    }
   ],
   "source": [
    "mf = cntx_viz.groupby('type')['rating'].value_counts().unstack().sort_index().fillna(0).astype(int)[rating_order]\n",
    "\n",
    "movie = mf.loc['Movie']\n",
    "tv = - mf.loc['TV Show']\n",
    "\n",
    "\n",
    "fig, ax = plt.subplots(1,1, figsize=(12, 6))\n",
    "ax.bar(movie.index, movie, width=0.5, color='#b20710', alpha=0.8, label='Movie')\n",
    "ax.bar(tv.index, tv, width=0.5, color='#221f1f', alpha=0.8, label='TV Show')\n",
    "#ax.set_ylim(-35, 50)\n",
    "\n",
    "# Annotations\n",
    "for i in tv.index:\n",
    "    ax.annotate(f\"{-tv[i]}\", \n",
    "                   xy=(i, tv[i] - 60),\n",
    "                   va = 'center', ha='center',fontweight='light', fontfamily='serif',\n",
    "                   color='#4a4a4a')   \n",
    "\n",
    "for i in movie.index:\n",
    "    ax.annotate(f\"{movie[i]}\", \n",
    "                   xy=(i, movie[i] + 60),\n",
    "                   va = 'center', ha='center',fontweight='light', fontfamily='serif',\n",
    "                   color='#4a4a4a')\n",
    "    \n",
    " \n",
    "\n",
    "for s in ['top', 'left', 'right', 'bottom']:\n",
    "    ax.spines[s].set_visible(False)\n",
    "\n",
    "ax.set_xticklabels(mf.columns, fontfamily='serif')\n",
    "ax.set_yticks([])    \n",
    "\n",
    "ax.legend().set_visible(False)\n",
    "fig.text(0.16, 1, 'Rating distribution by Film & TV Show', fontsize=15, fontweight='bold', fontfamily='serif')\n",
    "fig.text(0.16, 0.89, \n",
    "'''We observe that some ratings are only applicable to Movies. \n",
    "The most common for both Movies & TV Shows are TV-MA and TV-14.\n",
    "'''\n",
    "\n",
    ", fontsize=12, fontweight='light', fontfamily='serif')\n",
    "\n",
    "\n",
    "fig.text(0.755,0.924,\"Movie\", fontweight=\"bold\", fontfamily='serif', fontsize=15, color='#b20710')\n",
    "fig.text(0.815,0.924,\"|\", fontweight=\"bold\", fontfamily='serif', fontsize=15, color='black')\n",
    "fig.text(0.825,0.924,\"TV Show\", fontweight=\"bold\", fontfamily='serif', fontsize=15, color='#221f1f')\n",
    "\n",
    "plt.show()"
   ]
  },
  {
   "cell_type": "markdown",
   "id": "6fd8e25b",
   "metadata": {},
   "source": [
    "### Changes"
   ]
  },
  {
   "cell_type": "code",
   "execution_count": 35,
   "id": "930166d9",
   "metadata": {},
   "outputs": [],
   "source": [
    "cntx_viz[\"date_added\"] = pd.to_datetime(cntx_viz['date_added'])\n",
    "cntx_viz['year_added'] = cntx_viz['date_added'].dt.year"
   ]
  },
  {
   "cell_type": "markdown",
   "id": "6909eb9e",
   "metadata": {},
   "source": [
    "#### In the above code, we have added the datetime to the date_added column to convert it in that type. We have then stripped the year from the datetime to store it separately."
   ]
  },
  {
   "cell_type": "code",
   "execution_count": 36,
   "id": "3d536999",
   "metadata": {
    "scrolled": true
   },
   "outputs": [
    {
     "data": {
      "image/png": "[encoded data removed]",
      "text/plain": [
       "<Figure size 864x432 with 1 Axes>"
      ]
     },
     "metadata": {
      "needs_background": "light"
     },
     "output_type": "display_data"
    }
   ],
   "source": [
    "fig, ax = plt.subplots(1, 1, figsize=(12, 6))\n",
    "color = [\"#b20710\", \"#221f1f\"]\n",
    "\n",
    "for i, mtv in enumerate(cntx_viz['type'].value_counts().index):\n",
    "    mtv_rel = cntx_viz[cntx_viz['type']==mtv]['year_added'].value_counts().sort_index()\n",
    "    ax.plot(mtv_rel.index, mtv_rel, color=color[i], label=mtv)\n",
    "    ax.fill_between(mtv_rel.index, 0, mtv_rel, color=color[i], alpha=0.9)\n",
    "    \n",
    "ax.yaxis.tick_right()\n",
    "    \n",
    "ax.axhline(y = 0, color = 'black', linewidth = 1.3, alpha = .7)\n",
    "\n",
    "#ax.set_ylim(0, 50)\n",
    "#ax.legend(loc='upper left')\n",
    "for s in ['top', 'right','bottom','left']:\n",
    "    ax.spines[s].set_visible(False)\n",
    "\n",
    "ax.grid(False)\n",
    "\n",
    "ax.set_xlim(2008,2020)\n",
    "plt.xticks(np.arange(2008, 2021, 1))\n",
    "\n",
    "fig.text(0.13, 0.85, 'Movies & TV Shows added over time', fontsize=15, fontweight='bold', fontfamily='serif')\n",
    "fig.text(0.13, 0.59, \n",
    "'''We see a slow start for Netflix over several years. \n",
    "Things begin to pick up in 2015 and then there is a \n",
    "rapid increase from 2016.\n",
    "\n",
    "It looks like content additions have slowed down in 2020, \n",
    "likely due to the COVID-19 pandemic.\n",
    "'''\n",
    "\n",
    ", fontsize=12, fontweight='light', fontfamily='serif')\n",
    "\n",
    "\n",
    "fig.text(0.13,0.2,\"Movie\", fontweight=\"bold\", fontfamily='serif', fontsize=15, color='#b20710')\n",
    "fig.text(0.19,0.2,\"|\", fontweight=\"bold\", fontfamily='serif', fontsize=15, color='black')\n",
    "fig.text(0.2,0.2,\"TV Show\", fontweight=\"bold\", fontfamily='serif', fontsize=15, color='#221f1f')\n",
    "\n",
    "ax.tick_params(axis=u'both', which=u'both',length=0)\n",
    "\n",
    "plt.show()"
   ]
  },
  {
   "cell_type": "markdown",
   "id": "6b3c24b6",
   "metadata": {},
   "source": [
    "#### As seen in the years, both the movies & TV shows have grown almost exponentially on Netflix. It is the most streamed OTT platform. The movies are more popular and in more number compared to the TV shows. The red colored data represents the movies and black represents the TV shows"
   ]
  },
  {
   "cell_type": "markdown",
   "id": "c2ff14e8",
   "metadata": {},
   "source": [
    "#### Learnings from the project:\n",
    "\n",
    "We learned how to perform explanatory data analysis on the Netflix data. The visualizations have been made interactive with drop downs, labels, hover pop ups, etc. A new kind of library was used for wordcloud which we have previously not explored. It helped us identify the category with the boldness and size of words in wordcloud. We also learned how to use mybinder to present these visuals in a proper manner rather than simply share jupyter notebook. It can be hosted the the link can be shared for future references which is very helpful\n",
    "\n",
    "\n",
    "I learned from Ankita how to import and setup wordcloud library, how to interpret the interactivity of the visualizations. We found the new dataset and tried to cross check some of the results with the first dataset especially factors that were directly related to the years and genres. "
   ]
  },
  {
   "cell_type": "markdown",
   "id": "6a739109",
   "metadata": {},
   "source": [
    "#### What things went according to your group work plan\n",
    "\n",
    "We planned on finding the popularity of the show mainly based on user ratings which went well in the early visualizations but then there were more factors that affected the ratings apart from the users. The user rating size helped in understanding how the ratings would have been turned into low average if the size of the users was very large. \n",
    "\n",
    "\n",
    "#### Things you'd like to do differently next time\n",
    "\n",
    "The contextual dataset that we found while working on this project turned out to be more suitable for future visualizations scopes because of the values and variety of the data. If we had found it before, we would have used it as our primary dataset. Nonetheless, we will spend more time on trying out more datasets before finalizing on one."
   ]
  },
  {
   "cell_type": "markdown",
   "id": "efb93971",
   "metadata": {},
   "source": [
    "References:\n",
    "1. https://www.analyticsvidhya.com/blog/2021/07/visualizing-netflix-data-using-python/\n",
    "2. https://www.kaggle.com/datasets/shivamb/netflix-shows?resource=download\n",
    "3. https://www.analyticsvidhya.com/blog/2021/05/how-to-build-word-cloud-in-python/\n",
    "4. https://scikit-learn.org/stable/modules/generated/sklearn.preprocessing.MultiLabelBinarizer.html "
   ]
  },
  {
   "cell_type": "code",
   "execution_count": null,
   "id": "d76ffbf3",
   "metadata": {},
   "outputs": [],
   "source": []
  }
 ],
 "metadata": {
  "kernelspec": {
   "display_name": "Python 3 (ipykernel)",
   "language": "python",
   "name": "python3"
  },
  "language_info": {
   "codemirror_mode": {
    "name": "ipython",
    "version": 3
   },
   "file_extension": ".py",
   "mimetype": "text/x-python",
   "name": "python",
   "nbconvert_exporter": "python",
   "pygments_lexer": "ipython3",
   "version": "3.7.12"
  }
 },
 "nbformat": 4,
 "nbformat_minor": 5
}
